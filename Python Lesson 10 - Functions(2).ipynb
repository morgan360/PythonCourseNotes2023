{
 "cells": [
  {
   "cell_type": "markdown",
   "metadata": {},
   "source": [
    "version 2.3 (Author: Morgan McKnight)"
   ]
  },
  {
   "cell_type": "markdown",
   "metadata": {},
   "source": [
    "# Functions Part 2\n",
    "<img src=\"images/functions.png\" alt=\"Drawing\" style=\"height: 400px;\"/>\n",
    "<br>\n",
    "<b>Learning Outcomes</b><br>\n",
    "At the end of this lesson you will be comfortable with using the following Python function Types:\n",
    "<ul>\n",
    "    <li>Recursive Functions</li>\n",
    "<li>lambda functions</li>\n",
    "<li>The map() Function</li>\n",
    "<li>The filter() Function</li>\n",
    "<li>List Comprehensions</li>\n",
    "</ul>\n"
   ]
  },
  {
   "cell_type": "code",
   "execution_count": null,
   "metadata": {},
   "outputs": [],
   "source": [
    "from IPython.display import YouTubeVideo\n",
    "# a talk about IPython at Sage Days at U. Washington, Seattle.\n",
    "# Video credit: William Stein.https://youtu.be/9Os0o3wzS_I\n",
    "YouTubeVideo('9Os0o3wzS_I')"
   ]
  },
  {
   "cell_type": "markdown",
   "metadata": {},
   "source": [
    "## Revision"
   ]
  },
  {
   "cell_type": "markdown",
   "metadata": {},
   "source": [
    "### Function with No arguments\n"
   ]
  },
  {
   "cell_type": "code",
   "execution_count": 11,
   "metadata": {},
   "outputs": [],
   "source": [
    "# Function with No arguments\n",
    "def what_time_is_it():\n",
    "    from datetime import datetime\n",
    "    now = datetime.now()\n",
    "    current_time = now.strftime(\"%m- %H:%M:%S\")\n",
    "    print(\"Current Time =\", current_time)"
   ]
  },
  {
   "cell_type": "code",
   "execution_count": 12,
   "metadata": {
    "scrolled": true
   },
   "outputs": [
    {
     "name": "stdout",
     "output_type": "stream",
     "text": [
      "Current Time = 08- 18:41:12\n"
     ]
    }
   ],
   "source": [
    "# call it when ever you need it\n",
    "what_time_is_it()"
   ]
  },
  {
   "cell_type": "markdown",
   "metadata": {},
   "source": [
    "### Function with multiple arguments"
   ]
  },
  {
   "cell_type": "code",
   "execution_count": 15,
   "metadata": {},
   "outputs": [],
   "source": [
    "# Function with multiple arguments\n",
    "def average(a , b, c):\n",
    "    ''' Function To calculate the average of 3 numbers '''\n",
    "    return (a+b+c)/3"
   ]
  },
  {
   "cell_type": "code",
   "execution_count": 19,
   "metadata": {},
   "outputs": [
    {
     "ename": "TypeError",
     "evalue": "average() missing 1 required positional argument: 'c'",
     "output_type": "error",
     "traceback": [
      "\u001b[0;31m---------------------------------------------------------------------------\u001b[0m",
      "\u001b[0;31mTypeError\u001b[0m                                 Traceback (most recent call last)",
      "Input \u001b[0;32mIn [19]\u001b[0m, in \u001b[0;36m<cell line: 2>\u001b[0;34m()\u001b[0m\n\u001b[1;32m      1\u001b[0m \u001b[38;5;66;03m# Problem Function\u001b[39;00m\n\u001b[0;32m----> 2\u001b[0m result \u001b[38;5;241m=\u001b[39m \u001b[43maverage\u001b[49m\u001b[43m(\u001b[49m\u001b[38;5;241;43m40\u001b[39;49m\u001b[43m \u001b[49m\u001b[43m,\u001b[49m\u001b[43m \u001b[49m\u001b[38;5;241;43m50\u001b[39;49m\u001b[43m,\u001b[49m\u001b[43m \u001b[49m\u001b[43m)\u001b[49m\n\u001b[1;32m      3\u001b[0m \u001b[38;5;28mprint\u001b[39m(result)\n",
      "\u001b[0;31mTypeError\u001b[0m: average() missing 1 required positional argument: 'c'"
     ]
    }
   ],
   "source": [
    "# Problem Function\n",
    "result = average(40 , 50, )\n",
    "print(result)"
   ]
  },
  {
   "cell_type": "markdown",
   "metadata": {},
   "source": [
    "### Functions with a variable number of arguments"
   ]
  },
  {
   "cell_type": "code",
   "execution_count": 20,
   "metadata": {},
   "outputs": [],
   "source": [
    "# Functions with a variable number of arguments\n",
    "\n",
    "def calculateAverage(*args):\n",
    "    ''' Calculates the average of n numbers | Accepts variable length arguments '''\n",
    "    # get the number of total arguments passed \n",
    "    argCount = len(args)\n",
    "    if argCount > 0 :\n",
    "        sumOfNums = 0\n",
    "        # Iterate over all the arguments and calculate average\n",
    "        for elem in args :\n",
    "            sumOfNums += elem\n",
    "        return (sumOfNums / argCount)\n",
    "    else:\n",
    "        return 0"
   ]
  },
  {
   "cell_type": "code",
   "execution_count": 23,
   "metadata": {},
   "outputs": [
    {
     "name": "stdout",
     "output_type": "stream",
     "text": [
      "16.333333333333332\n"
     ]
    }
   ],
   "source": [
    "result = calculateAverage(12,11,14,15,12,34)\n",
    "\n",
    "print(result)"
   ]
  },
  {
   "cell_type": "markdown",
   "metadata": {},
   "source": [
    "### Function with Default arguments"
   ]
  },
  {
   "cell_type": "code",
   "execution_count": 29,
   "metadata": {},
   "outputs": [],
   "source": [
    "# Functions with default arguments\n",
    "def my_function(fname = \"Sean\", lname =\"an Other\"):\n",
    "    extra = \"Monday\"\n",
    "    print(f\"Hello {fname} {lname} it is {extra}\")"
   ]
  },
  {
   "cell_type": "code",
   "execution_count": 30,
   "metadata": {},
   "outputs": [
    {
     "name": "stdout",
     "output_type": "stream",
     "text": [
      "Hello Sean an Other it is Monday\n"
     ]
    }
   ],
   "source": [
    "#my_function(\"Mary\")\n",
    "my_function()"
   ]
  },
  {
   "cell_type": "markdown",
   "metadata": {},
   "source": [
    "### Function passing a list/dictionary as an argument"
   ]
  },
  {
   "cell_type": "code",
   "execution_count": 31,
   "metadata": {},
   "outputs": [
    {
     "name": "stdout",
     "output_type": "stream",
     "text": [
      "apple\n",
      "pear\n",
      "grape\n",
      "banana\n"
     ]
    }
   ],
   "source": [
    "def my_function(fruits):\n",
    "  for x in fruits:\n",
    "    print(x)\n",
    "\n",
    "fruits = [\"apple\", \"pear\", \"grape\", \"banana\"]\n",
    "\n",
    "my_function(fruits)"
   ]
  },
  {
   "cell_type": "code",
   "execution_count": 35,
   "metadata": {},
   "outputs": [
    {
     "name": "stdout",
     "output_type": "stream",
     "text": [
      "My favorite book is The New Wilderness\n"
     ]
    }
   ],
   "source": [
    "# specifying arguments in order\n",
    "# def my_function(book1, book2, book3):\n",
    "#   print(\"My favorite book is \" + book3)\n",
    "\n",
    "# my_function(\"The New Wilderness\", \"The Shadow King\",  \"Apeirogon\")# call function\n",
    "\n",
    "###################\n",
    "def my_function(book2, book3, book1):\n",
    "    print(\"My favorite book is \" + book3)\n",
    "\n",
    "my_function(book3 = \"The New Wilderness\", book2 = \"The Shadow King\", book1 = \"Apeirogon\")"
   ]
  },
  {
   "cell_type": "markdown",
   "metadata": {},
   "source": [
    "### Arbitrary Keyword Arguments, **kwargs"
   ]
  },
  {
   "cell_type": "code",
   "execution_count": 41,
   "metadata": {
    "scrolled": true
   },
   "outputs": [
    {
     "name": "stdout",
     "output_type": "stream",
     "text": [
      "name = yasoob\n",
      "name2 = plinny\n",
      "name3 = McKnight\n",
      "name4 = Tyler\n",
      "name5 = Mary\n"
     ]
    }
   ],
   "source": [
    "# Variable number of 'Key Value `Pairs' arguments\n",
    "\n",
    "def greet_me(**kwargs):\n",
    "    for key, value in kwargs.items():\n",
    "        print(f\"{key} = {value}\")\n",
    "    \n",
    "greet_me(name =\"yasoob\", name2 = 'plinny', name3 = 'McKnight', name4 = 'Tyler', name5= \"Mary\")\n",
    "# greet_dict = {'name' :\"yasoob\",' name2' :'plinny', 'name3' : 'McKnight', 'name4' :'Tyler', 'name5':\"Mary\"}\n",
    "# greet_me(greet_dict)"
   ]
  },
  {
   "cell_type": "markdown",
   "metadata": {},
   "source": [
    "## Multiple Return Statments"
   ]
  },
  {
   "cell_type": "code",
   "execution_count": 42,
   "metadata": {},
   "outputs": [],
   "source": [
    "# Multiple return statments\n",
    "def type_of_int(i):\n",
    "    if i % 2 == 0:\n",
    "        return 'even'\n",
    "        print(\"hello\")\n",
    "    else:\n",
    "        return 'odd'\n",
    "    "
   ]
  },
  {
   "cell_type": "code",
   "execution_count": 45,
   "metadata": {},
   "outputs": [
    {
     "name": "stdout",
     "output_type": "stream",
     "text": [
      "odd\n"
     ]
    }
   ],
   "source": [
    "a = type_of_int(21)\n",
    "print(a)"
   ]
  },
  {
   "cell_type": "markdown",
   "metadata": {},
   "source": [
    "## Returning a function"
   ]
  },
  {
   "cell_type": "code",
   "execution_count": 46,
   "metadata": {},
   "outputs": [],
   "source": [
    "def fred(a,b):\n",
    "    print(a+b)"
   ]
  },
  {
   "cell_type": "code",
   "execution_count": 47,
   "metadata": {},
   "outputs": [
    {
     "name": "stdout",
     "output_type": "stream",
     "text": [
      "9\n"
     ]
    }
   ],
   "source": [
    "fred(4,5)"
   ]
  },
  {
   "cell_type": "code",
   "execution_count": 48,
   "metadata": {},
   "outputs": [],
   "source": [
    "mary = fred"
   ]
  },
  {
   "cell_type": "code",
   "execution_count": 49,
   "metadata": {},
   "outputs": [
    {
     "name": "stdout",
     "output_type": "stream",
     "text": [
      "15\n",
      "7\n"
     ]
    }
   ],
   "source": [
    "mary(6,9)\n",
    "fred(3,4)"
   ]
  },
  {
   "cell_type": "code",
   "execution_count": 51,
   "metadata": {},
   "outputs": [],
   "source": [
    "# Define a function that returns another function\n",
    "\n",
    "def get_cuboid_volume(h):\n",
    "    def volume(l, b):       # l= lenght,b=breath, h= height\n",
    "        return l * b * h    # The volume function will return l*b*h\n",
    "    return volume           # This second function is returned and the parameters are passed in."
   ]
  },
  {
   "cell_type": "code",
   "execution_count": 52,
   "metadata": {},
   "outputs": [],
   "source": [
    "# create a function that will calculate all cuboids of height 10\n",
    "volume_height_10 = get_cuboid_volume(10) #This will return a a function that we can then use."
   ]
  },
  {
   "cell_type": "code",
   "execution_count": 53,
   "metadata": {},
   "outputs": [
    {
     "name": "stdout",
     "output_type": "stream",
     "text": [
      "<function get_cuboid_volume.<locals>.volume at 0x7f81fa3318b0>\n"
     ]
    }
   ],
   "source": [
    "print(volume_height_10) # Tells it is a function, and it is located at a memory location."
   ]
  },
  {
   "cell_type": "code",
   "execution_count": 54,
   "metadata": {},
   "outputs": [],
   "source": [
    "# Using the function created above \n",
    "#(result is stored in the variable cuboid_volume)\n",
    "\n",
    "cuboid_volume = volume_height_10(5, 4)"
   ]
  },
  {
   "cell_type": "code",
   "execution_count": 57,
   "metadata": {},
   "outputs": [
    {
     "name": "stdout",
     "output_type": "stream",
     "text": [
      "Cuboid(5, 4, 10) volume is 200\n"
     ]
    }
   ],
   "source": [
    "print(f'Cuboid(5, 4, 10) volume is {cuboid_volume}')# Using the function created above"
   ]
  },
  {
   "cell_type": "code",
   "execution_count": 58,
   "metadata": {},
   "outputs": [],
   "source": [
    "cuboid_volume = volume_height_10(2, 4)"
   ]
  },
  {
   "cell_type": "code",
   "execution_count": 59,
   "metadata": {},
   "outputs": [
    {
     "name": "stdout",
     "output_type": "stream",
     "text": [
      "Cuboid(2, 4, 10) volume is 80\n"
     ]
    }
   ],
   "source": [
    "print(f'Cuboid(2, 4, 10) volume is {cuboid_volume}')"
   ]
  },
  {
   "cell_type": "code",
   "execution_count": 60,
   "metadata": {},
   "outputs": [],
   "source": [
    "volume_height_15 = get_cuboid_volume(15) #create a second function for cuboids of 15 height"
   ]
  },
  {
   "cell_type": "code",
   "execution_count": 61,
   "metadata": {},
   "outputs": [
    {
     "name": "stdout",
     "output_type": "stream",
     "text": [
      "90\n",
      "60\n"
     ]
    }
   ],
   "source": [
    "print(volume_height_15(2,3))\n",
    "print (volume_height_10(2,3))"
   ]
  },
  {
   "cell_type": "markdown",
   "metadata": {},
   "source": [
    "## SAQ 1\n",
    "Create a function that returns and displays the current day of the week when you call it. import datetime library.\n",
    "Write another function that takes in a string variable as an argument and returns the length of the string. e.g cat = 3"
   ]
  },
  {
   "cell_type": "code",
   "execution_count": 76,
   "metadata": {},
   "outputs": [],
   "source": [
    "# Put your Answer 1 here\n",
    "def what_day_is_it():\n",
    "    from datetime import datetime\n",
    "    # Your Answer Here\n",
    "    now = datetime.now()\n",
    "    current_day = now.strftime(\"%m-%d-%Y\")\n",
    "    print(\"Today =\", current_day)\n",
    "    \n",
    "    "
   ]
  },
  {
   "cell_type": "code",
   "execution_count": 77,
   "metadata": {},
   "outputs": [
    {
     "name": "stdout",
     "output_type": "stream",
     "text": [
      "Today = 08-25-2022\n"
     ]
    }
   ],
   "source": [
    "what_day_is_it()"
   ]
  },
  {
   "cell_type": "code",
   "execution_count": null,
   "metadata": {},
   "outputs": [],
   "source": [
    "# Put your Answer 2 here\n",
    "def string_len(str):\n",
    "    return len(str)\n",
    "\n",
    "x = string_len('pneumonou')\n",
    "print(x)\n"
   ]
  },
  {
   "cell_type": "markdown",
   "metadata": {},
   "source": [
    "## SAQ 2 _ Example\n",
    "Create a function that takes in your birthday as an argument and returns the number of days to your next birthday. <br> **Hint:** Use the calendar module/library."
   ]
  },
  {
   "cell_type": "code",
   "execution_count": null,
   "metadata": {},
   "outputs": [],
   "source": [
    "# Add your answer here\n",
    "def birthday_countdown( MM, DD):\n",
    "    import time\n",
    "    from datetime import datetime, date\n",
    "\n",
    "    today = date.today()\n",
    "    today == date.fromtimestamp(time.time())\n",
    "    year=today.year\n",
    "    my_b = date(year , MM, DD)\n",
    "    time_2_b = abs(my_b - today)\n",
    "    print(time_2_b.days)"
   ]
  },
  {
   "cell_type": "code",
   "execution_count": null,
   "metadata": {},
   "outputs": [],
   "source": [
    "birthday_countdown(11, 4)"
   ]
  },
  {
   "cell_type": "markdown",
   "metadata": {},
   "source": [
    "## SAQ 3\n",
    "Create a single function that will return the area or volume of an object. i.e. if you call the function with the values (10,8) it will return 80, and if you call the same function using values (10,2,3) it will return 60."
   ]
  },
  {
   "cell_type": "code",
   "execution_count": 80,
   "metadata": {},
   "outputs": [],
   "source": [
    "# Add your answer here\n",
    "def area_volume(l,b,h=1):\n",
    "    return l*b*h\n"
   ]
  },
  {
   "cell_type": "code",
   "execution_count": 81,
   "metadata": {},
   "outputs": [
    {
     "data": {
      "text/plain": [
       "6"
      ]
     },
     "execution_count": 81,
     "metadata": {},
     "output_type": "execute_result"
    }
   ],
   "source": [
    "#Test\n",
    "area_volume(2,3)"
   ]
  },
  {
   "cell_type": "code",
   "execution_count": 88,
   "metadata": {},
   "outputs": [],
   "source": [
    "def area_volume(*args):\n",
    "    total = 1\n",
    "    if len(args)>1 and len(args)<4:\n",
    "        for arg in args:\n",
    "            total *= arg\n",
    "        return total\n",
    "    else:\n",
    "        print(\"Out of Range\")"
   ]
  },
  {
   "cell_type": "code",
   "execution_count": 90,
   "metadata": {
    "scrolled": true
   },
   "outputs": [
    {
     "name": "stdout",
     "output_type": "stream",
     "text": [
      "Out of Range\n",
      "None\n"
     ]
    }
   ],
   "source": [
    "print(area_volume(2,3,10,10))"
   ]
  },
  {
   "cell_type": "markdown",
   "metadata": {},
   "source": [
    "## Recursive Functions\n",
    "Recursive functions are functions that call on themselves. A simple example of a recursive function is.  Factorial n (written n!) is the product (multiplication) of all the whole numbers from n to 1.  e.g. Four factorial( written 4!) is equal to 4x3x2x1.<br>\n",
    "Factorial is used for working out permutations: If we have 3 items: A,B,C then there are 3! = 3 * 2 * 1 = 6 different permutations\n",
    "Here they are:\n",
    "ABC, ACB, BAC, BCA, CAB, CBA\n"
   ]
  },
  {
   "cell_type": "code",
   "execution_count": 95,
   "metadata": {},
   "outputs": [
    {
     "name": "stdout",
     "output_type": "stream",
     "text": [
      "4\n",
      "3\n",
      "2\n",
      "The factorial of 4 is 24\n"
     ]
    }
   ],
   "source": [
    "# Example of a recursive function\n",
    "def factorial(x):\n",
    "    \"\"\"This is a recursive functon\n",
    "    to find the factorial of an integer\"\"\"\n",
    "\n",
    "    if x == 1:\n",
    "        return 1\n",
    "    else:\n",
    "        print(x)\n",
    "        return (x * factorial(x-1))\n",
    "        \n",
    "num = 4\n",
    "ans = factorial(num)\n",
    "\n",
    "print(f\"The factorial of {num} is {ans}\")"
   ]
  },
  {
   "cell_type": "markdown",
   "metadata": {},
   "source": [
    "## lambda functions\n",
    "Lambda functions are anonymous functions meant to be short and quick and disposable. Lambdas differ from normal Python methods because they can have only one expression, can't contain any statements and their return type is a function object. So the line of code below doesn't exactly return the value x*2 but the function that calculates x * 2.\n",
    "<img src=\"images/lambda1.png\" alt=\"Drawing\" style=\"height: 200px;\"/>\n",
    "<br>"
   ]
  },
  {
   "cell_type": "code",
   "execution_count": 103,
   "metadata": {},
   "outputs": [],
   "source": [
    "# traditional function definition\n",
    "\n",
    "def power_of(x=2 ,y=2):\n",
    "    return x**y\n",
    "    "
   ]
  },
  {
   "cell_type": "code",
   "execution_count": 106,
   "metadata": {},
   "outputs": [
    {
     "name": "stdout",
     "output_type": "stream",
     "text": [
      "27\n"
     ]
    }
   ],
   "source": [
    "print(power_of(3,3))"
   ]
  },
  {
   "cell_type": "code",
   "execution_count": null,
   "metadata": {},
   "outputs": [],
   "source": [
    "print(power_of(2,64))"
   ]
  },
  {
   "cell_type": "code",
   "execution_count": null,
   "metadata": {},
   "outputs": [],
   "source": [
    "lambda x,y: x**y"
   ]
  },
  {
   "cell_type": "code",
   "execution_count": 109,
   "metadata": {},
   "outputs": [],
   "source": [
    "mor_of = lambda x,y: x**y"
   ]
  },
  {
   "cell_type": "code",
   "execution_count": 110,
   "metadata": {},
   "outputs": [
    {
     "name": "stdout",
     "output_type": "stream",
     "text": [
      "4\n"
     ]
    }
   ],
   "source": [
    "print(mor_of(2,2))"
   ]
  },
  {
   "cell_type": "code",
   "execution_count": 111,
   "metadata": {},
   "outputs": [
    {
     "name": "stdout",
     "output_type": "stream",
     "text": [
      "10\n"
     ]
    }
   ],
   "source": [
    "x=6\n",
    "y=4\n",
    "funct = lambda x,y: x+y\n",
    "\n",
    "print(funct(x,y))"
   ]
  },
  {
   "cell_type": "markdown",
   "metadata": {},
   "source": [
    "<img src=\"images/lambda2.png\" alt=\"lambda2\" style=\"height: 300px;\"/>\n",
    "<br>"
   ]
  },
  {
   "cell_type": "code",
   "execution_count": 113,
   "metadata": {},
   "outputs": [
    {
     "name": "stdout",
     "output_type": "stream",
     "text": [
      "15\n"
     ]
    }
   ],
   "source": [
    "num = lambda x,y: x if x > y else y\n",
    "\n",
    "print(num(3,15))"
   ]
  },
  {
   "cell_type": "code",
   "execution_count": 118,
   "metadata": {},
   "outputs": [
    {
     "name": "stdout",
     "output_type": "stream",
     "text": [
      "[3.0, 4.5, 7.5, 10.5, 12.0, 15.0, 18.0]\n"
     ]
    }
   ],
   "source": [
    "#Example 3 using the map function in conjunction with the lambda function and list function\n",
    "nums = [2,3,5,7,8,10,12]\n",
    "exchange_rate= 1.5\n",
    "squares = list(map(lambda x: x*exchange_rate, nums))\n",
    "print(squares)"
   ]
  },
  {
   "cell_type": "code",
   "execution_count": 119,
   "metadata": {},
   "outputs": [
    {
     "name": "stdout",
     "output_type": "stream",
     "text": [
      "[0, 5, 10, 15, 20, 25, 30, 35, 40, 45, 50, 55, 60, 65, 70, 75, 80, 85, 90, 95, 100, 105, 110, 115]\n"
     ]
    }
   ],
   "source": [
    "# Example 4\n",
    "five_by = list(map(lambda x: x*5, range(24)))\n",
    "print(five_by)"
   ]
  },
  {
   "cell_type": "code",
   "execution_count": null,
   "metadata": {},
   "outputs": [],
   "source": [
    "# print a list of squares\n",
    "\n",
    "def square(list1):\n",
    "    list2 =[]\n",
    "    for num in list1:\n",
    "        list2.append(num**2)\n",
    "    return list2"
   ]
  },
  {
   "cell_type": "code",
   "execution_count": null,
   "metadata": {},
   "outputs": [],
   "source": [
    "list1 = [1,2,3,4]\n",
    "print(square(list1))"
   ]
  },
  {
   "cell_type": "code",
   "execution_count": null,
   "metadata": {
    "scrolled": true
   },
   "outputs": [],
   "source": [
    "list1 = [1,2,3,4]\n",
    "print(list(map(lambda x: x**2,list1)))"
   ]
  },
  {
   "cell_type": "code",
   "execution_count": null,
   "metadata": {},
   "outputs": [],
   "source": [
    "# Another example using range\n",
    "squares = list(map(lambda x: x**2, range(10)))\n",
    "print(squares)"
   ]
  },
  {
   "cell_type": "markdown",
   "metadata": {},
   "source": [
    "## The map() Function\n",
    "The map() function iterates through all items in the given iterable and executes the function passed as an argument on each of them. The syntax is:\n",
    "\n",
    "```python\n",
    "map(function, iterable(s))\n",
    "\n",
    "```\n",
    "<img src=\"images/map1.png\" alt=\"Drawing\" style=\"height: 150px;\"/>\n",
    "<br>\n",
    "\n"
   ]
  },
  {
   "cell_type": "code",
   "execution_count": 121,
   "metadata": {},
   "outputs": [
    {
     "name": "stdout",
     "output_type": "stream",
     "text": [
      "[True, False, False, True, True]\n"
     ]
    }
   ],
   "source": [
    "# using map with a traditional function (without using lambdas)\n",
    "def starts_with_A(string):\n",
    "    return string[0] == \"A\"\n",
    "\n",
    "fruit = [\"Apple\", \"Banana\", \"Pear\", \"Apricot\", \"AnOrange\"]\n",
    "\n",
    "map_object = map(starts_with_A, fruit) \n",
    "\n",
    "print(list(map_object))"
   ]
  },
  {
   "cell_type": "code",
   "execution_count": 123,
   "metadata": {
    "scrolled": true
   },
   "outputs": [
    {
     "name": "stdout",
     "output_type": "stream",
     "text": [
      "['Eat', 'Throw', 'Throw', 'Eat', 'Eat', 'Throw']\n"
     ]
    }
   ],
   "source": [
    "# map with lambda function. What elements begin with the letter A? x if x>y else y\n",
    "fruits = [\"Apple\", \"Banana\", \"Pear\", \"Apricot\", \"Anorange\", 'Team']\n",
    "map_object = map(lambda fruit: 'Eat' if fruit[0] == \"A\" else 'Throw', fruits)\n",
    "\n",
    "print(list(map_object))"
   ]
  },
  {
   "cell_type": "markdown",
   "metadata": {},
   "source": [
    "## Map with Lambda Function\n",
    "Functions can be chained in order to create complex algorithms with fairly simple code.<br>\n",
    "<img src=\"images/map2.png\" alt=\"Drawing\" style=\"height: 300px;\"/>\n",
    "<br>"
   ]
  },
  {
   "cell_type": "code",
   "execution_count": 124,
   "metadata": {},
   "outputs": [
    {
     "name": "stdout",
     "output_type": "stream",
     "text": [
      "[1, 8, 27, 64, 125]\n"
     ]
    }
   ],
   "source": [
    "#Create a list of cubes form a list of numbers\n",
    "nums = [1, 2 ,3, 4, 5]\n",
    "print(list(map(lambda x: x**3,nums)))"
   ]
  },
  {
   "cell_type": "markdown",
   "metadata": {},
   "source": [
    "## SAQ 4\n",
    "Use a lambda function to take the values in this list and subtract 3 from each element.\n",
    "\n",
    "```Python\n",
    "nums= [4,8,10,12]\n",
    "```\n",
    "\n"
   ]
  },
  {
   "cell_type": "code",
   "execution_count": null,
   "metadata": {},
   "outputs": [],
   "source": [
    "# Put your answer here\n",
    "\n"
   ]
  },
  {
   "cell_type": "code",
   "execution_count": 125,
   "metadata": {},
   "outputs": [
    {
     "name": "stdout",
     "output_type": "stream",
     "text": [
      "[97.7, 98.60000000000001, 99.5, 100.4, 102.2]\n",
      "[36.5, 37.00000000000001, 37.5, 38.00000000000001, 39.0]\n"
     ]
    }
   ],
   "source": [
    "# A more complex example. Here we create two functions that we we use in a map function. (note you could also use a Lambda function)\n",
    "# A tuple of temperatures are converted to a list.\n",
    "def fahrenheit(T):\n",
    "    return ((float(9)/5)*T + 32)\n",
    " \n",
    "def celsius(T):\n",
    "    return (float(5)/9)*(T-32)\n",
    " \n",
    "temperatures = (36.5, 37, 37.5, 38, 39)\n",
    "\n",
    "#F = map(fahrenheit, temperatures)\n",
    "\n",
    "#C = map(celsius,temperatures_in_Fahrenheit)\n",
    "\n",
    "\n",
    "temperatures_in_Fahrenheit = list(map(fahrenheit, temperatures))\n",
    "print(temperatures_in_Fahrenheit)\n",
    "\n",
    "temperatures_in_Celsius = list(map(celsius, temperatures_in_Fahrenheit))\n",
    "print(temperatures_in_Celsius)"
   ]
  },
  {
   "cell_type": "code",
   "execution_count": 126,
   "metadata": {},
   "outputs": [
    {
     "data": {
      "text/plain": [
       "98.60000000000001"
      ]
     },
     "execution_count": 126,
     "metadata": {},
     "output_type": "execute_result"
    }
   ],
   "source": [
    "fahrenheit(37)"
   ]
  },
  {
   "cell_type": "code",
   "execution_count": 127,
   "metadata": {},
   "outputs": [
    {
     "data": {
      "text/plain": [
       "37.0"
      ]
     },
     "execution_count": 127,
     "metadata": {},
     "output_type": "execute_result"
    }
   ],
   "source": [
    "celsius(98.6)"
   ]
  },
  {
   "cell_type": "markdown",
   "metadata": {},
   "source": [
    "## The filter() Function\n",
    "Similar to map(), filter() takes a function object and an iterable and creates a new list."
   ]
  },
  {
   "cell_type": "code",
   "execution_count": 131,
   "metadata": {},
   "outputs": [
    {
     "name": "stdout",
     "output_type": "stream",
     "text": [
      "[18, 24, 32, 28]\n"
     ]
    }
   ],
   "source": [
    "# filter example 1\n",
    "ages = [5, 12, 17, 18, 24, 32, 1, 28]\n",
    "\n",
    "def myFunc(x):\n",
    "  if x < 18:\n",
    "    return False\n",
    "  else:\n",
    "    return True\n",
    "\n",
    "adults = list(filter(myFunc, ages)\n",
    ")\n",
    "print(adults)\n",
    "\n",
    "# for x in adults:\n",
    "#   print(x)"
   ]
  },
  {
   "cell_type": "markdown",
   "metadata": {},
   "source": [
    "## SAQ 5\n",
    "Create a lambda function for the above example (filter example 1). "
   ]
  },
  {
   "cell_type": "code",
   "execution_count": null,
   "metadata": {},
   "outputs": [],
   "source": [
    "# Add your answer here\n",
    "ages = [5, 12, 17, 18, 24, 32]\n"
   ]
  },
  {
   "cell_type": "markdown",
   "metadata": {},
   "source": [
    "##  SAQ 5\n",
    "using a map() function to change the following list of letters into upper case.\n",
    "chars = ['g', 'b', 'e', 'b', 'g']\n",
    "\n"
   ]
  },
  {
   "cell_type": "code",
   "execution_count": null,
   "metadata": {},
   "outputs": [],
   "source": [
    "# Add your answer here"
   ]
  },
  {
   "cell_type": "markdown",
   "metadata": {},
   "source": [
    "# List  Comprehensions\n",
    "\n",
    "List comprehension offers a shorter syntax when you want to create a new list based on the values of an existing list.\n"
   ]
  },
  {
   "cell_type": "code",
   "execution_count": 132,
   "metadata": {
    "scrolled": true
   },
   "outputs": [
    {
     "name": "stdout",
     "output_type": "stream",
     "text": [
      "[3, 6, 9, 12, 15, 18, 21, 24, 27, 30]\n"
     ]
    }
   ],
   "source": [
    "# Simple example 1\n",
    "nums = [1,2,3,4,5,6,7,8,9,10]\n",
    "\n",
    "# I want 'n' for each 'n' in nums\n",
    "my_list = []\n",
    "for n in nums:\n",
    "    my_list.append(n*3)\n",
    "print(my_list)\n"
   ]
  },
  {
   "cell_type": "code",
   "execution_count": 133,
   "metadata": {},
   "outputs": [
    {
     "name": "stdout",
     "output_type": "stream",
     "text": [
      "[3, 6, 9, 12, 15, 18, 21, 24, 27, 30]\n"
     ]
    }
   ],
   "source": [
    "#The same thing for list comprehensions\n",
    "print([n*3 for n in nums])"
   ]
  },
  {
   "cell_type": "code",
   "execution_count": 134,
   "metadata": {},
   "outputs": [
    {
     "name": "stdout",
     "output_type": "stream",
     "text": [
      "[1, 4, 9, 16, 25, 36, 49, 64, 81, 100]\n"
     ]
    }
   ],
   "source": [
    "# Example 2\n",
    "# I want 'n*n' for each 'n' in nums\n",
    "my_list = []\n",
    "for n in nums:\n",
    "    my_list.append(n*n)\n",
    "print(my_list)\n"
   ]
  },
  {
   "cell_type": "code",
   "execution_count": 135,
   "metadata": {},
   "outputs": [
    {
     "name": "stdout",
     "output_type": "stream",
     "text": [
      "[1, 4, 9, 16, 25, 36, 49, 64, 81, 100]\n"
     ]
    }
   ],
   "source": [
    "# Using a map + lambda\n",
    "nums = [1,2,3,4,5,6,7,8,9,10]\n",
    "my_list = map(lambda n: n*n, nums)\n",
    "print(list(my_list))\n"
   ]
  },
  {
   "cell_type": "code",
   "execution_count": 136,
   "metadata": {},
   "outputs": [
    {
     "name": "stdout",
     "output_type": "stream",
     "text": [
      "[1, 4, 9, 16, 25, 36, 49, 64, 81, 100]\n"
     ]
    }
   ],
   "source": [
    "# using list comprehensions\n",
    "nums = [1,2,3,4,5,6,7,8,9,10]\n",
    "print([n*n for n in nums])"
   ]
  },
  {
   "cell_type": "code",
   "execution_count": 138,
   "metadata": {},
   "outputs": [
    {
     "name": "stdout",
     "output_type": "stream",
     "text": [
      "[1, 3, 5, 7, 9]\n"
     ]
    }
   ],
   "source": [
    "# Example 3\n",
    "# I want 'n' for each 'n' in nums if 'n' is even\n",
    "nums = [1,2,3,4,5,6,7,8,9,10]\n",
    "my_list = []\n",
    "for n in nums:\n",
    "     if n%2 == 0:\n",
    "        my_list.append(n)\n",
    "print (my_list)\n"
   ]
  },
  {
   "cell_type": "code",
   "execution_count": 139,
   "metadata": {},
   "outputs": [
    {
     "name": "stdout",
     "output_type": "stream",
     "text": [
      "[2, 4, 6, 8, 10]\n"
     ]
    }
   ],
   "source": [
    "# Using a filter + lambda\n",
    "nums = [1,2,3,4,5,6,7,8,9,10]\n",
    "my_list = list(filter(lambda n: n%2 == 0, nums))\n",
    "print(my_list)\n",
    "#print(list(my_list))"
   ]
  },
  {
   "cell_type": "code",
   "execution_count": 140,
   "metadata": {},
   "outputs": [
    {
     "name": "stdout",
     "output_type": "stream",
     "text": [
      "[2, 4, 6, 8, 10]\n"
     ]
    }
   ],
   "source": [
    "# Using List Comprehnisons\n",
    "\n",
    "nums = [1,2,3,4,5,6,7,8,9,10]\n",
    "my_list_object = [n for n in nums if n%2 == 0]\n",
    "print(my_list_object)"
   ]
  },
  {
   "cell_type": "markdown",
   "metadata": {},
   "source": [
    "## SAQ 6\n",
    "listOfWords = [\"this\",\"is\",\"a\",\"list\",\"of\",\"words\"]\n",
    "Using List Comprehensions,  take the first letter of each word and make a list out of it, and print it off.\n"
   ]
  },
  {
   "cell_type": "code",
   "execution_count": null,
   "metadata": {},
   "outputs": [],
   "source": [
    "# Add your answer here"
   ]
  },
  {
   "cell_type": "markdown",
   "metadata": {},
   "source": [
    "# Weather Data from Met Eireann\n",
    "https://data.gov.ie/organization/met-eireann?tags=+Today&_tags_limit=0 <br> <br>\n",
    "https://www.met.ie//climate/available-data/historical-data"
   ]
  },
  {
   "cell_type": "markdown",
   "metadata": {},
   "source": [
    "**Phew!** <div>\n",
    "<img src=\"images/the_end.png\" alt=\"The End\" width=\"300\" align=\"center\"/></div>"
   ]
  }
 ],
 "metadata": {
  "hide_input": false,
  "kernelspec": {
   "display_name": "Python 3 (ipykernel)",
   "language": "python",
   "name": "python3"
  },
  "language_info": {
   "codemirror_mode": {
    "name": "ipython",
    "version": 3
   },
   "file_extension": ".py",
   "mimetype": "text/x-python",
   "name": "python",
   "nbconvert_exporter": "python",
   "pygments_lexer": "ipython3",
   "version": "3.9.12"
  },
  "toc": {
   "base_numbering": 1,
   "nav_menu": {},
   "number_sections": true,
   "sideBar": true,
   "skip_h1_title": false,
   "title_cell": "Table of Contents",
   "title_sidebar": "Contents",
   "toc_cell": false,
   "toc_position": {
    "height": "calc(100% - 180px)",
    "left": "10px",
    "top": "150px",
    "width": "325px"
   },
   "toc_section_display": true,
   "toc_window_display": false
  },
  "varInspector": {
   "cols": {
    "lenName": 16,
    "lenType": 16,
    "lenVar": 40
   },
   "kernels_config": {
    "python": {
     "delete_cmd_postfix": "",
     "delete_cmd_prefix": "del ",
     "library": "var_list.py",
     "varRefreshCmd": "print(var_dic_list())"
    },
    "r": {
     "delete_cmd_postfix": ") ",
     "delete_cmd_prefix": "rm(",
     "library": "var_list.r",
     "varRefreshCmd": "cat(var_dic_list()) "
    }
   },
   "types_to_exclude": [
    "module",
    "function",
    "builtin_function_or_method",
    "instance",
    "_Feature"
   ],
   "window_display": false
  }
 },
 "nbformat": 4,
 "nbformat_minor": 4
}
