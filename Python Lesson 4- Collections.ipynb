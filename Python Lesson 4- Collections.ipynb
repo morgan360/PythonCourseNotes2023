{
 "cells": [
  {
   "cell_type": "markdown",
   "metadata": {
    "slideshow": {
     "slide_type": "skip"
    }
   },
   "source": [
    "Lesson 4 ~ Notes: version 3.1"
   ]
  },
  {
   "cell_type": "markdown",
   "metadata": {
    "slideshow": {
     "slide_type": "slide"
    }
   },
   "source": [
    "# <center>Lesson 4 - Collections</center>\n",
    "![MontyPython](images/title_collections.png)"
   ]
  },
  {
   "cell_type": "markdown",
   "metadata": {
    "slideshow": {
     "slide_type": "slide"
    }
   },
   "source": [
    "## Problem 5 - Getting your Grades\n",
    "\n",
    "### Situation\n",
    "There are four students in a class there names are stored in a tuple. The list of subjects that is on their course is given in a list. Their exam results are recorded in a dictionary **\"results\"**. Within the **\"results\"** dictionary each **Value** is also a dictionary e.g. Under the **English key** the **value** is a dictionary of results for each student in that subject. The grading scheme is as follows: mark< 40 is **Fail**, mark between 40-70 **Pass**, mark > 70  **Distinction**\n",
    "```python\n",
    "# A tuple of students\n",
    "students = ('Ann', 'Tom', 'Laura', 'Brian')\n",
    "\n",
    "# A list of subjects\n",
    "subjects = ['Math', 'English','Physics']\n",
    "\n",
    "# A dictonary of results\n",
    "results = {\n",
    "           'Math': {'ann':34, 'tom':56, 'laura': 76, 'brian': 94},\n",
    "           'English': {'ann':44 ,'tom':46, 'laura':88, 'brian': 92},\n",
    "           'Physics': {'ann':23 ,'tom':89, 'laura':58, 'brian': 99}\n",
    "          }\n",
    "```\n",
    "\n",
    "### input\n",
    "One of the students in the Tuple will enter their name into an input box. e.g. Laura\n",
    "\n",
    "### Output\n",
    "\n",
    "The output is a list of results for the student their marks and their grade as well as their overall results.\n",
    "\n",
    "### Example Output\n",
    " Hi Laura,  \n",
    " Your results are as follows:  \n",
    " Math: 76-Distinction  \n",
    " English: 88-Distinction  \n",
    " Physics: 58-Pass    \n",
    "\n",
    " Your overall result is 55.5 - Pass  \n",
    " Well Done,   \n",
    " Morgan  \n",
    "\n",
    "### Programming Hints\n",
    "- convert the name input to lower case\n",
    "- You need to retrieve the result from the dictionary within a dictionary using the following format.\n",
    "```python\n",
    "marks = results[subject][student]\n",
    "```\n",
    "- You will need an **if elif** statement to calculate a grade\n",
    "- You will need to use f strings to print your output.\n",
    "- **Note** if you want to split lines in a print statement use **\\n**"
   ]
  },
  {
   "cell_type": "markdown",
   "metadata": {
    "slideshow": {
     "slide_type": "slide"
    }
   },
   "source": [
    "# Collections\n",
    "![Collections](images/collections.png)\n",
    "<br>\n",
    "\n",
    "In this section we will be looking at collections of elements(things). Elements are stored in arrays as either **lists**, **tuples**, **sets**, or **dictionaries**.<br>\n",
    "\n",
    "**Lists and Tuples** allow us to work with sequential data, and **sets** are unordered collections of values with no duplicates. \n",
    "\n",
    "A **dictionary** is a list of elements organized in key value pairs.  Just like in a word dictionary, you look for a specific term. In programming, it is called a **key**. The definition is its **value**. This is called a **KEY <> VALUE** pair.\n",
    "\n",
    "```python\n",
    "myDict = {\"Jenny\": 34, \"Livia\": 28, \"Paul\": 31}\n",
    "print(myDict[\"Jenny\"]) # -> 34\n",
    "\n",
    "```\n",
    "In Python, a **tuple** is similar to **List** except that the objects in tuple are immutable which means we cannot change the elements of a tuple once assigned. On the other hand, we can change the elements of a list. A **tuple** is defined using round brackets.\n",
    "\n",
    "```python\n",
    "    my_data = (\"hi\", \"hello\", \"bye\")\n",
    "    print(my_data)\n",
    "```\n"
   ]
  },
  {
   "cell_type": "markdown",
   "metadata": {
    "slideshow": {
     "slide_type": "slide"
    }
   },
   "source": [
    "## Lists\n",
    "![Collections](images/collections_small.png)\n",
    "\n",
    "A **list** is defined using square brackets and each element in a list is enclosed in quotes and separated with a comma (Except the last item)\n",
    "\n",
    "```Python\n",
    "\n",
    "borrowedBooks = ['The Road', 'The Grapes of Wrath', 'The Shark', 'War of the worlds']\n",
    "\n",
    "```"
   ]
  },
  {
   "cell_type": "code",
   "execution_count": null,
   "metadata": {
    "slideshow": {
     "slide_type": "subslide"
    }
   },
   "outputs": [],
   "source": [
    "courses = ['History','Math', 'Physics', 'Irish','French', 'Geography',\"Python\"]\n",
    "print(courses)"
   ]
  },
  {
   "cell_type": "code",
   "execution_count": null,
   "metadata": {
    "slideshow": {
     "slide_type": "skip"
    }
   },
   "outputs": [],
   "source": [
    "print(len(courses))"
   ]
  },
  {
   "cell_type": "markdown",
   "metadata": {
    "slideshow": {
     "slide_type": "slide"
    }
   },
   "source": [
    "### Slicing"
   ]
  },
  {
   "cell_type": "code",
   "execution_count": null,
   "metadata": {
    "slideshow": {
     "slide_type": "subslide"
    }
   },
   "outputs": [],
   "source": [
    "print(courses[0])"
   ]
  },
  {
   "cell_type": "code",
   "execution_count": null,
   "metadata": {
    "slideshow": {
     "slide_type": "subslide"
    }
   },
   "outputs": [],
   "source": [
    "print(courses[-7]) # dont need to know lenght"
   ]
  },
  {
   "cell_type": "code",
   "execution_count": null,
   "metadata": {
    "slideshow": {
     "slide_type": "subslide"
    }
   },
   "outputs": [],
   "source": [
    "print(courses[1:]) # 5 not included (stop)"
   ]
  },
  {
   "cell_type": "code",
   "execution_count": null,
   "metadata": {
    "slideshow": {
     "slide_type": "subslide"
    }
   },
   "outputs": [],
   "source": [
    "# list_names = [\"Ester\",\"Tom\", \"Mary\"]\n",
    "num_list = [['aa','bb','cc','dd','ee'],4,7,100, [\"Ester\",\"Tom\", \"Mary\"] ,123]\n",
    "\n",
    "print(num_list[0][2])"
   ]
  },
  {
   "cell_type": "markdown",
   "metadata": {
    "slideshow": {
     "slide_type": "slide"
    }
   },
   "source": [
    "## Methods"
   ]
  },
  {
   "cell_type": "code",
   "execution_count": null,
   "metadata": {
    "slideshow": {
     "slide_type": "subslide"
    }
   },
   "outputs": [],
   "source": [
    "# print(courses[:2]) # assumes start from 0\n",
    "\n",
    "# print(courses[2:]) # assumes stop at last item\n",
    "\n",
    "science_subjects = courses[1:3]\n",
    "# print(science_subjects)\n",
    "\n",
    "# print(science_subjects[0])\n",
    "print(courses)"
   ]
  },
  {
   "cell_type": "code",
   "execution_count": null,
   "metadata": {
    "slideshow": {
     "slide_type": "subslide"
    }
   },
   "outputs": [],
   "source": [
    "# Add item to our list\n",
    "courses = ['History','Math', 'Physics', 'Irish','French', 'Geography']\n",
    "# print(courses)\n",
    "courses.append('Art') # appends to end  append() method\n",
    "print(courses)\n"
   ]
  },
  {
   "cell_type": "code",
   "execution_count": null,
   "metadata": {
    "slideshow": {
     "slide_type": "skip"
    }
   },
   "outputs": [],
   "source": [
    "# Insert Method\n",
    "courses.insert(3, 'Social Science')\n",
    "print(courses)"
   ]
  },
  {
   "cell_type": "code",
   "execution_count": null,
   "metadata": {
    "slideshow": {
     "slide_type": "skip"
    }
   },
   "outputs": [],
   "source": [
    "test_list = [\"Monday\", \"Tuesday\", \"Wednesday\",[\"Jan\",\"Feb\",\"March\",\"Apr\"]]\n",
    "# print(test_list)\n",
    "print(test_list[3][2])"
   ]
  },
  {
   "cell_type": "code",
   "execution_count": null,
   "metadata": {
    "slideshow": {
     "slide_type": "skip"
    }
   },
   "outputs": [],
   "source": [
    "test_list = [\"Monday\", \"Tuesday\", \"Wednesday\",[\"Jan\",\"Feb\",\"March\",\"Apr\"]]\n",
    "\n",
    "new_list = test_list[3]\n",
    "\n",
    "print (new_list)\n",
    "print (new_list[3])"
   ]
  },
  {
   "cell_type": "code",
   "execution_count": null,
   "metadata": {
    "slideshow": {
     "slide_type": "skip"
    }
   },
   "outputs": [],
   "source": [
    "# Insert a List into a list. Nested List\n",
    "courses = ['History','Math', 'Physics', 'Irish']\n",
    "courses_2 = ['Geography', 'Spanish']\n",
    "courses.insert(2, courses_2) # A list within a list\n",
    "print(courses)\n",
    "\n"
   ]
  },
  {
   "cell_type": "code",
   "execution_count": null,
   "metadata": {
    "slideshow": {
     "slide_type": "skip"
    }
   },
   "outputs": [],
   "source": [
    "# Output nested list result\n",
    "print(courses[2][0])"
   ]
  },
  {
   "cell_type": "markdown",
   "metadata": {
    "slideshow": {
     "slide_type": "slide"
    }
   },
   "source": [
    "### Extend method\n",
    "This is used to add the items to the end of a list."
   ]
  },
  {
   "cell_type": "code",
   "execution_count": null,
   "metadata": {
    "slideshow": {
     "slide_type": "subslide"
    }
   },
   "outputs": [],
   "source": [
    "# Courses 1 is extended to include Courses 2\n",
    "courses = ['History','Math', 'Physics', 'Irish']\n",
    "# print(courses)\n",
    "courses_2 = ['Geography', 'Spanish']\n",
    "courses.extend(courses_2)\n",
    "print(courses)"
   ]
  },
  {
   "cell_type": "markdown",
   "metadata": {
    "slideshow": {
     "slide_type": "slide"
    }
   },
   "source": [
    "### Remove method\n",
    "Used to remove items from a list\n"
   ]
  },
  {
   "cell_type": "code",
   "execution_count": null,
   "metadata": {
    "slideshow": {
     "slide_type": "subslide"
    }
   },
   "outputs": [],
   "source": [
    "# remove() method\n",
    "courses = ['History','Math', 'Physics', 'Irish']\n",
    "print(courses)\n",
    "courses.remove(courses[0])\n",
    "print(courses)"
   ]
  },
  {
   "cell_type": "code",
   "execution_count": null,
   "metadata": {
    "slideshow": {
     "slide_type": "skip"
    }
   },
   "outputs": [],
   "source": [
    "#New List\n",
    "courses = ['History','Math', 'Physics', 'Irish']\n",
    "print(courses)"
   ]
  },
  {
   "cell_type": "code",
   "execution_count": null,
   "metadata": {
    "slideshow": {
     "slide_type": "skip"
    }
   },
   "outputs": [],
   "source": [
    "#pop()\n",
    "x = courses.pop() # removes the last value from a list and stores the values\n",
    "print(x)\n",
    "print(courses)\n",
    "# rem = courses.pop()\n",
    "# print(rem)\n",
    "# print(courses)"
   ]
  },
  {
   "cell_type": "markdown",
   "metadata": {
    "slideshow": {
     "slide_type": "slide"
    }
   },
   "source": [
    "### Ordering Lists"
   ]
  },
  {
   "cell_type": "code",
   "execution_count": null,
   "metadata": {
    "slideshow": {
     "slide_type": "subslide"
    }
   },
   "outputs": [],
   "source": [
    "# The sort() method\n",
    "courses = ['History','Math', 'Physics', 'Irish']\n",
    "courses.append('Art')\n",
    "print(courses)\n",
    "courses.sort()\n",
    "print(courses)"
   ]
  },
  {
   "cell_type": "code",
   "execution_count": null,
   "metadata": {
    "slideshow": {
     "slide_type": "skip"
    }
   },
   "outputs": [],
   "source": [
    "# Number List Sorting\n",
    "nums = [7,5,6,3,4]\n",
    "\n",
    "nums.sort()\n",
    "print(nums)"
   ]
  },
  {
   "cell_type": "code",
   "execution_count": null,
   "metadata": {
    "slideshow": {
     "slide_type": "skip"
    }
   },
   "outputs": [],
   "source": [
    "# Reversing the order reverse()\n",
    "courses = ['History','Math', 'Physics', 'Irish']\n",
    "print(courses)\n",
    "courses.sort()\n",
    "print(courses)\n",
    "courses.reverse()\n",
    "print(courses)"
   ]
  },
  {
   "cell_type": "code",
   "execution_count": null,
   "metadata": {
    "slideshow": {
     "slide_type": "skip"
    }
   },
   "outputs": [],
   "source": [
    "\n",
    "#reverse sort\n",
    "nums = [67,2,5,3,4]\n",
    "nums.sort()\n",
    "print(nums)"
   ]
  },
  {
   "cell_type": "markdown",
   "metadata": {
    "slideshow": {
     "slide_type": "slide"
    }
   },
   "source": [
    "### Sorting Lists\n",
    "Sorting list without changing the origonal list. Use a sorted function."
   ]
  },
  {
   "cell_type": "code",
   "execution_count": null,
   "metadata": {
    "slideshow": {
     "slide_type": "subslide"
    }
   },
   "outputs": [],
   "source": [
    "# sorted() Does not change list\n",
    "nums = [1,2,123,3,4]\n",
    "sorted_nums = sorted(nums)\n",
    "print(nums)\n",
    "print(sorted_nums)\n",
    "print(nums)"
   ]
  },
  {
   "cell_type": "code",
   "execution_count": null,
   "metadata": {
    "slideshow": {
     "slide_type": "subslide"
    }
   },
   "outputs": [],
   "source": [
    "my_list = [3, 1, 4, 1, 5, 9, 2, 6, 5, 3, 5]\n",
    "\n",
    "my_list.sort()\n",
    "my_list.reverse()\n",
    "\n",
    "print(my_list)\n",
    "This will output the sorted and reversed list:\n",
    "\n",
    "csharp\n",
    "Copy code\n",
    "[9, 6, 5, 5, 5, 4, 3, 3, 2, 1, 1]"
   ]
  },
  {
   "cell_type": "markdown",
   "metadata": {
    "slideshow": {
     "slide_type": "skip"
    }
   },
   "source": [
    "## SAQ 1 min, max, sum\n",
    "Test out the three functions min, max, sum and calculate the average using len() function.  Change the nums list and try again.\n",
    "```python\n",
    "nums = [2,2,5,64,4]\n",
    "```"
   ]
  },
  {
   "cell_type": "code",
   "execution_count": null,
   "metadata": {
    "slideshow": {
     "slide_type": "skip"
    }
   },
   "outputs": [],
   "source": [
    "# Answer Here\n",
    "nums = [2,1,5,64,4]"
   ]
  },
  {
   "cell_type": "markdown",
   "metadata": {
    "slideshow": {
     "slide_type": "skip"
    }
   },
   "source": [
    "## SAQ 2- Extended Lists\n",
    "1. Create a list of floating point numbers and list of integers.\n",
    "2. Extend the first list with the second list"
   ]
  },
  {
   "cell_type": "code",
   "execution_count": null,
   "metadata": {
    "slideshow": {
     "slide_type": "skip"
    }
   },
   "outputs": [],
   "source": [
    "# PUT YOUR ANSWER HERE\n",
    "num1 = [1,2,3]\n",
    "num2 = [1.1,2.1,2.3]"
   ]
  },
  {
   "cell_type": "markdown",
   "metadata": {
    "slideshow": {
     "slide_type": "slide"
    }
   },
   "source": [
    "## The Random Library"
   ]
  },
  {
   "cell_type": "code",
   "execution_count": null,
   "metadata": {
    "slideshow": {
     "slide_type": "subslide"
    }
   },
   "outputs": [],
   "source": [
    "# Note\n",
    "import random\n",
    "print(random.randint(0,9))"
   ]
  },
  {
   "cell_type": "code",
   "execution_count": null,
   "metadata": {
    "slideshow": {
     "slide_type": "skip"
    }
   },
   "outputs": [],
   "source": [
    "help(random)"
   ]
  },
  {
   "cell_type": "markdown",
   "metadata": {
    "slideshow": {
     "slide_type": "slide"
    }
   },
   "source": [
    "### index and 'in' method\n",
    "Find value in list"
   ]
  },
  {
   "cell_type": "code",
   "execution_count": null,
   "metadata": {
    "slideshow": {
     "slide_type": "subslide"
    }
   },
   "outputs": [],
   "source": [
    "courses = ['History','Math', 'Physics', 'Irish']\n",
    "print(courses.index('Math')) "
   ]
  },
  {
   "cell_type": "code",
   "execution_count": null,
   "metadata": {
    "slideshow": {
     "slide_type": "subslide"
    }
   },
   "outputs": [],
   "source": [
    "print('Art' in courses)# Asking if Art is in the list of courses"
   ]
  },
  {
   "cell_type": "code",
   "execution_count": null,
   "metadata": {
    "slideshow": {
     "slide_type": "skip"
    }
   },
   "outputs": [],
   "source": [
    "print('History' in courses)"
   ]
  },
  {
   "cell_type": "code",
   "execution_count": null,
   "metadata": {
    "slideshow": {
     "slide_type": "skip"
    }
   },
   "outputs": [],
   "source": [
    "#For Loop\n",
    "courses = ['History','Math', 'Physics', 'Irish','Spanish','Python','French']\n",
    "for elem in courses:\n",
    "       print(elem)"
   ]
  },
  {
   "cell_type": "code",
   "execution_count": null,
   "metadata": {
    "slideshow": {
     "slide_type": "skip"
    }
   },
   "outputs": [],
   "source": [
    "for subject in courses:\n",
    "    print(subject)"
   ]
  },
  {
   "cell_type": "code",
   "execution_count": null,
   "metadata": {
    "slideshow": {
     "slide_type": "skip"
    }
   },
   "outputs": [],
   "source": [
    "for index, item in enumerate(courses): # loop item can be anything\n",
    "    print(index, item)"
   ]
  },
  {
   "cell_type": "code",
   "execution_count": null,
   "metadata": {
    "slideshow": {
     "slide_type": "skip"
    }
   },
   "outputs": [],
   "source": [
    "print(courses[3])"
   ]
  },
  {
   "cell_type": "markdown",
   "metadata": {
    "slideshow": {
     "slide_type": "slide"
    }
   },
   "source": [
    "### Join/Split Methods\n",
    "Print out a list as a string and visa versa"
   ]
  },
  {
   "cell_type": "code",
   "execution_count": null,
   "metadata": {
    "slideshow": {
     "slide_type": "subslide"
    }
   },
   "outputs": [],
   "source": [
    "courses = ['History','Math', 'Physics', 'Irish']\n",
    "course_str = '@'.join(courses)"
   ]
  },
  {
   "cell_type": "code",
   "execution_count": null,
   "metadata": {
    "slideshow": {
     "slide_type": "skip"
    }
   },
   "outputs": [],
   "source": [
    "print(course_str)\n",
    "print(courses)"
   ]
  },
  {
   "cell_type": "code",
   "execution_count": null,
   "metadata": {
    "scrolled": true,
    "slideshow": {
     "slide_type": "skip"
    }
   },
   "outputs": [],
   "source": [
    "#split method\n",
    "name_str = 'Morgan,Irene,Edgar,Holly'\n",
    "names = name_str.split(',') # Creates a list with the names\n",
    "\n",
    "name_1 = names[3]\n",
    "name_2 = names[1]\n",
    "print(names)\n",
    "\n",
    "print(name_1)\n",
    "print(name_2)"
   ]
  },
  {
   "cell_type": "markdown",
   "metadata": {
    "slideshow": {
     "slide_type": "skip"
    }
   },
   "source": [
    "## SAQ 3 - Animal Splits\n",
    "Given the following string, create a list of the animals embedded in the string.\n",
    "```python\n",
    "animal_str = 'Horse and Pig and Dog'\n",
    "```"
   ]
  },
  {
   "cell_type": "code",
   "execution_count": null,
   "metadata": {
    "slideshow": {
     "slide_type": "skip"
    }
   },
   "outputs": [],
   "source": [
    "# PUT YOUR ANSWER HERE - DO NOT LOOK AT SOLUTION\n"
   ]
  },
  {
   "cell_type": "markdown",
   "metadata": {
    "slideshow": {
     "slide_type": "skip"
    }
   },
   "source": [
    "## MAQ - I guess!\n",
    "Write a game where the computer guesses a random number and the user has to guess the number correctly. Use the input function to collect the guess from the user. If the user guesses too low or too high tell them and give them another guess until they guess the right number."
   ]
  },
  {
   "cell_type": "code",
   "execution_count": null,
   "metadata": {
    "slideshow": {
     "slide_type": "skip"
    }
   },
   "outputs": [],
   "source": [
    "secret = random.randint(0,9)\n",
    "over = False   "
   ]
  },
  {
   "cell_type": "markdown",
   "metadata": {
    "slideshow": {
     "slide_type": "slide"
    }
   },
   "source": [
    "### Tuples\n",
    "![Collections](images/collections_small.png)\n",
    "**Tuples** are similar to lists except they cannot be modified. These are referred to as immutable as opposed to a list which is mutable. If you want to list that cannot be changed for example Constants, **pi**, **e**, **Monday** then you should use a Tuple. You use round brackets to define a tuple. The same methods do not apply to Tuples as they cannot be changed. However we can loop through **Tuples** and access values et cetera."
   ]
  },
  {
   "cell_type": "code",
   "execution_count": null,
   "metadata": {
    "slideshow": {
     "slide_type": "subslide"
    }
   },
   "outputs": [],
   "source": [
    "# Create a tuple\n",
    "courses = ('History','Math', 'Physics','Irish', 'Irish')\n",
    "# Add a element\n",
    "courses.append('Art')"
   ]
  },
  {
   "cell_type": "markdown",
   "metadata": {
    "slideshow": {
     "slide_type": "slide"
    }
   },
   "source": [
    "## Creating Empty Lists, tuples and sets\n",
    "\n",
    "```python\n",
    "\n",
    "empty_list = []\n",
    "empty_list = list()\n",
    "\n",
    "empty_tuple =()\n",
    "empty_tuple = tuple()\n",
    "\n",
    "empty_set ={} # cannot be defined this way, it thinks it is a dictiionary\n",
    "empty_set = set() # yes\n",
    "\n",
    "```\n",
    "\n",
    "\n"
   ]
  },
  {
   "cell_type": "markdown",
   "metadata": {
    "slideshow": {
     "slide_type": "skip"
    }
   },
   "source": [
    "## SAQ 4: Noah's Ark\n",
    "![zoo animals](images/zoo.jpeg)<br>\n",
    "\n",
    "\n",
    "Write a program that accepts an input from a user, an animal, and prints a list of all the inputs. <br>Run the program a few times so that you have a list of five animals."
   ]
  },
  {
   "cell_type": "code",
   "execution_count": null,
   "metadata": {
    "slideshow": {
     "slide_type": "skip"
    }
   },
   "outputs": [],
   "source": [
    "# PUT YOUR ANSWER HERE \n",
    "ark = []"
   ]
  },
  {
   "cell_type": "markdown",
   "metadata": {
    "slideshow": {
     "slide_type": "slide"
    }
   },
   "source": [
    "## Dictionaries\n",
    "![Collections](images/collections_small.png) <br>\n",
    "Dictionaries allow us to work with <b>key value pairs</b> and if you're coming\n",
    "from another programming language then you may have heard these called hash\n",
    "maps or associative arrays. With key value pairs these are two linked values where\n",
    "the key is a unique identifier of where we can find our data and the value is the\n",
    "data.We can think of them as like a real physical dictionary where we look up for definitions. For example  example each word that we look up would be the key and the definition of that word would be the value."
   ]
  },
  {
   "cell_type": "markdown",
   "metadata": {
    "slideshow": {
     "slide_type": "skip"
    }
   },
   "source": [
    "### Dictionary Examples"
   ]
  },
  {
   "cell_type": "code",
   "execution_count": null,
   "metadata": {
    "slideshow": {
     "slide_type": "subslide"
    }
   },
   "outputs": [],
   "source": [
    "key = \"team1\"\n",
    "team = \"China\"\n",
    "\n",
    "team_dict = {key:team, \"team2\":[\"Scotland\",\"England\",\"Wales\"], \"team3\":\"France\"}\n",
    "print(team_dict[\"team2\"][1])"
   ]
  },
  {
   "cell_type": "code",
   "execution_count": null,
   "metadata": {
    "slideshow": {
     "slide_type": "skip"
    }
   },
   "outputs": [],
   "source": [
    "print(len(team_dict))"
   ]
  },
  {
   "cell_type": "code",
   "execution_count": null,
   "metadata": {
    "slideshow": {
     "slide_type": "skip"
    }
   },
   "outputs": [],
   "source": [
    "# Example\n",
    "student1 = {'name':'John', 'age': 24, 'subjects': ['Irish','English']}\n",
    "student2 = {'name':'Mary', 'age': 22, 'subjects': ['Irish','English','Math']}\n",
    "print(student1)"
   ]
  },
  {
   "cell_type": "code",
   "execution_count": null,
   "metadata": {
    "slideshow": {
     "slide_type": "skip"
    }
   },
   "outputs": [],
   "source": [
    "# Index ids your key\n",
    "print(student1['age'])\n",
    "print(student1['subjects'])"
   ]
  },
  {
   "cell_type": "code",
   "execution_count": null,
   "metadata": {
    "slideshow": {
     "slide_type": "skip"
    }
   },
   "outputs": [],
   "source": [
    "print(student2['name'])\n",
    "print(student2['subjects'])"
   ]
  },
  {
   "cell_type": "code",
   "execution_count": null,
   "metadata": {
    "slideshow": {
     "slide_type": "skip"
    }
   },
   "outputs": [],
   "source": [
    "# Keys can be any value\n",
    "student = {1:'John', 'age': 24, 'subjects': ['Irish','English']}\n",
    "print(student[1])"
   ]
  },
  {
   "cell_type": "code",
   "execution_count": null,
   "metadata": {
    "scrolled": true,
    "slideshow": {
     "slide_type": "skip"
    }
   },
   "outputs": [],
   "source": [
    "# Search for non-existent key\n",
    "student = {'name':'John', 'age': 24, 'subjects': ['Irish','English']}\n",
    "print(student['name'])\n",
    "print(student['phone'])\n"
   ]
  },
  {
   "cell_type": "markdown",
   "metadata": {
    "slideshow": {
     "slide_type": "slide"
    }
   },
   "source": [
    "### Get Method\n",
    "The get method is another way to access a dictionary value."
   ]
  },
  {
   "cell_type": "code",
   "execution_count": null,
   "metadata": {
    "slideshow": {
     "slide_type": "subslide"
    }
   },
   "outputs": [],
   "source": [
    "# get method does not produce an error\n",
    "student = {'name1':'John', 'name':'Pat', 'subjects': ['Irish','English'], \"phone\": \"(01) + 234500\"}\n",
    "# print(student.get('name'))\n",
    "# print(student.get('phone'))\n",
    "print(student.get('phone','No Phone number')) # Your own message"
   ]
  },
  {
   "cell_type": "markdown",
   "metadata": {
    "slideshow": {
     "slide_type": "slide"
    }
   },
   "source": [
    "### Add/update values to/in an dictionary"
   ]
  },
  {
   "cell_type": "code",
   "execution_count": null,
   "metadata": {
    "slideshow": {
     "slide_type": "subslide"
    }
   },
   "outputs": [],
   "source": [
    "# add a item to dictionary\n",
    "student = {'name':'John', 'age': 24, 'subjects': ['Irish','English']}\n",
    "print(student)\n",
    "# print(student['subjects'])\n",
    "# Adding an item\n",
    "student['phone'] ='01-456789'#add a value to dictionary\n",
    "# print(student)\n",
    "# Update a value\n",
    "student['phone'] ='01-9999999'#update a value in a dictionary\n",
    "print(student)"
   ]
  },
  {
   "cell_type": "markdown",
   "metadata": {
    "slideshow": {
     "slide_type": "slide"
    }
   },
   "source": [
    "### Dictionary Update Method\n",
    "Ideal if you want to change multiple things at once. You can add and update."
   ]
  },
  {
   "cell_type": "code",
   "execution_count": null,
   "metadata": {
    "scrolled": true,
    "slideshow": {
     "slide_type": "subslide"
    }
   },
   "outputs": [],
   "source": [
    "# Update and Change values\n",
    "student = {'name':'John', 'age': 24, 'subjects': ['Irish','English']}\n",
    "\n",
    "student.update({'name': 'Mary', 'phone': '333333333', 'grade': 44})\n",
    "print(student)"
   ]
  },
  {
   "cell_type": "code",
   "execution_count": null,
   "metadata": {
    "slideshow": {
     "slide_type": "skip"
    }
   },
   "outputs": [],
   "source": [
    "# Adding things to dictionary\n",
    "dict ={'name':'John', 'age': 24}\n",
    "print(dict)\n",
    "new_name = input('What is your name')\n",
    "new_age = input('What is your age')\n",
    "dict.update({'name1': new_name})\n",
    "dict.update({'age': new_age})\n",
    "print(dict)"
   ]
  },
  {
   "cell_type": "markdown",
   "metadata": {
    "slideshow": {
     "slide_type": "slide"
    }
   },
   "source": [
    "### Del and Pop methods\n",
    "Del deletes a key/value; Pop remove but also returns and that value "
   ]
  },
  {
   "cell_type": "code",
   "execution_count": null,
   "metadata": {
    "scrolled": true,
    "slideshow": {
     "slide_type": "subslide"
    }
   },
   "outputs": [],
   "source": [
    "# Delete\n",
    "student = {'name':'John', 'age': 24, 'subjects': ['Irish','English']}\n",
    "\n",
    "subs = student.pop('subjects')\n",
    "print(student)\n",
    "print(subs)"
   ]
  },
  {
   "cell_type": "markdown",
   "metadata": {
    "slideshow": {
     "slide_type": "slide"
    }
   },
   "source": [
    "### Looping Through a Dictionary"
   ]
  },
  {
   "cell_type": "code",
   "execution_count": null,
   "metadata": {
    "slideshow": {
     "slide_type": "subslide"
    }
   },
   "outputs": [],
   "source": [
    "student = {'name': 'Mary', 'phone': '333333333', 'grade': 44}\n",
    "# print(student)\n",
    "print(len(student)) # Number of elements in the dictionary"
   ]
  },
  {
   "cell_type": "code",
   "execution_count": null,
   "metadata": {
    "slideshow": {
     "slide_type": "subslide"
    }
   },
   "outputs": [],
   "source": [
    "print(student.keys())\n",
    "print(student.values())\n",
    "print(student.items())"
   ]
  },
  {
   "cell_type": "markdown",
   "metadata": {
    "slideshow": {
     "slide_type": "skip"
    }
   },
   "source": [
    "<div><img src=\"images/preview.png\" alt=\"preview\" align=\"left\" width=\"80\"/><br>\n",
    "<blockquote> <b>For Loop:</b>\n",
    "A for loop is used for iterating over a sequence (that is either a list, a tuple, a dictionary, a set, or a string).\n",
    "</blockquote></div>\n",
    "<div>\n",
    "<img src=\"images/syntax.png\" alt=\"preview\" align=\"left\" width=\"50\"/><br>    \n",
    "</div>\n",
    "\n",
    "```python\n",
    "for iterating_var in sequence:\n",
    "   statements(s)\n",
    "```"
   ]
  },
  {
   "cell_type": "code",
   "execution_count": null,
   "metadata": {
    "slideshow": {
     "slide_type": "fragment"
    }
   },
   "outputs": [],
   "source": [
    "fruits = ['banana', 'apple',  'mango', 'pear']\n",
    "for fruit in fruits:\n",
    "    print ('Eating:', fruit)\n",
    "\n",
    "print(\"\\nBasket is \\n empty!\")"
   ]
  },
  {
   "cell_type": "code",
   "execution_count": null,
   "metadata": {
    "slideshow": {
     "slide_type": "skip"
    }
   },
   "outputs": [],
   "source": [
    "# It loops trough each element in students and assigns the element to a tempory variable.\n",
    "student = ['John', 'age','subjects']\n",
    "for x in student:\n",
    "    print(x)"
   ]
  },
  {
   "cell_type": "markdown",
   "metadata": {
    "slideshow": {
     "slide_type": "slide"
    }
   },
   "source": [
    "<div><img src=\"images/preview.png\" alt=\"preview\" align=\"left\" width=\"100\"/><br>\n",
    "<blockquote> <b>Range function:</b>\n",
    "Python range() The range() function returns a sequence of numbers, starting from 0 by default, and increments by 1 (by default), and stops before a specified number.   \n",
    "</blockquote></div>\n",
    "<div>\n",
    "<img src=\"images/syntax.png\" alt=\"preview\" align=\"left\" width=\"50\"/><br>    \n",
    "</div>\n",
    "\n",
    "```python\n",
    "range(start, stop, step)\n",
    "```"
   ]
  },
  {
   "cell_type": "code",
   "execution_count": null,
   "metadata": {
    "slideshow": {
     "slide_type": "subslide"
    }
   },
   "outputs": [],
   "source": [
    "x = range(5)\n",
    "\n",
    "for num in x:\n",
    "    print(num)"
   ]
  },
  {
   "cell_type": "code",
   "execution_count": null,
   "metadata": {
    "slideshow": {
     "slide_type": "skip"
    }
   },
   "outputs": [],
   "source": [
    "# Example of Range function\n",
    "name ='hfdsa'\n",
    "let = len(name)\n",
    "\n",
    "# print(let)\n",
    "\n",
    "for i in range(let):  \n",
    "    print(name[i])\n",
    "    \n"
   ]
  },
  {
   "cell_type": "code",
   "execution_count": null,
   "metadata": {
    "slideshow": {
     "slide_type": "skip"
    }
   },
   "outputs": [],
   "source": [
    "courses = ['History','Math', 'Physics', 'Irish']\n",
    "x = len(courses)\n",
    "# print (courses[1])\n",
    "\n",
    "for i in range(x):  \n",
    "    print(courses[i])    "
   ]
  },
  {
   "cell_type": "markdown",
   "metadata": {
    "slideshow": {
     "slide_type": "skip"
    }
   },
   "source": [
    "## SAQ 5 : Noah's Ark multiple inputs\n",
    "Using the **Range** function and a **For loop**, ask for the type of animal **input()** 4 times and print out a list of the animals at the end. "
   ]
  },
  {
   "cell_type": "code",
   "execution_count": null,
   "metadata": {
    "slideshow": {
     "slide_type": "skip"
    }
   },
   "outputs": [],
   "source": [
    "# PUT YOUR ANSWER HERE - DO NOT LOOK AT SOLUTION\n"
   ]
  },
  {
   "cell_type": "markdown",
   "metadata": {
    "slideshow": {
     "slide_type": "slide"
    }
   },
   "source": [
    "## Iterate through a dictionary"
   ]
  },
  {
   "cell_type": "code",
   "execution_count": null,
   "metadata": {
    "slideshow": {
     "slide_type": "subslide"
    }
   },
   "outputs": [],
   "source": [
    "# Iterate through key value pairs.\n",
    "for key,value in student.items():\n",
    "    print(key,value)"
   ]
  },
  {
   "cell_type": "markdown",
   "metadata": {
    "slideshow": {
     "slide_type": "skip"
    }
   },
   "source": [
    "## MAQ 3 : Animal Dictionary\n",
    "<img src=\"images/animals.jpg\" alt=\"turtle\" width=\"200\" align =\"right\"/>\n",
    "![Collections](images/collections_small.png)\n",
    "<br>\n",
    "\n",
    "Create a dictionary of animal names their ages and animal type. eg **Rover, 4, dog -- Melisa, Cat, 5**. Allow a user through an Input Statement to add new animals.  Print out the result each time. You can use a **for loop** and **range** function to specify how many times you ask for input.\n",
    "\n"
   ]
  },
  {
   "cell_type": "code",
   "execution_count": null,
   "metadata": {
    "slideshow": {
     "slide_type": "skip"
    }
   },
   "outputs": [],
   "source": [
    "# Add your Answer here!\n",
    "pet_details ={}"
   ]
  },
  {
   "cell_type": "markdown",
   "metadata": {
    "slideshow": {
     "slide_type": "slide"
    }
   },
   "source": [
    "## Sets\n",
    "![Collections](images/collections_small.png)<br>\n",
    "Sets are unordered and have no duplicates. You use curly braces to define a set. Sets are often used to get rid of duplicate values and they are also used to compare values."
   ]
  },
  {
   "cell_type": "code",
   "execution_count": null,
   "metadata": {
    "slideshow": {
     "slide_type": "subslide"
    }
   },
   "outputs": [],
   "source": [
    "courses_set  = {'History','Math', 'Physics', 'Irish','Math'}\n",
    "print(courses_set) #not in order can be any order\n"
   ]
  },
  {
   "cell_type": "code",
   "execution_count": null,
   "metadata": {
    "slideshow": {
     "slide_type": "skip"
    }
   },
   "outputs": [],
   "source": [
    "# Sets can easily determine what values they share or do not share with another set.\n",
    "courses_set1  = {'History','Math', 'Physics', 'Irish'}\n",
    "courses_set2  = {'History','Geography', 'Physics', 'French'}\n",
    "\n",
    "print(courses_set1.intersection(courses_set2))"
   ]
  },
  {
   "cell_type": "code",
   "execution_count": null,
   "metadata": {
    "scrolled": false,
    "slideshow": {
     "slide_type": "skip"
    }
   },
   "outputs": [],
   "source": [
    "print(courses_set1.difference(courses_set2))"
   ]
  },
  {
   "cell_type": "code",
   "execution_count": null,
   "metadata": {
    "slideshow": {
     "slide_type": "skip"
    }
   },
   "outputs": [],
   "source": [
    "print(courses_set1.union(courses_set2))"
   ]
  },
  {
   "cell_type": "markdown",
   "metadata": {
    "slideshow": {
     "slide_type": "skip"
    }
   },
   "source": [
    "<div><img src=\"images/preview.png\" alt=\"preview\" align=\"left\" width=\"100\"/><br>\n",
    "<blockquote> <b>Spliting code over multiple lines:</b>\n",
    "You cannot split a statement into multiple lines in Python by pressing Enter. Instead, use the backslash (\\) to indicate that a statement is continued on the next line."
   ]
  },
  {
   "cell_type": "markdown",
   "metadata": {
    "slideshow": {
     "slide_type": "skip"
    }
   },
   "source": [
    "# Solve our problem 4 - Team Exercise\n",
    "You should now have enough information to solve the problem. You will be divided into teams and one person will be nominated as leader. It will be there job to write the solution with inputs from the other team members. When you come back from the breakout room you will be presented with a sentence to analyse.  \n",
    "**Note:** Anybody can be asked to explain the solution."
   ]
  },
  {
   "cell_type": "markdown",
   "metadata": {
    "slideshow": {
     "slide_type": "skip"
    }
   },
   "source": [
    "![The End](images/the_end.png)"
   ]
  }
 ],
 "metadata": {
  "celltoolbar": "Slideshow",
  "hide_input": false,
  "kernelspec": {
   "display_name": "Python 3 (ipykernel)",
   "language": "python",
   "name": "python3"
  },
  "language_info": {
   "codemirror_mode": {
    "name": "ipython",
    "version": 3
   },
   "file_extension": ".py",
   "mimetype": "text/x-python",
   "name": "python",
   "nbconvert_exporter": "python",
   "pygments_lexer": "ipython3",
   "version": "3.9.12"
  },
  "toc": {
   "base_numbering": 1,
   "nav_menu": {},
   "number_sections": true,
   "sideBar": true,
   "skip_h1_title": false,
   "title_cell": "Table of Contents",
   "title_sidebar": "Contents",
   "toc_cell": false,
   "toc_position": {
    "height": "calc(100% - 180px)",
    "left": "10px",
    "top": "150px",
    "width": "165px"
   },
   "toc_section_display": true,
   "toc_window_display": false
  },
  "varInspector": {
   "cols": {
    "lenName": 16,
    "lenType": 16,
    "lenVar": 40
   },
   "kernels_config": {
    "python": {
     "delete_cmd_postfix": "",
     "delete_cmd_prefix": "del ",
     "library": "var_list.py",
     "varRefreshCmd": "print(var_dic_list())"
    },
    "r": {
     "delete_cmd_postfix": ") ",
     "delete_cmd_prefix": "rm(",
     "library": "var_list.r",
     "varRefreshCmd": "cat(var_dic_list()) "
    }
   },
   "types_to_exclude": [
    "module",
    "function",
    "builtin_function_or_method",
    "instance",
    "_Feature"
   ],
   "window_display": false
  }
 },
 "nbformat": 4,
 "nbformat_minor": 4
}
