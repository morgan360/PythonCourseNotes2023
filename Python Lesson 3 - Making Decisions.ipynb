{
 "cells": [
  {
   "cell_type": "markdown",
   "id": "92f3ac9a",
   "metadata": {
    "slideshow": {
     "slide_type": "skip"
    }
   },
   "source": [
    "version 1.2 Morgan McKnight - 2022-07-08 18:39:54  "
   ]
  },
  {
   "cell_type": "markdown",
   "id": "a18b28bd",
   "metadata": {
    "slideshow": {
     "slide_type": "slide"
    }
   },
   "source": [
    "# <center>Lesson 3 - MAKING DECISIONS</center>\n",
    "\n",
    "![title_conditionals](images/title_conditionals.png)"
   ]
  },
  {
   "cell_type": "markdown",
   "id": "652cdfef",
   "metadata": {
    "slideshow": {
     "slide_type": "slide"
    }
   },
   "source": [
    "## Problem 3 - Clare vs Limerick\n",
    "**The Challenge** \n",
    "> In hurling, three plays score points: a goal - is worth three-points, a free: is worth two-points, and a one-point is awarded for a conversion.\n",
    "You just watched a hurling game between the Clare and Limerick and recorded the number of goals, frees, and conversions for each team. Indicate whether the game was won by Clare, the game was won by the Limerick, or the game was a tie.\n",
    "\n",
    "**The input**\n",
    "\n",
    "> There are six lines of input. The first three give the scoring for the Clare,\n",
    "and the latter three give the scoring for the Limerick.\n",
    "- The first line gives the number of successful three-point shots for Clare.\n",
    "- The second line gives the number of successful two-point shots for the Clare.\n",
    "- The third line gives the number of successful one-point free throws for the Clare.\n",
    "- The fourth line gives the number of successful three-point shots for the Limerick.\n",
    "- The fifth line gives the number of successful two-point shots for the Limerick.\n",
    "- The sixth line gives the number of successful one-point free throws for the Limerick. <br>\n",
    "Each number is an integer between 0 and 100..\n",
    "\n",
    "**Output**<hr>\n",
    "> The output is a single sentence.\n",
    "- If the Clare scored more points than the Limerick, output - Clare 13: Limerick 6 Clare won by 7 points.\n",
    "- If the Limerick scored more points than the Clare, output - Clare 13: Limerick 24 Limerick won by 11 points.\n",
    "- If the Clare and Limerick scored the same number of points, output - Clare 12: Limerick 12 A Draw!.\n",
    "\n",
    "> Example Input and Output\n",
    "1. How many goals did Clare score?2\n",
    "2. How many frees did Clare score?2\n",
    "3. How many concersions did Clare score?3\n",
    "4. How many goals did Limerick score?4\n",
    "5. How many frees did Limerick score?4\n",
    "6. How many conversions did Limerick score?4\n",
    "\n",
    "The Output would be:  \n",
    "Clare 13: Limerick 24 Limerick won by 11 points\n",
    "\n",
    "**Consideration**<hr>\n",
    "> In this problem, we’ll need to output a message that depends on the outcome of a hurling game. To do that, we’ll learn all about **if** statements. We’ll also learn how we can store and manipulate true and false values in our programs. Yu will need to use the inbuilt function abs() to get point difference (as a positive integer. You will also need f strings to print the result."
   ]
  },
  {
   "cell_type": "markdown",
   "id": "84c12741",
   "metadata": {
    "slideshow": {
     "slide_type": "slide"
    }
   },
   "source": [
    "# Conditional Execution\n",
    "Our program must be able to compare the total points scored by one team and the total points scored by the other and use the result of that comparison to declare (print) what the result of the game is.\n",
    "We can use Python’s **if statement** to make these kinds of decisions. A condition is an expression that’s **true** or **false**, and an **if statement** uses conditions to determine what to do. **if statements** lead to conditional execution, so named because the execution of our program is influenced by conditions.\n",
    "We’ll first learn about a new type of variable that lets us represent **true** or **false** values, and how we can build expressions of this type. Then, we’ll use these expressions(Call Booleans) to write **if statements**."
   ]
  },
  {
   "cell_type": "markdown",
   "id": "cf4cb247",
   "metadata": {
    "slideshow": {
     "slide_type": "skip"
    }
   },
   "source": [
    "# Booleans and Conditionals\n",
    "\n",
    "![Booleans](images/Boolean-Operators-in-Python.png)<br>\n",
    "\n",
    "\n",
    "\n",
    "\n",
    "\n"
   ]
  },
  {
   "cell_type": "markdown",
   "id": "383f5603",
   "metadata": {
    "slideshow": {
     "slide_type": "subslide"
    }
   },
   "source": [
    "## Variable Types"
   ]
  },
  {
   "cell_type": "code",
   "execution_count": null,
   "id": "d4c77e76",
   "metadata": {
    "slideshow": {
     "slide_type": "subslide"
    }
   },
   "outputs": [],
   "source": [
    "type(2.2)"
   ]
  },
  {
   "cell_type": "code",
   "execution_count": null,
   "id": "472dc343",
   "metadata": {
    "slideshow": {
     "slide_type": "subslide"
    }
   },
   "outputs": [],
   "source": [
    "type(\"cat\")"
   ]
  },
  {
   "cell_type": "code",
   "execution_count": null,
   "id": "48928362",
   "metadata": {
    "slideshow": {
     "slide_type": "subslide"
    }
   },
   "outputs": [],
   "source": [
    "num_1 = 12\n",
    "type(num_1)"
   ]
  },
  {
   "cell_type": "code",
   "execution_count": null,
   "id": "ee514c10",
   "metadata": {
    "slideshow": {
     "slide_type": "subslide"
    }
   },
   "outputs": [],
   "source": [
    "num_1 = input()\n",
    "num_1 = float(num_1)\n",
    "print(type(num_1))"
   ]
  },
  {
   "cell_type": "markdown",
   "id": "6e98121a",
   "metadata": {
    "slideshow": {
     "slide_type": "slide"
    }
   },
   "source": [
    "## Boolean Type\n",
    "One Python type we haven’t met yet is the Boolean (bool) type. Unlike integers, strings, and floats, which have billions of possible values, there are only two Boolean values: True and False. These are exactly the values we need to represent the result of a condition. e.g is x greater than y. (True or False)"
   ]
  },
  {
   "cell_type": "code",
   "execution_count": null,
   "id": "af148fc9",
   "metadata": {
    "slideshow": {
     "slide_type": "skip"
    }
   },
   "outputs": [],
   "source": [
    "\n",
    "\n",
    "type(True)"
   ]
  },
  {
   "cell_type": "code",
   "execution_count": null,
   "id": "dfca5ea0",
   "metadata": {
    "slideshow": {
     "slide_type": "skip"
    }
   },
   "outputs": [],
   "source": [
    "type(False)"
   ]
  },
  {
   "cell_type": "markdown",
   "id": "b7abd83a",
   "metadata": {
    "slideshow": {
     "slide_type": "slide"
    }
   },
   "source": [
    "## Comparison Operators\n",
    "The Python comparison operators are:\n",
    "\n",
    "<table style=\"border:1px solid black\" align =\"left\">\n",
    "    <thead>\n",
    "            <th>Operator</th>\n",
    "            <th>Description</th>\n",
    "    </thead>\n",
    "    <tbody>\n",
    "        <tr>\n",
    "            <td>==</td>\n",
    "            <td>equal to</td>\n",
    "        </tr>\n",
    "        <tr>\n",
    "            <td>!= </td>\n",
    "            <td>not equal</td>\n",
    "        </tr>\n",
    "        <tr>\n",
    "            <td> > </td>\n",
    "            <td>greater than</td>\n",
    "        </tr>\n",
    "        <tr>\n",
    "            <td> < </td>\n",
    "            <td>less than</td>\n",
    "        </tr>\n",
    "        <tr>\n",
    "            <td>>=</td>\n",
    "            <td>greater than or equal to</td>\n",
    "        </tr>\n",
    "        <tr>\n",
    "            <td><= </td>\n",
    "            <td>less than or equal to</td>\n",
    "        </tr>\n",
    "    </tbody>\n",
    "</table>\n",
    "<br CLEAR=left>"
   ]
  },
  {
   "cell_type": "code",
   "execution_count": null,
   "id": "4aa81bc7",
   "metadata": {
    "slideshow": {
     "slide_type": "subslide"
    }
   },
   "outputs": [],
   "source": [
    "# How to ask the question is x equal to y.\n",
    "x = 5\n",
    "y = 5\n",
    "# print(x==y)\n",
    "ans = (x==y)\n",
    "print(ans)\n",
    "print(type(ans))"
   ]
  },
  {
   "cell_type": "markdown",
   "id": "54f649ed",
   "metadata": {
    "slideshow": {
     "slide_type": "slide"
    }
   },
   "source": [
    "## The if Statement\n",
    "When we find out whether a condition is True or False what are we going to do about it?   The **if statement** is used to decide what to do if the condition is **True** and what to do if the condition is **False**.\n",
    "![if](images/if_statement_small.png)"
   ]
  },
  {
   "cell_type": "code",
   "execution_count": null,
   "id": "30aa93c8",
   "metadata": {
    "slideshow": {
     "slide_type": "subslide"
    }
   },
   "outputs": [],
   "source": [
    "# What is the answer?\n",
    "clare_total = 4\n",
    "limerick_total = 6\n",
    "ans = clare_total > limerick_total\n",
    "print (ans)"
   ]
  },
  {
   "cell_type": "code",
   "execution_count": null,
   "id": "9541d4c4",
   "metadata": {
    "slideshow": {
     "slide_type": "subslide"
    }
   },
   "outputs": [],
   "source": [
    "# This works if Clare wins\n",
    "\n",
    "if clare_total > limerick_total:\n",
    "    print(clare_total)\n",
    "    print('Clare Wins!') #Notice the indent\n",
    "# Continue\n",
    "print('...')\n"
   ]
  },
  {
   "cell_type": "code",
   "execution_count": null,
   "id": "0b77d370",
   "metadata": {
    "slideshow": {
     "slide_type": "skip"
    }
   },
   "outputs": [],
   "source": [
    "# This does not work for Limerick\n",
    "clare_total = 28\n",
    "limerick_total = 26\n",
    "if clare_total > limerick_total:\n",
    "    print('Clare Wins!') #Notice the indent\n",
    "# Continue\n",
    "print('Limerick Wins!') #Notice the outdent"
   ]
  },
  {
   "cell_type": "code",
   "execution_count": null,
   "id": "832f3810",
   "metadata": {
    "slideshow": {
     "slide_type": "skip"
    }
   },
   "outputs": [],
   "source": [
    "# This does work, by using a second if statment\n",
    "clare_total = 5\n",
    "limerick_total = 6\n",
    "\n",
    "if clare_total > limerick_total:\n",
    "    print('Clare Wins!') #Notice the indent\n",
    "if  limerick_total > clare_total:\n",
    "    print('Limerick Wins!') #Notice the indent\n",
    "print('continue...')"
   ]
  },
  {
   "cell_type": "code",
   "execution_count": null,
   "id": "41551910",
   "metadata": {
    "slideshow": {
     "slide_type": "skip"
    }
   },
   "outputs": [],
   "source": [
    "# Another Example\n",
    "colour = 'blue'\n",
    "if (colour == 'red'):\n",
    "    print('Red')\n",
    "    #print ('yes')\n",
    "print('Continue..')\n"
   ]
  },
  {
   "cell_type": "code",
   "execution_count": null,
   "id": "4ece9541",
   "metadata": {
    "slideshow": {
     "slide_type": "skip"
    }
   },
   "outputs": [],
   "source": [
    "# if else statment\n",
    "colour = \"red\"\n",
    "if( colour == 'red'):\n",
    "    print('Red')\n",
    "else:\n",
    "     print('Not Red')\n",
    "\n",
    "# main program        \n",
    "print(\"Continue...\")\n"
   ]
  },
  {
   "cell_type": "code",
   "execution_count": null,
   "id": "a5ba8428",
   "metadata": {
    "slideshow": {
     "slide_type": "subslide"
    }
   },
   "outputs": [],
   "source": [
    "# if, elif, else statments\n",
    "colour = 'twik'\n",
    "\n",
    "if colour == 'red':\n",
    "    print('It is Red')\n",
    "elif colour == 'blue':\n",
    "    print('It is blue') \n",
    "elif colour == 'yellow':\n",
    "    print('It is yellow')\n",
    "elif colour == 'black':\n",
    "    print('It is black')    \n",
    "else:          # if all elifs are False\n",
    "     print(\"I am colour blind\")\n",
    "        \n",
    "# Back to the main program        \n",
    "print(\"Continue\")"
   ]
  },
  {
   "cell_type": "markdown",
   "id": "661a923f",
   "metadata": {},
   "source": [
    "## SAQ(m) 1 - And the winner is?\n",
    "Using four input statements, ask the user for the name of two teams and the score for each team. Then print out the winning team with the winning margin e.g.: **Dublin beat Kildare by 5 points.**"
   ]
  },
  {
   "cell_type": "code",
   "execution_count": null,
   "id": "3be444bd",
   "metadata": {},
   "outputs": [],
   "source": [
    "# PUT YOUR ANSWER HERE\n"
   ]
  },
  {
   "cell_type": "code",
   "execution_count": null,
   "id": "0e992b52",
   "metadata": {},
   "outputs": [],
   "source": []
  },
  {
   "cell_type": "markdown",
   "id": "7319c31a",
   "metadata": {
    "slideshow": {
     "slide_type": "slide"
    }
   },
   "source": [
    "## if  elif, else\n",
    "In the above example we also have to put an if statement to see if there is a Tie:\n",
    "```python\n",
    "if clare_total == limerick_total:\n",
    "    print('It is a Tie!')\n",
    "```\n",
    "But there is a more efficient way of doing this:\n",
    "\n",
    "![else_if](images/Python-elif-Statement-Syntax_small.png)"
   ]
  },
  {
   "cell_type": "code",
   "execution_count": null,
   "id": "40496e4b",
   "metadata": {
    "slideshow": {
     "slide_type": "subslide"
    }
   },
   "outputs": [],
   "source": [
    "# Working efficent solution\n",
    "if clare_total > limerick_total:\n",
    "    print('Clare Wins!') #Notice the indent\n",
    "elif  limerick_total > clare_total:\n",
    "    print('Limerick Wins!') #Notice the indent\n",
    "else:\n",
    "    print('It is a Tie!')\n",
    "print('continue...')"
   ]
  },
  {
   "cell_type": "markdown",
   "id": "9ca0dc52",
   "metadata": {
    "slideshow": {
     "slide_type": "skip"
    }
   },
   "source": [
    "## Solve problem 3 \n",
    "- Team Exercise. \n",
    "- You should now have enough information to solve the problem. \n",
    "- You will be divided into teams and one person will be nominated as leader. \n",
    "- It will be there job to write the solution with inputs from the other team members.\n",
    "**Note:** Anybody can be asked to explain the solution."
   ]
  },
  {
   "cell_type": "code",
   "execution_count": null,
   "id": "f9a512b0",
   "metadata": {
    "slideshow": {
     "slide_type": "skip"
    }
   },
   "outputs": [],
   "source": [
    "# PUT YOUR ANSWER HERE\n"
   ]
  },
  {
   "cell_type": "markdown",
   "id": "244a3b70",
   "metadata": {
    "slideshow": {
     "slide_type": "skip"
    }
   },
   "source": [
    "## Problem 4 - Handling Crank Calls (telemarketers)\n",
    "**The Challenge** \n",
    "> In this problem, we’ll assume that phone numbers are four digits. A phone number belongs to a telemarketer if its four digits satisfy all three of the following properties:\n",
    "- The first digit is 8 or 9.\n",
    "- The fourth digit is 8 or 9.\n",
    "- The second and third digits are the same.\n",
    "For example, a phone number whose four digits are 8119 belongs to a telemarketer.\n",
    "Determine whether a phone number belongs to a telemarketer, and indicate whether we should answer the phone or ignore it.\n",
    "\n",
    "**The input**\n",
    "\n",
    "> There are four lines of input. These lines give the first, second, third, and fourth digits of the phone number, respectively. Each digit is an integer between 0 and 9.\n",
    "\n",
    "**Output**<hr>\n",
    "> If the phone number belongs to a telemarketer, output \"Take the phone of the hook and walk away\"; otherwise, output \"answer quickly it could be the Lotto\".\n",
    "\n",
    "**Consideration**<hr>\n",
    "> Sometimes we need to encode more complex Boolean expressions than those that we have seen so far. In this problem, we’ll learn about Boolean operators that help us do this."
   ]
  },
  {
   "cell_type": "markdown",
   "id": "0f113fca",
   "metadata": {
    "slideshow": {
     "slide_type": "slide"
    }
   },
   "source": [
    "## Boolean Logical Operators\n",
    "\n",
    "The Python logical operators are:\n",
    "\n",
    "<table style=\"border:1px solid black\" align =\"left\">\n",
    "    <thead>\n",
    "            <th>Operator</th>\n",
    "            <th>Description</th>\n",
    "    </thead>\n",
    "    <tbody>\n",
    "        <tr>\n",
    "            <td>and</td>\n",
    "            <td>Returns True if both statements are True</td>\n",
    "        </tr>\n",
    "        <tr>\n",
    "            <td>or</td>\n",
    "            <td>Returns True if one of the statements is True</td>\n",
    "        </tr>\n",
    "        <tr>\n",
    "            <td> not </td>\n",
    "            <td>Reverse the result, returns False if the result is True</td>\n",
    "        </tr>\n",
    "    </tbody>\n",
    "</table>\n",
    "<br CLEAR=left>"
   ]
  },
  {
   "cell_type": "code",
   "execution_count": null,
   "id": "540bc473",
   "metadata": {
    "slideshow": {
     "slide_type": "subslide"
    }
   },
   "outputs": [],
   "source": [
    "# Ask the question\n",
    "today = 'Friday'\n",
    "weather = 'sunny'\n",
    "print(today == 'Friday' and weather == 'raining')"
   ]
  },
  {
   "cell_type": "code",
   "execution_count": null,
   "id": "65017a45",
   "metadata": {
    "slideshow": {
     "slide_type": "skip"
    }
   },
   "outputs": [],
   "source": [
    "# Checking for two conditions\n",
    "\n",
    "if (today == 'Friday' and weather == 'raining'):\n",
    "    print('Take the day off!')\n",
    "else:\n",
    "    print('keep working')\n"
   ]
  },
  {
   "cell_type": "code",
   "execution_count": null,
   "id": "8455fd86",
   "metadata": {
    "slideshow": {
     "slide_type": "skip"
    }
   },
   "outputs": [],
   "source": [
    "# Checking for two conditions with more options\n",
    "today = 'Friday'\n",
    "weather = 'sunny'\n",
    "\n",
    "if today == 'Friday' and weather == 'sunny':\n",
    "    print('Take the day off!')\n",
    "elif today == 'Friday' and weather == 'raining':\n",
    "     print('Work until 6pm!')\n",
    "else:\n",
    "    print('Keep up the good work')"
   ]
  },
  {
   "cell_type": "markdown",
   "id": "80afcabb",
   "metadata": {
    "slideshow": {
     "slide_type": "skip"
    }
   },
   "source": [
    "## SAQ 2 - According to my Calculations\n",
    "Create a simple calculator that that takes in two values x and y and an operator (Multiplication * or Addition \"+\")\n",
    "and carries out the relevant calculation and prints the results.\n",
    "\n",
    "For example if the user puts in the values 3, 4 and the * sign the result will be  12."
   ]
  },
  {
   "cell_type": "markdown",
   "id": "d0098bdd",
   "metadata": {
    "slideshow": {
     "slide_type": "slide"
    }
   },
   "source": [
    "# Solve Problem 4 - Team Exercise\n",
    "You should now have enough information to solve the problem. You will be divided into teams and one person will be nominated as leader. It will be there job to write the solution with inputs from the other team members. \n",
    "**Note:** Anybody can be asked to explain the solution."
   ]
  },
  {
   "cell_type": "code",
   "execution_count": null,
   "id": "88f24d36",
   "metadata": {
    "slideshow": {
     "slide_type": "skip"
    }
   },
   "outputs": [],
   "source": [
    "# Add your Answer Here\n"
   ]
  },
  {
   "cell_type": "markdown",
   "id": "937ea677",
   "metadata": {
    "slideshow": {
     "slide_type": "skip"
    }
   },
   "source": [
    "## Video Support"
   ]
  },
  {
   "cell_type": "code",
   "execution_count": null,
   "id": "c01bc504",
   "metadata": {
    "slideshow": {
     "slide_type": "skip"
    }
   },
   "outputs": [],
   "source": [
    "from IPython.display import YouTubeVideo\n",
    "# Introduction to Python- Integers\n",
    "# Video credit: Corey Schefer.\n",
    "YouTubeVideo('DZwmZ8Usvnk', width=620, height=350)"
   ]
  },
  {
   "cell_type": "markdown",
   "id": "b3b291a1",
   "metadata": {},
   "source": [
    "![The End](images/the_end.png)"
   ]
  }
 ],
 "metadata": {
  "celltoolbar": "Slideshow",
  "kernelspec": {
   "display_name": "Python 3 (ipykernel)",
   "language": "python",
   "name": "python3"
  },
  "language_info": {
   "codemirror_mode": {
    "name": "ipython",
    "version": 3
   },
   "file_extension": ".py",
   "mimetype": "text/x-python",
   "name": "python",
   "nbconvert_exporter": "python",
   "pygments_lexer": "ipython3",
   "version": "3.9.12"
  },
  "toc": {
   "base_numbering": 1,
   "nav_menu": {},
   "number_sections": true,
   "sideBar": true,
   "skip_h1_title": false,
   "title_cell": "Table of Contents",
   "title_sidebar": "Contents",
   "toc_cell": false,
   "toc_position": {},
   "toc_section_display": true,
   "toc_window_display": true
  },
  "varInspector": {
   "cols": {
    "lenName": 16,
    "lenType": 16,
    "lenVar": 40
   },
   "kernels_config": {
    "python": {
     "delete_cmd_postfix": "",
     "delete_cmd_prefix": "del ",
     "library": "var_list.py",
     "varRefreshCmd": "print(var_dic_list())"
    },
    "r": {
     "delete_cmd_postfix": ") ",
     "delete_cmd_prefix": "rm(",
     "library": "var_list.r",
     "varRefreshCmd": "cat(var_dic_list()) "
    }
   },
   "position": {
    "height": "272.847px",
    "left": "1304px",
    "right": "20px",
    "top": "120px",
    "width": "275.998px"
   },
   "types_to_exclude": [
    "module",
    "function",
    "builtin_function_or_method",
    "instance",
    "_Feature"
   ],
   "window_display": false
  }
 },
 "nbformat": 4,
 "nbformat_minor": 5
}
