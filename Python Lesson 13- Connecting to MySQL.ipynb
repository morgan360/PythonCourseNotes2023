{
 "cells": [
  {
   "cell_type": "code",
   "execution_count": 3,
   "metadata": {},
   "outputs": [
    {
     "name": "stdout",
     "output_type": "stream",
     "text": [
      "Collecting mysql-connector-python\n",
      "  Downloading mysql_connector_python-8.0.28-py2.py3-none-any.whl (342 kB)\n",
      "\u001b[K     |████████████████████████████████| 342 kB 1.2 MB/s eta 0:00:01\n",
      "\u001b[?25hRequirement already satisfied: protobuf>=3.0.0 in /Users/morgan/anaconda3/lib/python3.8/site-packages (from mysql-connector-python) (3.19.0)\n",
      "Installing collected packages: mysql-connector-python\n",
      "Successfully installed mysql-connector-python-8.0.28\n"
     ]
    }
   ],
   "source": [
    "!pip install mysql-connector-python"
   ]
  },
  {
   "cell_type": "code",
   "execution_count": 3,
   "metadata": {},
   "outputs": [
    {
     "ename": "ModuleNotFoundError",
     "evalue": "No module named 'mysql'",
     "output_type": "error",
     "traceback": [
      "\u001b[0;31m---------------------------------------------------------------------------\u001b[0m",
      "\u001b[0;31mModuleNotFoundError\u001b[0m                       Traceback (most recent call last)",
      "\u001b[0;32m/var/folders/ff/rmfvkg1d6bn7dmw6zmwzc9bm0000gn/T/ipykernel_19016/373185333.py\u001b[0m in \u001b[0;36m<module>\u001b[0;34m\u001b[0m\n\u001b[1;32m      1\u001b[0m \u001b[0;31m#Variable Arguments in dictionary\u001b[0m\u001b[0;34m\u001b[0m\u001b[0;34m\u001b[0m\u001b[0;34m\u001b[0m\u001b[0m\n\u001b[0;32m----> 2\u001b[0;31m \u001b[0;32mimport\u001b[0m \u001b[0mmysql\u001b[0m\u001b[0;34m.\u001b[0m\u001b[0mconnector\u001b[0m\u001b[0;34m\u001b[0m\u001b[0;34m\u001b[0m\u001b[0m\n\u001b[0m\u001b[1;32m      3\u001b[0m \u001b[0;34m\u001b[0m\u001b[0m\n\u001b[1;32m      4\u001b[0m \u001b[0;34m\u001b[0m\u001b[0m\n\u001b[1;32m      5\u001b[0m connection_config_dict = { 'host' :\"cabin-fever.ie\",  'user': \"c580241\",  'password': \"9)58wRK5st:kAS\",\n",
      "\u001b[0;31mModuleNotFoundError\u001b[0m: No module named 'mysql'"
     ]
    }
   ],
   "source": [
    "#Variable Arguments in dictionary\n",
    "import mysql.connector\n",
    "\n",
    "\n",
    "connection_config_dict = { 'host' :\"cabin-fever.ie\",  'user': \"c580241\",  'password': \"9)58wRK5st:kAS\",\n",
    "'database' :' c580241_wp49'}\n",
    "\n",
    "ouzel_conect = mysql.connector.connect(**connection_config_dict)"
   ]
  },
  {
   "cell_type": "code",
   "execution_count": 17,
   "metadata": {},
   "outputs": [
    {
     "name": "stdout",
     "output_type": "stream",
     "text": [
      "('mor_rounds',)\n",
      "('mor_scores',)\n",
      "('mor_teams',)\n",
      "('ouzel_actionscheduler_actions',)\n",
      "('ouzel_actionscheduler_claims',)\n",
      "('ouzel_actionscheduler_groups',)\n",
      "('ouzel_actionscheduler_logs',)\n",
      "('ouzel_commentmeta',)\n",
      "('ouzel_comments',)\n",
      "('ouzel_evf_entries',)\n",
      "('ouzel_evf_entrymeta',)\n",
      "('ouzel_evf_sessions',)\n",
      "('ouzel_links',)\n",
      "('ouzel_options',)\n",
      "('ouzel_postmeta',)\n",
      "('ouzel_posts',)\n",
      "('ouzel_term_relationships',)\n",
      "('ouzel_term_taxonomy',)\n",
      "('ouzel_termmeta',)\n",
      "('ouzel_terms',)\n",
      "('ouzel_usermeta',)\n",
      "('ouzel_users',)\n",
      "('ouzel_wc_admin_note_actions',)\n",
      "('ouzel_wc_admin_notes',)\n",
      "('ouzel_wc_category_lookup',)\n",
      "('ouzel_wc_customer_lookup',)\n",
      "('ouzel_wc_download_log',)\n",
      "('ouzel_wc_order_coupon_lookup',)\n",
      "('ouzel_wc_order_product_lookup',)\n",
      "('ouzel_wc_order_stats',)\n",
      "('ouzel_wc_order_tax_lookup',)\n",
      "('ouzel_wc_product_meta_lookup',)\n",
      "('ouzel_wc_reserved_stock',)\n",
      "('ouzel_wc_tax_rate_classes',)\n",
      "('ouzel_wc_webhooks',)\n",
      "('ouzel_woocommerce_api_keys',)\n",
      "('ouzel_woocommerce_attribute_taxonomies',)\n",
      "('ouzel_woocommerce_downloadable_product_permissions',)\n",
      "('ouzel_woocommerce_log',)\n",
      "('ouzel_woocommerce_order_itemmeta',)\n",
      "('ouzel_woocommerce_order_items',)\n",
      "('ouzel_woocommerce_payment_tokenmeta',)\n",
      "('ouzel_woocommerce_payment_tokens',)\n",
      "('ouzel_woocommerce_sessions',)\n",
      "('ouzel_woocommerce_shipping_zone_locations',)\n",
      "('ouzel_woocommerce_shipping_zone_methods',)\n",
      "('ouzel_woocommerce_shipping_zones',)\n",
      "('ouzel_woocommerce_tax_rate_locations',)\n",
      "('ouzel_woocommerce_tax_rates',)\n",
      "('ouzel_wpforms_tasks_meta',)\n"
     ]
    }
   ],
   "source": [
    "mycursor = ouzel_conect.cursor()\n",
    "\n",
    "mycursor.execute(\"SHOW TABLES\")\n",
    "\n",
    "for x in mycursor:\n",
    "  print(x)"
   ]
  },
  {
   "cell_type": "code",
   "execution_count": 1,
   "metadata": {
    "scrolled": true
   },
   "outputs": [
    {
     "ename": "ModuleNotFoundError",
     "evalue": "No module named 'mysql'",
     "output_type": "error",
     "traceback": [
      "\u001b[0;31m---------------------------------------------------------------------------\u001b[0m",
      "\u001b[0;31mModuleNotFoundError\u001b[0m                       Traceback (most recent call last)",
      "\u001b[0;32m/var/folders/ff/rmfvkg1d6bn7dmw6zmwzc9bm0000gn/T/ipykernel_12884/2302144186.py\u001b[0m in \u001b[0;36m<module>\u001b[0;34m\u001b[0m\n\u001b[1;32m      1\u001b[0m \u001b[0;31m#Variable Arguments in dictionary\u001b[0m\u001b[0;34m\u001b[0m\u001b[0;34m\u001b[0m\u001b[0;34m\u001b[0m\u001b[0m\n\u001b[0;32m----> 2\u001b[0;31m \u001b[0;32mimport\u001b[0m \u001b[0mmysql\u001b[0m\u001b[0;34m.\u001b[0m\u001b[0mconnector\u001b[0m\u001b[0;34m\u001b[0m\u001b[0;34m\u001b[0m\u001b[0m\n\u001b[0m\u001b[1;32m      3\u001b[0m \u001b[0;34m\u001b[0m\u001b[0m\n\u001b[1;32m      4\u001b[0m \u001b[0;34m\u001b[0m\u001b[0m\n\u001b[1;32m      5\u001b[0m connection_config_dict = { 'host' :\"cabin-fever.ie\",  'user': \"c580241\",  'password': \"9)58wRK5st:kAS\",\n",
      "\u001b[0;31mModuleNotFoundError\u001b[0m: No module named 'mysql'"
     ]
    }
   ],
   "source": [
    "#Variable Arguments in dictionary\n",
    "import mysql.connector\n",
    "\n",
    "\n",
    "connection_config_dict = { 'host' :\"cabin-fever.ie\",  'user': \"c580241\",  'password': \"9)58wRK5st:kAS\",\n",
    "'database' :' c580241_wp49'}\n",
    "\n",
    "ouzel_conect = mysql.connector.connect(**connection_config_dict)\n",
    "# Find table colulmns\n",
    "PostgreSQL_select_Query = \"\"\"select column_name from information_schema.columns where table_name = 'outerWheel' \"\"\"\n",
    "   \n",
    "cursor = ouzel_conect.cursor()\n",
    "cursor.execute(PostgreSQL_select_Query)\n",
    "records = cursor.fetchall()\n",
    "print (\"Displaying column name from table \")\n",
    "for column in records:\n",
    "       print (column)"
   ]
  },
  {
   "cell_type": "code",
   "execution_count": 27,
   "metadata": {},
   "outputs": [],
   "source": [
    "sql = \"INSERT INTO mor_rounds (round, description) VALUES (%s, %s)\"\n",
    "val = (\"Round 1\", \"Weigh Anchor\")\n",
    "cursor.execute(sql, val)"
   ]
  },
  {
   "cell_type": "code",
   "execution_count": 28,
   "metadata": {},
   "outputs": [
    {
     "name": "stdout",
     "output_type": "stream",
     "text": [
      "(3, 'Round 1', 'Weigh Anchor')\n"
     ]
    }
   ],
   "source": [
    "sql = \"SELECT * FROM mor_rounds\"\n",
    "cursor.execute(sql)\n",
    "result = cursor.fetchall()\n",
    "for x in result:\n",
    "  print(x)"
   ]
  },
  {
   "cell_type": "code",
   "execution_count": null,
   "metadata": {},
   "outputs": [],
   "source": []
  }
 ],
 "metadata": {
  "hide_input": false,
  "kernelspec": {
   "display_name": "Python 3 (ipykernel)",
   "language": "python",
   "name": "python3"
  },
  "language_info": {
   "codemirror_mode": {
    "name": "ipython",
    "version": 3
   },
   "file_extension": ".py",
   "mimetype": "text/x-python",
   "name": "python",
   "nbconvert_exporter": "python",
   "pygments_lexer": "ipython3",
   "version": "3.8.12"
  },
  "toc": {
   "base_numbering": 1,
   "nav_menu": {},
   "number_sections": true,
   "sideBar": true,
   "skip_h1_title": false,
   "title_cell": "Table of Contents",
   "title_sidebar": "Contents",
   "toc_cell": false,
   "toc_position": {},
   "toc_section_display": true,
   "toc_window_display": true
  },
  "varInspector": {
   "cols": {
    "lenName": 16,
    "lenType": 16,
    "lenVar": 40
   },
   "kernels_config": {
    "python": {
     "delete_cmd_postfix": "",
     "delete_cmd_prefix": "del ",
     "library": "var_list.py",
     "varRefreshCmd": "print(var_dic_list())"
    },
    "r": {
     "delete_cmd_postfix": ") ",
     "delete_cmd_prefix": "rm(",
     "library": "var_list.r",
     "varRefreshCmd": "cat(var_dic_list()) "
    }
   },
   "types_to_exclude": [
    "module",
    "function",
    "builtin_function_or_method",
    "instance",
    "_Feature"
   ],
   "window_display": false
  }
 },
 "nbformat": 4,
 "nbformat_minor": 4
}
