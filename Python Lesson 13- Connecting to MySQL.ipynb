{
 "cells": [
  {
   "cell_type": "code",
   "execution_count": null,
   "metadata": {},
   "outputs": [],
   "source": [
    "!pip install mysql-connector-python"
   ]
  },
  {
   "cell_type": "code",
   "execution_count": null,
   "metadata": {},
   "outputs": [],
   "source": [
    "#Variable Arguments in dictionary\n",
    "import mysql.connector\n",
    "\n",
    "\n",
    "connection_config_dict = { 'host' :\"cabin-fever.ie\",  'user': \"c580241\",  'password': \"9)58wRK5st:kAS\",\n",
    "'database' :' c580241_wp49'}\n",
    "\n",
    "ouzel_conect = mysql.connector.connect(**connection_config_dict)"
   ]
  },
  {
   "cell_type": "code",
   "execution_count": null,
   "metadata": {},
   "outputs": [],
   "source": [
    "mycursor = ouzel_conect.cursor()\n",
    "\n",
    "mycursor.execute(\"SHOW TABLES\")\n",
    "\n",
    "for x in mycursor:\n",
    "  print(x)"
   ]
  },
  {
   "cell_type": "code",
   "execution_count": null,
   "metadata": {
    "scrolled": true
   },
   "outputs": [],
   "source": [
    "#Variable Arguments in dictionary\n",
    "import mysql.connector\n",
    "\n",
    "\n",
    "connection_config_dict = { 'host' :\"cabin-fever.ie\",  'user': \"c580241\",  'password': \"9)58wRK5st:kAS\",\n",
    "'database' :' c580241_wp49'}\n",
    "\n",
    "ouzel_conect = mysql.connector.connect(**connection_config_dict)\n",
    "# Find table colulmns\n",
    "PostgreSQL_select_Query = \"\"\"select column_name from information_schema.columns where table_name = 'outerWheel' \"\"\"\n",
    "   \n",
    "cursor = ouzel_conect.cursor()\n",
    "cursor.execute(PostgreSQL_select_Query)\n",
    "records = cursor.fetchall()\n",
    "print (\"Displaying column name from table \")\n",
    "for column in records:\n",
    "       print (column)"
   ]
  },
  {
   "cell_type": "code",
   "execution_count": null,
   "metadata": {},
   "outputs": [],
   "source": [
    "sql = \"INSERT INTO mor_rounds (round, description) VALUES (%s, %s)\"\n",
    "val = (\"Round 1\", \"Weigh Anchor\")\n",
    "cursor.execute(sql, val)"
   ]
  },
  {
   "cell_type": "code",
   "execution_count": null,
   "metadata": {},
   "outputs": [],
   "source": [
    "sql = \"SELECT * FROM mor_rounds\"\n",
    "cursor.execute(sql)\n",
    "result = cursor.fetchall()\n",
    "for x in result:\n",
    "  print(x)"
   ]
  },
  {
   "cell_type": "code",
   "execution_count": null,
   "metadata": {},
   "outputs": [],
   "source": []
  }
 ],
 "metadata": {
  "hide_input": false,
  "kernelspec": {
   "display_name": "Python 3 (ipykernel)",
   "language": "python",
   "name": "python3"
  },
  "language_info": {
   "codemirror_mode": {
    "name": "ipython",
    "version": 3
   },
   "file_extension": ".py",
   "mimetype": "text/x-python",
   "name": "python",
   "nbconvert_exporter": "python",
   "pygments_lexer": "ipython3",
   "version": "3.9.12"
  },
  "toc": {
   "base_numbering": 1,
   "nav_menu": {},
   "number_sections": true,
   "sideBar": true,
   "skip_h1_title": false,
   "title_cell": "Table of Contents",
   "title_sidebar": "Contents",
   "toc_cell": false,
   "toc_position": {},
   "toc_section_display": true,
   "toc_window_display": true
  },
  "varInspector": {
   "cols": {
    "lenName": 16,
    "lenType": 16,
    "lenVar": 40
   },
   "kernels_config": {
    "python": {
     "delete_cmd_postfix": "",
     "delete_cmd_prefix": "del ",
     "library": "var_list.py",
     "varRefreshCmd": "print(var_dic_list())"
    },
    "r": {
     "delete_cmd_postfix": ") ",
     "delete_cmd_prefix": "rm(",
     "library": "var_list.r",
     "varRefreshCmd": "cat(var_dic_list()) "
    }
   },
   "types_to_exclude": [
    "module",
    "function",
    "builtin_function_or_method",
    "instance",
    "_Feature"
   ],
   "window_display": false
  }
 },
 "nbformat": 4,
 "nbformat_minor": 4
}
