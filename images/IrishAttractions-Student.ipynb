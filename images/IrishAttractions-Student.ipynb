{
 "cells": [
  {
   "cell_type": "markdown",
   "id": "a2dc40f3",
   "metadata": {},
   "source": [
    "version 1.0 Morgan McKnight"
   ]
  },
  {
   "cell_type": "markdown",
   "id": "c40d8e0e",
   "metadata": {},
   "source": [
    "## Answer to Attraction Exercise-Lesson 9"
   ]
  },
  {
   "cell_type": "code",
   "execution_count": null,
   "id": "1994ed2f",
   "metadata": {},
   "outputs": [],
   "source": [
    "# import the list of stations\n",
    "import pandas as pd\n",
    "# Plot Library\n",
    "from matplotlib import pyplot as plt\n",
    "import numpy as np"
   ]
  },
  {
   "cell_type": "code",
   "execution_count": null,
   "id": "b62f039f",
   "metadata": {},
   "outputs": [],
   "source": [
    "# No need for a directory path if in the same directory, index_col = 'Year'\n",
    "df = pd.read_csv(\"data/Attractions.csv\")"
   ]
  },
  {
   "cell_type": "code",
   "execution_count": null,
   "id": "6ee0ecfe",
   "metadata": {},
   "outputs": [],
   "source": [
    "df"
   ]
  },
  {
   "cell_type": "code",
   "execution_count": null,
   "id": "3df105e5",
   "metadata": {},
   "outputs": [],
   "source": [
    "location=[df.iloc[3]['Latitude'], df.iloc[3]['Longitude']]\n",
    "print(location)"
   ]
  },
  {
   "cell_type": "code",
   "execution_count": null,
   "id": "a54ebd74",
   "metadata": {},
   "outputs": [],
   "source": [
    "#pip install folium"
   ]
  },
  {
   "cell_type": "code",
   "execution_count": null,
   "id": "d9b5ebec",
   "metadata": {},
   "outputs": [],
   "source": [
    "#Ireland Map\n",
    "import folium\n",
    "\n",
    "ireland_map = folium.Map(\n",
    "    location=[53.43333, -7.95],\n",
    "    tiles='Stamen Terrain',\n",
    "    zoom_start=8,\n",
    "    width=600,\n",
    "    height=700\n",
    ")"
   ]
  },
  {
   "cell_type": "code",
   "execution_count": null,
   "id": "abc6792c",
   "metadata": {},
   "outputs": [],
   "source": [
    "ireland_map"
   ]
  },
  {
   "cell_type": "code",
   "execution_count": null,
   "id": "3ac56432",
   "metadata": {},
   "outputs": [],
   "source": [
    "for i in range(0,len(df)):\n",
    "    folium.Marker(\n",
    "    location=[df.iloc[i]['Latitude'], df.iloc[i]['Longitude']]\n",
    "    ).add_to(ireland_map)"
   ]
  },
  {
   "cell_type": "code",
   "execution_count": null,
   "id": "55da84f6",
   "metadata": {},
   "outputs": [],
   "source": [
    "#Call map\n",
    "ireland_map"
   ]
  },
  {
   "cell_type": "code",
   "execution_count": null,
   "id": "bcb1163b",
   "metadata": {},
   "outputs": [],
   "source": [
    "for i in range(0,len(df)):\n",
    "    #height = str(df.iloc[i]['Height (m)'])\n",
    "    folium.Marker(\n",
    "    location=[df.iloc[i]['Latitude'], df.iloc[i]['Longitude']],\n",
    "    \n",
    "    \n",
    "    tooltip = \"<div style='margin: 0; background-color: blue; color: white;'>\"+\n",
    "         \"<h5 style='text-align:center;font-weight: bold'>\"+df.iloc[i]['Name'] + \"</h5>\"+\n",
    "        \"<h5 style='text-align:center;font-weight: bold'>\"+ str(df.iloc[i]['Tags']) + \"</h5>\"\n",
    "        \"</div>\",\n",
    "   ).add_to(ireland_map)     \n",
    "        "
   ]
  },
  {
   "cell_type": "code",
   "execution_count": null,
   "id": "06a81919",
   "metadata": {},
   "outputs": [],
   "source": [
    "ireland_map"
   ]
  }
 ],
 "metadata": {
  "kernelspec": {
   "display_name": "Python 3 (ipykernel)",
   "language": "python",
   "name": "python3"
  },
  "language_info": {
   "codemirror_mode": {
    "name": "ipython",
    "version": 3
   },
   "file_extension": ".py",
   "mimetype": "text/x-python",
   "name": "python",
   "nbconvert_exporter": "python",
   "pygments_lexer": "ipython3",
   "version": "3.8.12"
  },
  "toc": {
   "base_numbering": 1,
   "nav_menu": {},
   "number_sections": true,
   "sideBar": true,
   "skip_h1_title": false,
   "title_cell": "Table of Contents",
   "title_sidebar": "Contents",
   "toc_cell": false,
   "toc_position": {},
   "toc_section_display": true,
   "toc_window_display": false
  },
  "varInspector": {
   "cols": {
    "lenName": 16,
    "lenType": 16,
    "lenVar": 40
   },
   "kernels_config": {
    "python": {
     "delete_cmd_postfix": "",
     "delete_cmd_prefix": "del ",
     "library": "var_list.py",
     "varRefreshCmd": "print(var_dic_list())"
    },
    "r": {
     "delete_cmd_postfix": ") ",
     "delete_cmd_prefix": "rm(",
     "library": "var_list.r",
     "varRefreshCmd": "cat(var_dic_list()) "
    }
   },
   "types_to_exclude": [
    "module",
    "function",
    "builtin_function_or_method",
    "instance",
    "_Feature"
   ],
   "window_display": false
  }
 },
 "nbformat": 4,
 "nbformat_minor": 5
}
