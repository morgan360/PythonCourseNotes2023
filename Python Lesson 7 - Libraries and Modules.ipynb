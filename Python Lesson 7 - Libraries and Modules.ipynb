{
 "cells": [
  {
   "cell_type": "markdown",
   "metadata": {},
   "source": [
    "version 4.1 Morgan McKnight"
   ]
  },
  {
   "cell_type": "markdown",
   "metadata": {},
   "source": [
    "# Lesson 7 - Libraries and Modules\n",
    "\n",
    "In this class we will look at how to create your own libraries/modules that you can import into any program you wish and use the python code and functions.   \n",
    "**Note:** The python code you write in Juypter Notebooks is saved as a file with the IPYNB (Interactive Python Note BOOK)extension. When you create Python programs external to Juypter Notebooks(i.e. pure python files) you do so with an external Editor (sometimes called an Integrated Development environment or IDE ). Anaconda provides you with an IDE called **Spider**.\n",
    "\n",
    "When we import a library/module it creates all  the functions and variables and runs any statements in the library such as print. Libraries and modules must be saveed it as a **py** file. We will create our own module using Spider and we will import the module into our Juypter Notebook. For our purposes we will store the module in the same directory as our notebook.\n",
    "\n",
    "\n",
    "<img src=\"images/Python-Libraries.jpeg\" alt=\"Libraries\" width=\"400\"/>\n",
    "<br>"
   ]
  },
  {
   "cell_type": "markdown",
   "metadata": {},
   "source": [
    "## Spider\n",
    "We will use the program spider to create basic Python programs."
   ]
  },
  {
   "cell_type": "markdown",
   "metadata": {},
   "source": [
    "## Create and Import your own Module\n",
    "We will create a module in Spider import it into this notebook and use the functions from the library."
   ]
  },
  {
   "cell_type": "code",
   "execution_count": null,
   "metadata": {
    "scrolled": true
   },
   "outputs": [],
   "source": [
    "# Set up path in system\n",
    "import sys # system library\n",
    "sys.path.append('/Users/morgan/Documents/Courses/Python/MyModules')\n",
    "# Import the module I created in Spider\n",
    "import morgans_module2 as mm # alias\n",
    "#import morgan_math \n",
    "#import random"
   ]
  },
  {
   "cell_type": "code",
   "execution_count": null,
   "metadata": {},
   "outputs": [],
   "source": [
    "print(morgan.test)"
   ]
  },
  {
   "cell_type": "markdown",
   "metadata": {},
   "source": [
    "### Local Function"
   ]
  },
  {
   "cell_type": "code",
   "execution_count": null,
   "metadata": {},
   "outputs": [],
   "source": [
    "animals = ['cat', 'dog', 'rabbit', 'horse']\n",
    "# get the index of 'dog'\n",
    "index = animals.index('horse')\n",
    "print(index)"
   ]
  },
  {
   "cell_type": "code",
   "execution_count": null,
   "metadata": {},
   "outputs": [],
   "source": [
    "# Create a function to find any index for any list(error catching)\n",
    "def find_index(lst,itm):#lst,itm: List and Item to be searched\n",
    "    try:\n",
    "        index = lst.index(itm)\n",
    "        return index\n",
    "    except ValueError as ve:\n",
    "        return(f'{itm}, is not in the list.')"
   ]
  },
  {
   "cell_type": "code",
   "execution_count": null,
   "metadata": {},
   "outputs": [],
   "source": [
    "#Test our function\n",
    "animals = ['cat', 'dog', 'rabbit', 'horse']\n",
    "\n",
    "result = find_index(animals, 'rabbit')\n",
    "print(result)\n"
   ]
  },
  {
   "cell_type": "markdown",
   "metadata": {},
   "source": [
    "## Imported Module"
   ]
  },
  {
   "cell_type": "code",
   "execution_count": null,
   "metadata": {},
   "outputs": [],
   "source": [
    "# Using imported module\n",
    "courses = ['History','Math', 'Physics', 'Irish']\n",
    "search = 'Irish'\n",
    "result = morgan.find_index( courses, search )\n",
    "print(result)"
   ]
  },
  {
   "cell_type": "code",
   "execution_count": null,
   "metadata": {},
   "outputs": [],
   "source": [
    "index = morgan.find_index(courses, 'Irish')\n",
    "print(index+1)"
   ]
  },
  {
   "cell_type": "code",
   "execution_count": null,
   "metadata": {
    "scrolled": false
   },
   "outputs": [],
   "source": [
    "print(mm.test)"
   ]
  },
  {
   "cell_type": "markdown",
   "metadata": {},
   "source": [
    "## MAQ 1 : Guess the Answer\n",
    "Create your own module in Spider which: \n",
    "Generates a random number between 1 and 9 (including 1 and 9). Ask the user to guess the number, then tell them whether they guessed too low, too high, or exactly right. Bonus 1: ask them to try again if wrong until they get it right. Bonus 2: Tell them how many guesses it took them.\n",
    "```python\n",
    "import random as rnd\n",
    "x = rnd.randint(1,9)\n",
    "#print(x)\n",
    "```"
   ]
  },
  {
   "cell_type": "code",
   "execution_count": null,
   "metadata": {},
   "outputs": [],
   "source": [
    "# Add your Answer to Spyder"
   ]
  },
  {
   "cell_type": "markdown",
   "metadata": {},
   "source": [
    "## Direct Imports\n",
    "Functions and variables can also be imported directly."
   ]
  },
  {
   "cell_type": "code",
   "execution_count": null,
   "metadata": {},
   "outputs": [],
   "source": [
    "# You can use part of the module to import a single function\n",
    "import sys\n",
    "sys.path.append('/Users/morgan/Documents/Courses/Python/MyModules')\n",
    "\n",
    "from morgans_module2 import find_index\n",
    "index = find_index(courses, 'Math')\n",
    "print(index)"
   ]
  },
  {
   "cell_type": "code",
   "execution_count": null,
   "metadata": {},
   "outputs": [],
   "source": [
    "print(test)"
   ]
  },
  {
   "cell_type": "code",
   "execution_count": null,
   "metadata": {},
   "outputs": [],
   "source": [
    "from morgans_module2 import find_index, test\n",
    "index = find_index(courses, 'Irish')\n",
    "print(index)\n",
    "print(test)"
   ]
  },
  {
   "cell_type": "code",
   "execution_count": null,
   "metadata": {},
   "outputs": [],
   "source": [
    "from morgans_module2 import find_index as fi, test\n",
    "index = fi(courses, 'Math')\n",
    "print(index)\n",
    "print(test)"
   ]
  },
  {
   "cell_type": "markdown",
   "metadata": {},
   "source": [
    "### Warning\n",
    "It quickly becomes unreadable, so avoid this like the Corona virus. Import * is also frowned upon, because it is hard to trace back where the function comes from."
   ]
  },
  {
   "cell_type": "markdown",
   "metadata": {},
   "source": [
    "## SAQ 2 Dyslexia library\n",
    "In Spider write your own module with a function that reverses a string that is sent as a parameter. e.g. a function reverse_string('friday') returns 'yadirf';\n",
    "\n",
    "\n",
    "```python\n",
    "# String. == library module\n",
    "print(\"Imported string module\")\n",
    "test = 'Yes it is the string module'\n",
    "\n",
    "def reverse_string(str):\n",
    "    '''reverse the letters in a string  and return the string reversed'''\n",
    "    rstr1 = ''\n",
    "    index = len(str)\n",
    "    while index > 0:\n",
    "        etc.\n",
    "```\n",
    "Give your module/library a name and save it in your home directory as a py file.\n",
    "Import your module into your Juypter Notebook and use the function.\n"
   ]
  },
  {
   "cell_type": "markdown",
   "metadata": {},
   "source": [
    "## SYS Path\n",
    "How does Python know where to find the module."
   ]
  },
  {
   "cell_type": "code",
   "execution_count": null,
   "metadata": {
    "scrolled": true
   },
   "outputs": [],
   "source": [
    "print(sys.path)"
   ]
  },
  {
   "cell_type": "markdown",
   "metadata": {},
   "source": [
    "Sys Path tells Python where to search for files.\n",
    "<ol>\n",
    "    <li>Where the program is running from.</li>\n",
    "    <li>Python path enviornment variable.</li>\n",
    "    <li>Standard Library Directories.</li>\n",
    "    <li> Module not in same directory.</li>\n",
    "</ol>"
   ]
  },
  {
   "cell_type": "markdown",
   "metadata": {},
   "source": [
    "### Modifying sys.path\n",
    "To use another directory for your modules you need to append the path on to the sys.path list. In my case  it is as follows:\n",
    "\n",
    "```Python\n",
    "sys.path.append('/Users/morgan/Documents/Courses/Python/MyModules')/Users/morgan/Documents/Courses/Python/MyModules')\n",
    "```\n",
    "\n",
    "To permanently change the location you need to change the environment variables. This varies between Apple and Windows you should reference this on internet. On the mac you need to make changes the  ~/.zshrc file using nano or other text editor.\n",
    "\n",
    "Add the folllowing: \n",
    "```\n",
    "export PYTHONPATH=\"/Users/morgan/Documents/Courses/Python/MyModules\"\n",
    "```\n",
    "\n"
   ]
  },
  {
   "cell_type": "markdown",
   "metadata": {},
   "source": [
    "## Standard Library Directories\n",
    "Use libraries in preference to coding it yourself. Written by the best programmers in the world and optimised. For example Random Module from standard library.\n",
    "\n",
    "<img src=\"images/time_parameters.png\" alt=\"Datetime\" width=\"600\"/>\n",
    "<br>"
   ]
  },
  {
   "cell_type": "code",
   "execution_count": null,
   "metadata": {},
   "outputs": [],
   "source": [
    "import random\n",
    "courses = ['History','Math', 'Physics', 'Irish']\n",
    "random_course = random.choice(courses)\n",
    "print(random_course)"
   ]
  },
  {
   "cell_type": "code",
   "execution_count": null,
   "metadata": {},
   "outputs": [],
   "source": [
    "# Convert degrees to radians\n",
    "import math\n",
    "rads = math.radians(90)\n",
    "print(rads)"
   ]
  },
  {
   "cell_type": "code",
   "execution_count": null,
   "metadata": {},
   "outputs": [],
   "source": [
    "print(math.cos(90))"
   ]
  },
  {
   "cell_type": "code",
   "execution_count": null,
   "metadata": {},
   "outputs": [],
   "source": [
    "import datetime\n",
    "import calendar"
   ]
  },
  {
   "cell_type": "code",
   "execution_count": null,
   "metadata": {},
   "outputs": [],
   "source": [
    "today = datetime.date.today()\n",
    "print(today)"
   ]
  },
  {
   "cell_type": "code",
   "execution_count": null,
   "metadata": {},
   "outputs": [],
   "source": [
    "from datetime import datetime\n",
    "\n",
    "now = datetime.now()\n",
    "\n",
    "current_time = now.strftime(\"%a:%B:%Y:%H:%M:%S %p\")\n",
    "print(\"Current Time =\", current_time)"
   ]
  },
  {
   "cell_type": "code",
   "execution_count": null,
   "metadata": {
    "scrolled": false
   },
   "outputs": [],
   "source": [
    "print(calendar.isleap(2021))"
   ]
  },
  {
   "cell_type": "code",
   "execution_count": null,
   "metadata": {},
   "outputs": [],
   "source": [
    "# OS Can be used to create and delete files as well.\n",
    "import os\n",
    "print (os.getcwd())"
   ]
  },
  {
   "cell_type": "markdown",
   "metadata": {},
   "source": [
    "## Dunder\n",
    "All modules are written in Python code and you can use the dunder (double underscore) attribute to find where the are."
   ]
  },
  {
   "cell_type": "code",
   "execution_count": null,
   "metadata": {},
   "outputs": [],
   "source": [
    "import random\n",
    "print (random.__file__)"
   ]
  },
  {
   "cell_type": "markdown",
   "metadata": {},
   "source": [
    "## Importing the Wordart Library"
   ]
  },
  {
   "cell_type": "code",
   "execution_count": null,
   "metadata": {},
   "outputs": [],
   "source": [
    "#Install once only\n",
    "!pip install wordcloud"
   ]
  },
  {
   "cell_type": "code",
   "execution_count": null,
   "metadata": {},
   "outputs": [],
   "source": [
    "# Libraries\n",
    "from wordcloud import WordCloud\n",
    "import matplotlib.pyplot as plt\n",
    "\n",
    "# Create a list of word\n",
    "text=(\"Class Instance morgan Instance  Attributes Methods Independent Class Variables Inheritance\")\n",
    "\n",
    "# Create the wordcloud object\n",
    "wordcloud = WordCloud(width=2780, height=1680, margin=10).generate(text)\n",
    "\n",
    "# Display the generated image:\n",
    "plt.imshow(wordcloud, interpolation='bilinear')\n",
    "plt.axis(\"off\")\n",
    "plt.margins(x=0, y=0)\n",
    "plt.show()"
   ]
  },
  {
   "cell_type": "markdown",
   "metadata": {},
   "source": [
    "### SAQ 3: Art for Art's sake\n",
    "Write your own Wordart function and pass in text to create the art and save the diagram as a png."
   ]
  },
  {
   "cell_type": "code",
   "execution_count": null,
   "metadata": {},
   "outputs": [],
   "source": [
    "# Put your answer here"
   ]
  },
  {
   "cell_type": "markdown",
   "metadata": {},
   "source": [
    "## The end of Gravity"
   ]
  },
  {
   "cell_type": "code",
   "execution_count": null,
   "metadata": {},
   "outputs": [],
   "source": [
    "import antigravity"
   ]
  },
  {
   "cell_type": "markdown",
   "metadata": {},
   "source": [
    "**Phew!** <div>\n",
    "<img src=\"images/the_end.png\" alt=\"The End\" width=\"300\" align=\"center\"/></div>"
   ]
  }
 ],
 "metadata": {
  "hide_input": false,
  "kernelspec": {
   "display_name": "Python 3 (ipykernel)",
   "language": "python",
   "name": "python3"
  },
  "language_info": {
   "codemirror_mode": {
    "name": "ipython",
    "version": 3
   },
   "file_extension": ".py",
   "mimetype": "text/x-python",
   "name": "python",
   "nbconvert_exporter": "python",
   "pygments_lexer": "ipython3",
   "version": "3.9.12"
  },
  "toc": {
   "base_numbering": 1,
   "nav_menu": {},
   "number_sections": true,
   "sideBar": true,
   "skip_h1_title": false,
   "title_cell": "Table of Contents",
   "title_sidebar": "Contents",
   "toc_cell": false,
   "toc_position": {
    "height": "calc(100% - 180px)",
    "left": "10px",
    "top": "150px",
    "width": "279px"
   },
   "toc_section_display": true,
   "toc_window_display": false
  },
  "varInspector": {
   "cols": {
    "lenName": 16,
    "lenType": 16,
    "lenVar": 40
   },
   "kernels_config": {
    "python": {
     "delete_cmd_postfix": "",
     "delete_cmd_prefix": "del ",
     "library": "var_list.py",
     "varRefreshCmd": "print(var_dic_list())"
    },
    "r": {
     "delete_cmd_postfix": ") ",
     "delete_cmd_prefix": "rm(",
     "library": "var_list.r",
     "varRefreshCmd": "cat(var_dic_list()) "
    }
   },
   "types_to_exclude": [
    "module",
    "function",
    "builtin_function_or_method",
    "instance",
    "_Feature"
   ],
   "window_display": false
  }
 },
 "nbformat": 4,
 "nbformat_minor": 4
}
