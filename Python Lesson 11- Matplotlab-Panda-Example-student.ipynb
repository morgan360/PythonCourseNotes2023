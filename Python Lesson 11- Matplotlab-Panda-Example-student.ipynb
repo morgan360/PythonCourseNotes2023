{
 "cells": [
  {
   "cell_type": "markdown",
   "metadata": {},
   "source": [
    "version 3.0"
   ]
  },
  {
   "cell_type": "markdown",
   "metadata": {},
   "source": [
    "# Data Analysis using Pandas and Matplotlib\n",
    "\n",
    "A good source of data sets https://data.gov.ie/ <br>\n",
    "Met Eireann Historical data available:<br>\n",
    "\n",
    "https://www.met.ie/climate/available-data/long-term-data-sets\n",
    "\n",
    "In this lesson we are going to import historical data from Met eireann and analyise it using Panda's and plot the results using Matplotlib.\n",
    "\n"
   ]
  },
  {
   "cell_type": "code",
   "execution_count": null,
   "metadata": {},
   "outputs": [],
   "source": [
    "# import the list of stations\n",
    "import pandas as pd\n",
    "# Plot Library\n",
    "from matplotlib import pyplot as plt\n",
    "import numpy as np"
   ]
  },
  {
   "cell_type": "markdown",
   "metadata": {},
   "source": [
    "## Import the CSV and Print Dataframe"
   ]
  },
  {
   "cell_type": "code",
   "execution_count": null,
   "metadata": {},
   "outputs": [],
   "source": [
    "# No need for a directory path if in the same directory, index_col = 'Year'\n",
    "df = pd.read_csv(\"/Users/morgan/Documents/Courses/Python/MyModules/DublinAirportClean.csv\")"
   ]
  },
  {
   "cell_type": "code",
   "execution_count": null,
   "metadata": {
    "scrolled": true
   },
   "outputs": [],
   "source": [
    "#print(df)"
   ]
  },
  {
   "cell_type": "code",
   "execution_count": null,
   "metadata": {
    "scrolled": true
   },
   "outputs": [],
   "source": [
    "df.columns"
   ]
  },
  {
   "cell_type": "code",
   "execution_count": null,
   "metadata": {
    "scrolled": true
   },
   "outputs": [],
   "source": [
    "df.head(5)"
   ]
  },
  {
   "cell_type": "code",
   "execution_count": null,
   "metadata": {},
   "outputs": [],
   "source": [
    "df.tail(5)"
   ]
  },
  {
   "cell_type": "markdown",
   "metadata": {},
   "source": [
    "## Changing the Index"
   ]
  },
  {
   "cell_type": "code",
   "execution_count": null,
   "metadata": {},
   "outputs": [],
   "source": [
    "# Make the Year the index value permanently\n",
    "df.set_index('Year', inplace = True)\n",
    "#df.reset_index(inplace = True)"
   ]
  },
  {
   "cell_type": "code",
   "execution_count": null,
   "metadata": {
    "scrolled": true
   },
   "outputs": [],
   "source": [
    "df"
   ]
  },
  {
   "cell_type": "code",
   "execution_count": null,
   "metadata": {},
   "outputs": [],
   "source": [
    "#df.loc[2009]\n",
    "df.loc[1854, 'Apr']"
   ]
  },
  {
   "cell_type": "code",
   "execution_count": null,
   "metadata": {
    "scrolled": true
   },
   "outputs": [],
   "source": [
    "# Output the year values( )\n",
    "df.index\n"
   ]
  },
  {
   "cell_type": "code",
   "execution_count": null,
   "metadata": {
    "scrolled": true
   },
   "outputs": [],
   "source": [
    "## Using iloc\n",
    "#df['Jan']\n",
    "#rain_y = df.iloc[5]\n",
    "#print(rain_y)"
   ]
  },
  {
   "cell_type": "code",
   "execution_count": null,
   "metadata": {
    "scrolled": true
   },
   "outputs": [],
   "source": [
    "#Simple Plot\n",
    "plt.rcParams['figure.figsize'] = [16, 8]# set the size of your graph\n",
    "plt.style.use('Solarize_Light2') # style\n",
    "plt.bar(df.index,df.Jan)\n",
    "plt.bar(df.index,df.Aug)"
   ]
  },
  {
   "cell_type": "markdown",
   "metadata": {},
   "source": [
    "## Apply Lambda Function to Pandas Data Frame\n",
    "The distance d in inches (″) is equal to the distance d in millimeters (mm) divided by 25.4:"
   ]
  },
  {
   "cell_type": "code",
   "execution_count": null,
   "metadata": {},
   "outputs": [],
   "source": [
    "# Millmeterss to inches\n",
    "def to_inches(x):\n",
    "    y= x* 0.0393701\n",
    "    return round(y,2)"
   ]
  },
  {
   "cell_type": "code",
   "execution_count": null,
   "metadata": {},
   "outputs": [],
   "source": [
    "print(to_inches(75.8))"
   ]
  },
  {
   "cell_type": "code",
   "execution_count": null,
   "metadata": {},
   "outputs": [],
   "source": [
    "x= 123\n",
    "convert_to_inches = lambda x:round(x*0.0393701,2)\n",
    "print(convert_to_inches(x))"
   ]
  },
  {
   "cell_type": "code",
   "execution_count": null,
   "metadata": {},
   "outputs": [],
   "source": [
    "# Convert the January figures to inches and append as a new column at the end\n",
    "df['Jan_inches'] = df.apply(lambda x: round(x['Jan']*0.0393701,2), axis=1) # axis =1 is a column\n",
    "df"
   ]
  },
  {
   "cell_type": "markdown",
   "metadata": {},
   "source": [
    "## SAQ 1 - Inching Forwards\n",
    "Using a Lambda function, add a new column to the df dataframe with the month of August converted to inches\n",
    "\n"
   ]
  },
  {
   "cell_type": "code",
   "execution_count": null,
   "metadata": {},
   "outputs": [],
   "source": [
    "#Add your answer here\n"
   ]
  },
  {
   "cell_type": "markdown",
   "metadata": {},
   "source": [
    "## Create a filter\n",
    "Our objective is to print out a bar chart that prints out the rain values for January, August and November at five or ten year intervals."
   ]
  },
  {
   "cell_type": "code",
   "execution_count": null,
   "metadata": {},
   "outputs": [],
   "source": [
    "# Create a list with a fewer number of years\n",
    "nums = range(1850,2020,10)\n",
    "\n",
    "#print List\n",
    "my_list = []\n",
    "for n in nums:\n",
    "    my_list.append(n)\n",
    "print(my_list)"
   ]
  },
  {
   "cell_type": "code",
   "execution_count": null,
   "metadata": {},
   "outputs": [],
   "source": [
    "# Filter out the data for those years using the 'isin' method\n",
    "filt = df.index.isin(my_list)\n",
    "\n",
    "print(filt)"
   ]
  },
  {
   "cell_type": "code",
   "execution_count": null,
   "metadata": {
    "scrolled": false
   },
   "outputs": [],
   "source": [
    "x_values = df.loc[filt, 'Aug']\n",
    "print(x_values)"
   ]
  },
  {
   "cell_type": "markdown",
   "metadata": {},
   "source": [
    "## Create a new dataframe with the information that we want\n"
   ]
  },
  {
   "cell_type": "code",
   "execution_count": null,
   "metadata": {
    "scrolled": true
   },
   "outputs": [],
   "source": [
    "# Create a new DataFrame with the data we want\n",
    "newDF = df.loc[filt, ['Jan', 'Aug', 'Nov','Dec']]\n",
    "print(newDF)"
   ]
  },
  {
   "cell_type": "code",
   "execution_count": null,
   "metadata": {},
   "outputs": [],
   "source": [
    "# Print our new plot\n",
    "plt.plot(newDF.index,newDF.Jan)\n",
    "plt.plot(newDF.index,newDF.Aug)\n",
    "plt.plot(newDF.index,newDF.Nov)\n",
    "plt.plot(newDF.index,newDF.Dec)"
   ]
  },
  {
   "cell_type": "code",
   "execution_count": null,
   "metadata": {
    "scrolled": true
   },
   "outputs": [],
   "source": [
    "# Change to a bar plot\n",
    "plt.bar(newDF.index,newDF.Jan)\n",
    "plt.bar(newDF.index,newDF.Aug)\n",
    "plt.bar(newDF.index,newDF.Nov)\n",
    "\n",
    "\n",
    "\n"
   ]
  },
  {
   "cell_type": "markdown",
   "metadata": {},
   "source": [
    "## Hmmm...\n",
    "Let us try to sort out this mess..."
   ]
  },
  {
   "cell_type": "code",
   "execution_count": null,
   "metadata": {},
   "outputs": [],
   "source": [
    "plt.style.use('Solarize_Light2')\n",
    "plt.rcParams['figure.figsize'] = [14, 6]\n",
    "width = 2.00\n",
    "offset = 2.00\n",
    "offset1 = 4.00\n",
    "\n",
    "plt.bar(newDF.index - offset, newDF.Jan, width = width, label = 'January Rain')\n",
    "plt.bar(newDF.index ,  newDF.Aug, width = width, color = 'k', label = 'August Rain')\n",
    "plt.bar(newDF.index + offset, newDF.Nov, width = width, label = 'November Rain')\n",
    "plt.bar(newDF.index + offset1, newDF.Dec, width = width, label = 'December Rain')\n",
    "\n",
    "plt.title('Rain- Dublin Airport(1860-2010)')\n",
    "plt.xlabel('Year')\n",
    "plt.ylabel('Rain mm')\n",
    "plt.grid(True)\n",
    "plt.legend()"
   ]
  },
  {
   "cell_type": "markdown",
   "metadata": {},
   "source": [
    "# Statistical Analysis"
   ]
  },
  {
   "cell_type": "markdown",
   "metadata": {},
   "source": [
    "## Simple Stats"
   ]
  },
  {
   "cell_type": "code",
   "execution_count": null,
   "metadata": {},
   "outputs": [],
   "source": [
    "# Mean and Median\n",
    "print(round(df['Jan'].mean(),2))\n",
    "\n",
    "# newDF['Jan'].mean()"
   ]
  },
  {
   "cell_type": "code",
   "execution_count": null,
   "metadata": {
    "scrolled": true
   },
   "outputs": [],
   "source": [
    "# Statistic on all of the dataframe\n",
    "df.max()"
   ]
  },
  {
   "cell_type": "code",
   "execution_count": null,
   "metadata": {
    "scrolled": true
   },
   "outputs": [],
   "source": [
    "# General Statistics\n",
    "df.describe()"
   ]
  },
  {
   "cell_type": "markdown",
   "metadata": {},
   "source": [
    "## Grouping Data\n",
    "When grouping data it is a three phase process (carried out by Python). Split (into separate tables), apply a function (to each table), recombine( into one table)."
   ]
  },
  {
   "cell_type": "code",
   "execution_count": null,
   "metadata": {
    "scrolled": true
   },
   "outputs": [],
   "source": [
    "# load a new set of data for Killarney\n",
    "kill_df = pd.read_csv(\"/Users/morgan/Documents/Courses/Python/MyModules/Killarney_1881-1933.csv\")\n",
    "kill_df"
   ]
  },
  {
   "cell_type": "code",
   "execution_count": null,
   "metadata": {
    "scrolled": true
   },
   "outputs": [],
   "source": [
    "#Get the shape of the dataframe\n",
    "kill_df.shape"
   ]
  },
  {
   "cell_type": "code",
   "execution_count": null,
   "metadata": {},
   "outputs": [],
   "source": [
    "# Step 1\n",
    "year_group = kill_df.groupby(['Year'])\n",
    "# print(kill_df[\"Max C)\"])"
   ]
  },
  {
   "cell_type": "code",
   "execution_count": null,
   "metadata": {},
   "outputs": [],
   "source": [
    "# Step 2\n",
    "year_group.get_group(1933)"
   ]
  },
  {
   "cell_type": "code",
   "execution_count": null,
   "metadata": {},
   "outputs": [],
   "source": [
    "# Same as filter \n",
    "filt = kill_df['Year']== 1932\n",
    "kill_df.loc[filt]"
   ]
  },
  {
   "cell_type": "code",
   "execution_count": null,
   "metadata": {},
   "outputs": [],
   "source": [
    "kill_df.loc[filt,['Min (C)']].min()"
   ]
  },
  {
   "cell_type": "code",
   "execution_count": null,
   "metadata": {
    "scrolled": false
   },
   "outputs": [],
   "source": [
    "# Step 3: Get the lowest temp for each year from 1881\n",
    "year_group['Max C)'].max()"
   ]
  },
  {
   "cell_type": "code",
   "execution_count": null,
   "metadata": {},
   "outputs": [],
   "source": [
    "year_group = kill_df.groupby(['Year'])\n",
    "year_group['M axC)'].max()"
   ]
  },
  {
   "cell_type": "markdown",
   "metadata": {},
   "source": [
    "# Widgets"
   ]
  },
  {
   "cell_type": "code",
   "execution_count": null,
   "metadata": {},
   "outputs": [],
   "source": [
    "# The widgets library\n",
    "import ipywidgets as widgets\n",
    "from ipywidgets import interactive\n",
    "from ipywidgets import interact\n",
    "\n",
    "# Define a function\n",
    "def my_function(x):\n",
    "    return x**5"
   ]
  },
  {
   "cell_type": "code",
   "execution_count": null,
   "metadata": {
    "scrolled": true
   },
   "outputs": [],
   "source": [
    " #When you move the slider, the function is called, and its return value is printed.\n",
    "interact(my_function, x=10);"
   ]
  },
  {
   "cell_type": "code",
   "execution_count": null,
   "metadata": {},
   "outputs": [],
   "source": [
    "#Another Widget\n",
    "widgets.SelectionSlider(\n",
    "    options = ['Football', 'Hurling', 'F1', 'golf','soccer'],\n",
    "    value='Football',\n",
    "    description='I like sport',\n",
    "    disabled=False,\n",
    "    continuous_update=False,\n",
    "    orientation='horizontal',\n",
    "    readout=True\n",
    ")"
   ]
  },
  {
   "cell_type": "code",
   "execution_count": null,
   "metadata": {},
   "outputs": [],
   "source": [
    "#Another Widget\n",
    "widgets.IntSlider(\n",
    "    min=0,\n",
    "    max=10,\n",
    "    step=2,\n",
    "    description='Slider:',\n",
    "    value=3\n",
    ")"
   ]
  },
  {
   "cell_type": "code",
   "execution_count": null,
   "metadata": {},
   "outputs": [],
   "source": [
    "#Create a combo box/drop down\n",
    "def say_my_name(name):\n",
    "    \"\"\"\n",
    "    Print the current widget value in short sentence\n",
    "    \"\"\"\n",
    "    print(f'My name is {name}')\n",
    "    return(name)\n",
    "\n",
    "     \n",
    "x = widgets.interact(say_my_name, name=[\"Jim\", \"Emma\", \"Bond\", \"Morgan\"] );\n"
   ]
  },
  {
   "cell_type": "markdown",
   "metadata": {},
   "source": [
    "## MAQ 2 - Daily Widget\n",
    "Create a widget that gives a list of days and when a day is selected it returns the day of the week number.\n",
    "\n",
    "\n",
    "\n",
    "#Add your answer here\n",
    "# The widgets library\n",
    "import ipywidgets as widgets\n",
    "from ipywidgets import interactive\n",
    "from ipywidgets import interact\n",
    "\n",
    "def day_of_week(day):\n",
    "    \"\"\"\n",
    "    Print the current widget value in short sentence\n",
    "    \"\"\"\n",
    "    if day == \"Mon\":\n",
    "        day_no = 1\n",
    "    elif day == \"Tue\":\n",
    "        day_no = 2\n",
    "    elif day == \"Wed\":\n",
    "        day_no = 3    \n",
    "    else:\n",
    "        day_no = 4    \n",
    "    \n",
    "    print(f'The day number is {day_no}')\n",
    "     \n",
    "widgets.interact(day_of_week, day=[\"Mon\", \"Tue\", \"Wed\",\"Thu\",\"Fri\",\"Sat\",\"Sun\"]);\n",
    "\n"
   ]
  },
  {
   "cell_type": "code",
   "execution_count": null,
   "metadata": {},
   "outputs": [],
   "source": [
    "# Add your answer here\n",
    "import ipywidgets as widgets \n",
    "from ipywidgets import interactive \n",
    "from ipywidgets import interact\n",
    "\n"
   ]
  },
  {
   "cell_type": "markdown",
   "metadata": {},
   "source": [
    "## Plotting with a widget"
   ]
  },
  {
   "cell_type": "code",
   "execution_count": null,
   "metadata": {},
   "outputs": [],
   "source": [
    "%matplotlib inline\n",
    "from ipywidgets import interactive\n",
    "import matplotlib.pyplot as plt\n",
    "import numpy as np\n",
    "plt.style.use('Solarize_Light2')\n",
    "plt.rcParams['figure.figsize'] = [14, 7]\n",
    "\n",
    "def my_function(m, c):\n",
    "    plt.figure(2)\n",
    "    x = np.linspace(-10, 10, num=1000)\n",
    "    #plt.plot(x, m * x  + c)\n",
    "    plt.plot(x, m * x**2 + 1*x + c)\n",
    "    plt.ylim(-5, 5)\n",
    "    plt.show()\n",
    "\n",
    "interactive_plot = interactive(my_function, m=(-2.0, 2.0), c=(-3, 3, 0.5))\n",
    "output = interactive_plot.children[-1]\n",
    "output.layout.height = '450px'\n",
    "interactive_plot"
   ]
  },
  {
   "cell_type": "code",
   "execution_count": null,
   "metadata": {},
   "outputs": [],
   "source": [
    "#\n",
    "x = np.linspace(0, 10, 100)\n",
    "\n",
    "plt.plot(x, np.sin(x)*2)\n",
    "plt.plot(x, np.cos(x))\n",
    "\n",
    "plt.show()"
   ]
  },
  {
   "cell_type": "code",
   "execution_count": null,
   "metadata": {
    "scrolled": true
   },
   "outputs": [],
   "source": [
    " y_values= list(np.around(np.arange(-2.0, 2.2, +0.2),2))"
   ]
  },
  {
   "cell_type": "code",
   "execution_count": null,
   "metadata": {},
   "outputs": [],
   "source": [
    "print( y_values)"
   ]
  },
  {
   "cell_type": "code",
   "execution_count": null,
   "metadata": {
    "scrolled": true
   },
   "outputs": [],
   "source": [
    "# A Sine wave y= A*Sin(wt)\n",
    "import numpy as np\n",
    "import matplotlib.pyplot as plt\n",
    "from ipywidgets import interactive\n",
    "\n",
    "# Get x values of the sine wave\n",
    "time  = np.arange(0, 20, 0.1);\n",
    "\n",
    "def my_sine(w, A):\n",
    "# Amplitude of the sine wave is sine of a variable like time\n",
    "    amplitude   = np.sin(w*time)*A\n",
    "# Plot a sine wave using time and amplitude obtained for the sine wave\n",
    "    plt.plot(time, amplitude)\n",
    "# Give a title for the sine wave plot\n",
    "    plt.title('Sine wave')\n",
    "# Give x axis label for the sine wave plot\n",
    "    plt.xlabel('Time')\n",
    "    plt.yticks(( y_values))\n",
    "# Give y axis label for the sine wave plot\n",
    "\n",
    "    plt.ylabel('Amplitude = sin(time)')\n",
    "    plt.grid(True, which='both')\n",
    "    plt.axhline(y=0, color='k')\n",
    "    plt.show()\n",
    "# Display the sine wave\n",
    "interactive_plot = interactive(my_sine, w=(1, 4), A=(0,2,0.2))\n",
    "#output = interactive_plot.children[-1]\n",
    "output.layout.height = '350px'\n",
    "interactive_plot"
   ]
  },
  {
   "attachments": {
    "image.png": {
     "image/png": "[encoded data removed]"
    }
   },
   "cell_type": "markdown",
   "metadata": {},
   "source": [
    "![image.png](attachment:image.png)"
   ]
  },
  {
   "cell_type": "markdown",
   "metadata": {},
   "source": [
    "## MAQ3: Cubinism\n",
    "Using widgets plot a graph of a x cubed + c <br>\n",
    "y = $x^3 + c$"
   ]
  },
  {
   "cell_type": "code",
   "execution_count": null,
   "metadata": {},
   "outputs": [],
   "source": [
    "#Put your answer here\n",
    "%matplotlib inline\n",
    "from ipywidgets import interactive\n",
    "import matplotlib.pyplot as plt\n",
    "import numpy as np\n",
    "plt.style.use('Solarize_Light2')\n",
    "plt.rcParams['figure.figsize'] = [14, 7]\n"
   ]
  },
  {
   "cell_type": "markdown",
   "metadata": {},
   "source": [
    "## EU Vaccine Data\n",
    "This is a quick look at Open Source data you can directly link to. In this case EU data portal ECDC."
   ]
  },
  {
   "cell_type": "code",
   "execution_count": null,
   "metadata": {
    "scrolled": true
   },
   "outputs": [],
   "source": [
    "# Connect to the datasource\n",
    "import pandas as pd\n",
    "import numpy as np\n",
    "url = \"https://opendata.ecdc.europa.eu/covid19/vaccine_tracker/csv/data.csv\"\n",
    "# import into Pandas and set the index to Reporting Country\n",
    "df_vac = pd.read_csv(url, index_col = 'ReportingCountry')\n",
    "# print a list of columns\n",
    "df_vac.columns"
   ]
  },
  {
   "cell_type": "code",
   "execution_count": null,
   "metadata": {},
   "outputs": [],
   "source": [
    "# How many rows and columns\n",
    "df_vac.shape"
   ]
  },
  {
   "cell_type": "code",
   "execution_count": null,
   "metadata": {},
   "outputs": [],
   "source": [
    "# Look at 100 rows\n",
    "df_vac.tail(10)"
   ]
  },
  {
   "cell_type": "code",
   "execution_count": null,
   "metadata": {},
   "outputs": [],
   "source": [
    "# How many rows and columns\n",
    "vac_rec = df_vac.groupby(\"ReportingCountry\")[\"NumberDosesReceived\"].sum()"
   ]
  },
  {
   "cell_type": "code",
   "execution_count": null,
   "metadata": {},
   "outputs": [],
   "source": [
    "# print dataframe\n",
    "vac_rec"
   ]
  },
  {
   "cell_type": "code",
   "execution_count": null,
   "metadata": {},
   "outputs": [],
   "source": [
    "# Import Widgets and use a widget to filter the information\n",
    "import ipywidgets as widgets\n",
    "from ipywidgets import interactive\n",
    "from ipywidgets import interact\n",
    "\n",
    "#function to filter data for one country\n",
    "def filter_by_country(country):\n",
    "    filt = df_vac.index == country\n",
    "    new_df_vac =df_vac.loc[filt,['YearWeekISO','NumberDosesReceived','Vaccine']] \n",
    "    return new_df_vac\n",
    "    "
   ]
  },
  {
   "cell_type": "code",
   "execution_count": null,
   "metadata": {},
   "outputs": [],
   "source": [
    "# Get a list of unique countries\n",
    "country_list = list(df_vac.index.unique())\n",
    "\n",
    "#print(country_list)\n",
    "# Use widgets to interact with the list of countries\n",
    "widgets.interact(filter_by_country, country = country_list);\n",
    "\n",
    "#filter_by_country(country)"
   ]
  },
  {
   "cell_type": "code",
   "execution_count": null,
   "metadata": {},
   "outputs": [],
   "source": [
    "df_vac"
   ]
  },
  {
   "cell_type": "code",
   "execution_count": null,
   "metadata": {},
   "outputs": [],
   "source": [
    "new_df_vac = filter_by_country(\"IE\")\n",
    "\n",
    "\n",
    "vac_rec_IE = new_df_vac.groupby(['ReportingCountry','Vaccine'])[\"NumberDosesReceived\"].sum()"
   ]
  },
  {
   "cell_type": "code",
   "execution_count": null,
   "metadata": {},
   "outputs": [],
   "source": [
    "vac_rec_IE"
   ]
  },
  {
   "cell_type": "code",
   "execution_count": null,
   "metadata": {},
   "outputs": [],
   "source": [
    "vac_rec = df_vac.groupby(['ReportingCountry','Vaccine'])[\"NumberDosesReceived\"].sum()"
   ]
  },
  {
   "cell_type": "code",
   "execution_count": null,
   "metadata": {},
   "outputs": [],
   "source": [
    "vac_rec.tail(70)"
   ]
  },
  {
   "cell_type": "code",
   "execution_count": null,
   "metadata": {
    "scrolled": true
   },
   "outputs": [],
   "source": [
    "#Interaactive filter by Country\n",
    "def filter_by_country(country):\n",
    "    filt = df_vac.index == country\n",
    "    new_df_vac =df_vac.loc[filt,['YearWeekISO','NumberDosesReceived','Vaccine']] \n",
    "    return new_df_vac"
   ]
  },
  {
   "cell_type": "code",
   "execution_count": null,
   "metadata": {},
   "outputs": [],
   "source": [
    "# Get a list of unique countries\n",
    "new_df_vac = filter_by_country(\"IE\")\n",
    "# filter \n",
    "filt = new_df_vac['YearWeekISO']== '2021-W47'\n",
    "ans_df = new_df_vac.loc[filt]\n",
    "ans_df.head(55)"
   ]
  },
  {
   "cell_type": "markdown",
   "metadata": {},
   "source": [
    "## SAQ 4: Slippery Question!\n",
    "Inport the data for Dublin Airport and plot the December Rainfall from 1951 to 1981 in 5 year intervals"
   ]
  },
  {
   "cell_type": "code",
   "execution_count": null,
   "metadata": {},
   "outputs": [],
   "source": [
    "# load a new set of data for Blaksod # No need for a directory path if in the same directory, index_col = 'Year'\n",
    "df = pd.read_csv(\"/Users/morgan/Documents/Courses/Python/MyModules/DublinAirportClean.csv\",index_col = 'Year')"
   ]
  },
  {
   "cell_type": "markdown",
   "metadata": {},
   "source": [
    "**Phew!** <div>\n",
    "<img src=\"images/the_end.png\" alt=\"The End\" width=\"300\" align=\"center\"/></div>"
   ]
  }
 ],
 "metadata": {
  "hide_input": false,
  "kernelspec": {
   "display_name": "Python 3 (ipykernel)",
   "language": "python",
   "name": "python3"
  },
  "language_info": {
   "codemirror_mode": {
    "name": "ipython",
    "version": 3
   },
   "file_extension": ".py",
   "mimetype": "text/x-python",
   "name": "python",
   "nbconvert_exporter": "python",
   "pygments_lexer": "ipython3",
   "version": "3.9.12"
  },
  "toc": {
   "base_numbering": 1,
   "nav_menu": {},
   "number_sections": true,
   "sideBar": true,
   "skip_h1_title": false,
   "title_cell": "Table of Contents",
   "title_sidebar": "Contents",
   "toc_cell": false,
   "toc_position": {
    "height": "calc(100% - 180px)",
    "left": "10px",
    "top": "150px",
    "width": "287.390625px"
   },
   "toc_section_display": true,
   "toc_window_display": false
  },
  "varInspector": {
   "cols": {
    "lenName": 16,
    "lenType": 16,
    "lenVar": 40
   },
   "kernels_config": {
    "python": {
     "delete_cmd_postfix": "",
     "delete_cmd_prefix": "del ",
     "library": "var_list.py",
     "varRefreshCmd": "print(var_dic_list())"
    },
    "r": {
     "delete_cmd_postfix": ") ",
     "delete_cmd_prefix": "rm(",
     "library": "var_list.r",
     "varRefreshCmd": "cat(var_dic_list()) "
    }
   },
   "types_to_exclude": [
    "module",
    "function",
    "builtin_function_or_method",
    "instance",
    "_Feature"
   ],
   "window_display": false
  }
 },
 "nbformat": 4,
 "nbformat_minor": 4
}
