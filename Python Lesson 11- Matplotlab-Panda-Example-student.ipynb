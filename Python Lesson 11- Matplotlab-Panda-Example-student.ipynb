{
 "cells": [
  {
   "cell_type": "markdown",
   "metadata": {},
   "source": [
    "version 3.0"
   ]
  },
  {
   "cell_type": "markdown",
   "metadata": {},
   "source": [
    "# Data Analysis using Pandas and Matplotlib\n",
    "\n",
    "A good source of data sets https://data.gov.ie/ <br>\n",
    "Met Eireann Historical data available:<br>\n",
    "\n",
    "https://www.met.ie/climate/available-data/long-term-data-sets\n",
    "\n",
    "In this lesson we are going to import historical data from Met eireann and analyise it using Panda's and plot the results using Matplotlib.\n",
    "\n"
   ]
  },
  {
   "cell_type": "code",
   "execution_count": 2,
   "metadata": {},
   "outputs": [],
   "source": [
    "# import the list of stations\n",
    "import pandas as pd\n",
    "# Plot Library\n",
    "from matplotlib import pyplot as plt\n",
    "import numpy as np"
   ]
  },
  {
   "cell_type": "markdown",
   "metadata": {},
   "source": [
    "## Import the CSV and Print Dataframe"
   ]
  },
  {
   "cell_type": "code",
   "execution_count": 7,
   "metadata": {},
   "outputs": [],
   "source": [
    "# No need for a directory path if in the same directory, index_col = 'Year'\n",
    "df = pd.read_csv(\"/Users/morgan/Documents/Courses/Python/MyModules/DublinAirportClean.csv\")"
   ]
  },
  {
   "cell_type": "code",
   "execution_count": 8,
   "metadata": {
    "scrolled": true
   },
   "outputs": [],
   "source": [
    "#print(df)"
   ]
  },
  {
   "cell_type": "code",
   "execution_count": 9,
   "metadata": {
    "scrolled": true
   },
   "outputs": [
    {
     "data": {
      "text/plain": [
       "Index(['Year', 'Jan', 'Feb', 'Mar', 'Apr', 'May', 'Jun', 'Jul', 'Aug', 'Sep',\n",
       "       'Oct', 'Nov', 'Dec'],\n",
       "      dtype='object')"
      ]
     },
     "execution_count": 9,
     "metadata": {},
     "output_type": "execute_result"
    }
   ],
   "source": [
    "df.columns"
   ]
  },
  {
   "cell_type": "code",
   "execution_count": 10,
   "metadata": {
    "scrolled": true
   },
   "outputs": [
    {
     "data": {
      "text/html": [
       "<div>\n",
       "<style scoped>\n",
       "    .dataframe tbody tr th:only-of-type {\n",
       "        vertical-align: middle;\n",
       "    }\n",
       "\n",
       "    .dataframe tbody tr th {\n",
       "        vertical-align: top;\n",
       "    }\n",
       "\n",
       "    .dataframe thead th {\n",
       "        text-align: right;\n",
       "    }\n",
       "</style>\n",
       "<table border=\"1\" class=\"dataframe\">\n",
       "  <thead>\n",
       "    <tr style=\"text-align: right;\">\n",
       "      <th></th>\n",
       "      <th>Year</th>\n",
       "      <th>Jan</th>\n",
       "      <th>Feb</th>\n",
       "      <th>Mar</th>\n",
       "      <th>Apr</th>\n",
       "      <th>May</th>\n",
       "      <th>Jun</th>\n",
       "      <th>Jul</th>\n",
       "      <th>Aug</th>\n",
       "      <th>Sep</th>\n",
       "      <th>Oct</th>\n",
       "      <th>Nov</th>\n",
       "      <th>Dec</th>\n",
       "    </tr>\n",
       "  </thead>\n",
       "  <tbody>\n",
       "    <tr>\n",
       "      <th>0</th>\n",
       "      <td>1850</td>\n",
       "      <td>75.8</td>\n",
       "      <td>47.8</td>\n",
       "      <td>18.5</td>\n",
       "      <td>97.5</td>\n",
       "      <td>58.6</td>\n",
       "      <td>43.6</td>\n",
       "      <td>66.0</td>\n",
       "      <td>41.2</td>\n",
       "      <td>54.2</td>\n",
       "      <td>40.4</td>\n",
       "      <td>60.0</td>\n",
       "      <td>81.1</td>\n",
       "    </tr>\n",
       "    <tr>\n",
       "      <th>1</th>\n",
       "      <td>1851</td>\n",
       "      <td>112.0</td>\n",
       "      <td>26.2</td>\n",
       "      <td>63.1</td>\n",
       "      <td>44.4</td>\n",
       "      <td>29.3</td>\n",
       "      <td>78.5</td>\n",
       "      <td>70.5</td>\n",
       "      <td>55.2</td>\n",
       "      <td>24.6</td>\n",
       "      <td>88.0</td>\n",
       "      <td>27.5</td>\n",
       "      <td>23.5</td>\n",
       "    </tr>\n",
       "    <tr>\n",
       "      <th>2</th>\n",
       "      <td>1852</td>\n",
       "      <td>80.3</td>\n",
       "      <td>70.5</td>\n",
       "      <td>18.2</td>\n",
       "      <td>30.4</td>\n",
       "      <td>93.0</td>\n",
       "      <td>162.2</td>\n",
       "      <td>56.0</td>\n",
       "      <td>97.2</td>\n",
       "      <td>78.2</td>\n",
       "      <td>78.7</td>\n",
       "      <td>156.1</td>\n",
       "      <td>97.2</td>\n",
       "    </tr>\n",
       "    <tr>\n",
       "      <th>3</th>\n",
       "      <td>1853</td>\n",
       "      <td>74.7</td>\n",
       "      <td>52.3</td>\n",
       "      <td>71.7</td>\n",
       "      <td>44.8</td>\n",
       "      <td>22.7</td>\n",
       "      <td>58.9</td>\n",
       "      <td>49.9</td>\n",
       "      <td>81.3</td>\n",
       "      <td>35.5</td>\n",
       "      <td>123.7</td>\n",
       "      <td>40.3</td>\n",
       "      <td>52.3</td>\n",
       "    </tr>\n",
       "    <tr>\n",
       "      <th>4</th>\n",
       "      <td>1854</td>\n",
       "      <td>101.1</td>\n",
       "      <td>15.7</td>\n",
       "      <td>18.4</td>\n",
       "      <td>15.7</td>\n",
       "      <td>69.3</td>\n",
       "      <td>93.6</td>\n",
       "      <td>58.1</td>\n",
       "      <td>29.1</td>\n",
       "      <td>33.1</td>\n",
       "      <td>45.9</td>\n",
       "      <td>76.8</td>\n",
       "      <td>51.2</td>\n",
       "    </tr>\n",
       "  </tbody>\n",
       "</table>\n",
       "</div>"
      ],
      "text/plain": [
       "   Year    Jan   Feb   Mar   Apr   May    Jun   Jul   Aug   Sep    Oct    Nov  \\\n",
       "0  1850   75.8  47.8  18.5  97.5  58.6   43.6  66.0  41.2  54.2   40.4   60.0   \n",
       "1  1851  112.0  26.2  63.1  44.4  29.3   78.5  70.5  55.2  24.6   88.0   27.5   \n",
       "2  1852   80.3  70.5  18.2  30.4  93.0  162.2  56.0  97.2  78.2   78.7  156.1   \n",
       "3  1853   74.7  52.3  71.7  44.8  22.7   58.9  49.9  81.3  35.5  123.7   40.3   \n",
       "4  1854  101.1  15.7  18.4  15.7  69.3   93.6  58.1  29.1  33.1   45.9   76.8   \n",
       "\n",
       "    Dec  \n",
       "0  81.1  \n",
       "1  23.5  \n",
       "2  97.2  \n",
       "3  52.3  \n",
       "4  51.2  "
      ]
     },
     "execution_count": 10,
     "metadata": {},
     "output_type": "execute_result"
    }
   ],
   "source": [
    "df.head(5)"
   ]
  },
  {
   "cell_type": "code",
   "execution_count": null,
   "metadata": {},
   "outputs": [],
   "source": [
    "df.tail(5)"
   ]
  },
  {
   "cell_type": "markdown",
   "metadata": {},
   "source": [
    "## Changing the Index"
   ]
  },
  {
   "cell_type": "code",
   "execution_count": 11,
   "metadata": {},
   "outputs": [],
   "source": [
    "# Make the Year the index value permanently\n",
    "df.set_index('Year', inplace = True)\n",
    "#df.reset_index(inplace = True)"
   ]
  },
  {
   "cell_type": "code",
   "execution_count": 12,
   "metadata": {
    "scrolled": true
   },
   "outputs": [
    {
     "data": {
      "text/html": [
       "<div>\n",
       "<style scoped>\n",
       "    .dataframe tbody tr th:only-of-type {\n",
       "        vertical-align: middle;\n",
       "    }\n",
       "\n",
       "    .dataframe tbody tr th {\n",
       "        vertical-align: top;\n",
       "    }\n",
       "\n",
       "    .dataframe thead th {\n",
       "        text-align: right;\n",
       "    }\n",
       "</style>\n",
       "<table border=\"1\" class=\"dataframe\">\n",
       "  <thead>\n",
       "    <tr style=\"text-align: right;\">\n",
       "      <th></th>\n",
       "      <th>Jan</th>\n",
       "      <th>Feb</th>\n",
       "      <th>Mar</th>\n",
       "      <th>Apr</th>\n",
       "      <th>May</th>\n",
       "      <th>Jun</th>\n",
       "      <th>Jul</th>\n",
       "      <th>Aug</th>\n",
       "      <th>Sep</th>\n",
       "      <th>Oct</th>\n",
       "      <th>Nov</th>\n",
       "      <th>Dec</th>\n",
       "    </tr>\n",
       "    <tr>\n",
       "      <th>Year</th>\n",
       "      <th></th>\n",
       "      <th></th>\n",
       "      <th></th>\n",
       "      <th></th>\n",
       "      <th></th>\n",
       "      <th></th>\n",
       "      <th></th>\n",
       "      <th></th>\n",
       "      <th></th>\n",
       "      <th></th>\n",
       "      <th></th>\n",
       "      <th></th>\n",
       "    </tr>\n",
       "  </thead>\n",
       "  <tbody>\n",
       "    <tr>\n",
       "      <th>1850</th>\n",
       "      <td>75.8</td>\n",
       "      <td>47.8</td>\n",
       "      <td>18.5</td>\n",
       "      <td>97.5</td>\n",
       "      <td>58.6</td>\n",
       "      <td>43.6</td>\n",
       "      <td>66.0</td>\n",
       "      <td>41.2</td>\n",
       "      <td>54.2</td>\n",
       "      <td>40.4</td>\n",
       "      <td>60.0</td>\n",
       "      <td>81.1</td>\n",
       "    </tr>\n",
       "    <tr>\n",
       "      <th>1851</th>\n",
       "      <td>112.0</td>\n",
       "      <td>26.2</td>\n",
       "      <td>63.1</td>\n",
       "      <td>44.4</td>\n",
       "      <td>29.3</td>\n",
       "      <td>78.5</td>\n",
       "      <td>70.5</td>\n",
       "      <td>55.2</td>\n",
       "      <td>24.6</td>\n",
       "      <td>88.0</td>\n",
       "      <td>27.5</td>\n",
       "      <td>23.5</td>\n",
       "    </tr>\n",
       "    <tr>\n",
       "      <th>1852</th>\n",
       "      <td>80.3</td>\n",
       "      <td>70.5</td>\n",
       "      <td>18.2</td>\n",
       "      <td>30.4</td>\n",
       "      <td>93.0</td>\n",
       "      <td>162.2</td>\n",
       "      <td>56.0</td>\n",
       "      <td>97.2</td>\n",
       "      <td>78.2</td>\n",
       "      <td>78.7</td>\n",
       "      <td>156.1</td>\n",
       "      <td>97.2</td>\n",
       "    </tr>\n",
       "    <tr>\n",
       "      <th>1853</th>\n",
       "      <td>74.7</td>\n",
       "      <td>52.3</td>\n",
       "      <td>71.7</td>\n",
       "      <td>44.8</td>\n",
       "      <td>22.7</td>\n",
       "      <td>58.9</td>\n",
       "      <td>49.9</td>\n",
       "      <td>81.3</td>\n",
       "      <td>35.5</td>\n",
       "      <td>123.7</td>\n",
       "      <td>40.3</td>\n",
       "      <td>52.3</td>\n",
       "    </tr>\n",
       "    <tr>\n",
       "      <th>1854</th>\n",
       "      <td>101.1</td>\n",
       "      <td>15.7</td>\n",
       "      <td>18.4</td>\n",
       "      <td>15.7</td>\n",
       "      <td>69.3</td>\n",
       "      <td>93.6</td>\n",
       "      <td>58.1</td>\n",
       "      <td>29.1</td>\n",
       "      <td>33.1</td>\n",
       "      <td>45.9</td>\n",
       "      <td>76.8</td>\n",
       "      <td>51.2</td>\n",
       "    </tr>\n",
       "    <tr>\n",
       "      <th>...</th>\n",
       "      <td>...</td>\n",
       "      <td>...</td>\n",
       "      <td>...</td>\n",
       "      <td>...</td>\n",
       "      <td>...</td>\n",
       "      <td>...</td>\n",
       "      <td>...</td>\n",
       "      <td>...</td>\n",
       "      <td>...</td>\n",
       "      <td>...</td>\n",
       "      <td>...</td>\n",
       "      <td>...</td>\n",
       "    </tr>\n",
       "    <tr>\n",
       "      <th>2006</th>\n",
       "      <td>16.0</td>\n",
       "      <td>38.0</td>\n",
       "      <td>70.0</td>\n",
       "      <td>41.0</td>\n",
       "      <td>117.0</td>\n",
       "      <td>27.0</td>\n",
       "      <td>18.0</td>\n",
       "      <td>58.0</td>\n",
       "      <td>85.0</td>\n",
       "      <td>107.0</td>\n",
       "      <td>69.0</td>\n",
       "      <td>95.0</td>\n",
       "    </tr>\n",
       "    <tr>\n",
       "      <th>2007</th>\n",
       "      <td>40.0</td>\n",
       "      <td>78.0</td>\n",
       "      <td>39.0</td>\n",
       "      <td>15.0</td>\n",
       "      <td>35.0</td>\n",
       "      <td>126.0</td>\n",
       "      <td>127.0</td>\n",
       "      <td>96.0</td>\n",
       "      <td>39.0</td>\n",
       "      <td>16.0</td>\n",
       "      <td>54.0</td>\n",
       "      <td>64.0</td>\n",
       "    </tr>\n",
       "    <tr>\n",
       "      <th>2008</th>\n",
       "      <td>97.0</td>\n",
       "      <td>15.0</td>\n",
       "      <td>102.0</td>\n",
       "      <td>28.0</td>\n",
       "      <td>33.0</td>\n",
       "      <td>76.0</td>\n",
       "      <td>111.0</td>\n",
       "      <td>192.4</td>\n",
       "      <td>114.0</td>\n",
       "      <td>93.0</td>\n",
       "      <td>45.0</td>\n",
       "      <td>39.0</td>\n",
       "    </tr>\n",
       "    <tr>\n",
       "      <th>2009</th>\n",
       "      <td>62.0</td>\n",
       "      <td>56.0</td>\n",
       "      <td>26.0</td>\n",
       "      <td>71.0</td>\n",
       "      <td>76.0</td>\n",
       "      <td>64.0</td>\n",
       "      <td>165.0</td>\n",
       "      <td>70.0</td>\n",
       "      <td>24.0</td>\n",
       "      <td>63.0</td>\n",
       "      <td>171.0</td>\n",
       "      <td>70.0</td>\n",
       "    </tr>\n",
       "    <tr>\n",
       "      <th>2010</th>\n",
       "      <td>45.0</td>\n",
       "      <td>37.0</td>\n",
       "      <td>55.0</td>\n",
       "      <td>27.0</td>\n",
       "      <td>38.0</td>\n",
       "      <td>50.0</td>\n",
       "      <td>79.0</td>\n",
       "      <td>48.0</td>\n",
       "      <td>104.0</td>\n",
       "      <td>31.0</td>\n",
       "      <td>100.0</td>\n",
       "      <td>58.0</td>\n",
       "    </tr>\n",
       "  </tbody>\n",
       "</table>\n",
       "<p>161 rows × 12 columns</p>\n",
       "</div>"
      ],
      "text/plain": [
       "        Jan   Feb    Mar   Apr    May    Jun    Jul    Aug    Sep    Oct  \\\n",
       "Year                                                                       \n",
       "1850   75.8  47.8   18.5  97.5   58.6   43.6   66.0   41.2   54.2   40.4   \n",
       "1851  112.0  26.2   63.1  44.4   29.3   78.5   70.5   55.2   24.6   88.0   \n",
       "1852   80.3  70.5   18.2  30.4   93.0  162.2   56.0   97.2   78.2   78.7   \n",
       "1853   74.7  52.3   71.7  44.8   22.7   58.9   49.9   81.3   35.5  123.7   \n",
       "1854  101.1  15.7   18.4  15.7   69.3   93.6   58.1   29.1   33.1   45.9   \n",
       "...     ...   ...    ...   ...    ...    ...    ...    ...    ...    ...   \n",
       "2006   16.0  38.0   70.0  41.0  117.0   27.0   18.0   58.0   85.0  107.0   \n",
       "2007   40.0  78.0   39.0  15.0   35.0  126.0  127.0   96.0   39.0   16.0   \n",
       "2008   97.0  15.0  102.0  28.0   33.0   76.0  111.0  192.4  114.0   93.0   \n",
       "2009   62.0  56.0   26.0  71.0   76.0   64.0  165.0   70.0   24.0   63.0   \n",
       "2010   45.0  37.0   55.0  27.0   38.0   50.0   79.0   48.0  104.0   31.0   \n",
       "\n",
       "        Nov   Dec  \n",
       "Year               \n",
       "1850   60.0  81.1  \n",
       "1851   27.5  23.5  \n",
       "1852  156.1  97.2  \n",
       "1853   40.3  52.3  \n",
       "1854   76.8  51.2  \n",
       "...     ...   ...  \n",
       "2006   69.0  95.0  \n",
       "2007   54.0  64.0  \n",
       "2008   45.0  39.0  \n",
       "2009  171.0  70.0  \n",
       "2010  100.0  58.0  \n",
       "\n",
       "[161 rows x 12 columns]"
      ]
     },
     "execution_count": 12,
     "metadata": {},
     "output_type": "execute_result"
    }
   ],
   "source": [
    "df"
   ]
  },
  {
   "cell_type": "code",
   "execution_count": 13,
   "metadata": {},
   "outputs": [
    {
     "data": {
      "text/plain": [
       "15.7"
      ]
     },
     "execution_count": 13,
     "metadata": {},
     "output_type": "execute_result"
    }
   ],
   "source": [
    "#df.loc[2009]\n",
    "df.loc[1854, 'Apr']"
   ]
  },
  {
   "cell_type": "code",
   "execution_count": null,
   "metadata": {
    "scrolled": true
   },
   "outputs": [],
   "source": [
    "# Output the year values( )\n",
    "df.index\n"
   ]
  },
  {
   "cell_type": "code",
   "execution_count": null,
   "metadata": {
    "scrolled": true
   },
   "outputs": [],
   "source": [
    "## Using iloc\n",
    "#df['Jan']\n",
    "#rain_y = df.iloc[5]\n",
    "#print(rain_y)"
   ]
  },
  {
   "cell_type": "code",
   "execution_count": 14,
   "metadata": {
    "scrolled": true
   },
   "outputs": [
    {
     "data": {
      "text/plain": [
       "<BarContainer object of 161 artists>"
      ]
     },
     "execution_count": 14,
     "metadata": {},
     "output_type": "execute_result"
    },
    {
     "data": {
      "image/png": "[encoded data removed]",
      "text/plain": [
       "<Figure size 432x288 with 1 Axes>"
      ]
     },
     "metadata": {
      "needs_background": "light"
     },
     "output_type": "display_data"
    }
   ],
   "source": [
    "#Simple Plot\n",
    "plt.rcParams['figure.figsize'] = [16, 8]# set the size of your graph\n",
    "plt.style.use('Solarize_Light2') # style\n",
    "plt.bar(df.index,df.Jan)\n",
    "plt.bar(df.index,df.Aug)"
   ]
  },
  {
   "cell_type": "markdown",
   "metadata": {},
   "source": [
    "## Apply Lambda Function to Pandas Data Frame\n",
    "The distance d in inches (″) is equal to the distance d in millimeters (mm) divided by 25.4:"
   ]
  },
  {
   "cell_type": "code",
   "execution_count": 15,
   "metadata": {},
   "outputs": [],
   "source": [
    "# Millmeterss to inches\n",
    "def to_inches(x):\n",
    "    y= x* 0.0393701\n",
    "    return round(y,2)"
   ]
  },
  {
   "cell_type": "code",
   "execution_count": 16,
   "metadata": {},
   "outputs": [
    {
     "name": "stdout",
     "output_type": "stream",
     "text": [
      "2.98\n"
     ]
    }
   ],
   "source": [
    "print(to_inches(75.8))"
   ]
  },
  {
   "cell_type": "code",
   "execution_count": 17,
   "metadata": {},
   "outputs": [
    {
     "name": "stdout",
     "output_type": "stream",
     "text": [
      "4.84\n"
     ]
    }
   ],
   "source": [
    "x= 123\n",
    "convert_to_inches = lambda x:round(x*0.0393701,2)\n",
    "print(convert_to_inches(x))"
   ]
  },
  {
   "cell_type": "code",
   "execution_count": 18,
   "metadata": {},
   "outputs": [
    {
     "data": {
      "text/html": [
       "<div>\n",
       "<style scoped>\n",
       "    .dataframe tbody tr th:only-of-type {\n",
       "        vertical-align: middle;\n",
       "    }\n",
       "\n",
       "    .dataframe tbody tr th {\n",
       "        vertical-align: top;\n",
       "    }\n",
       "\n",
       "    .dataframe thead th {\n",
       "        text-align: right;\n",
       "    }\n",
       "</style>\n",
       "<table border=\"1\" class=\"dataframe\">\n",
       "  <thead>\n",
       "    <tr style=\"text-align: right;\">\n",
       "      <th></th>\n",
       "      <th>Jan</th>\n",
       "      <th>Feb</th>\n",
       "      <th>Mar</th>\n",
       "      <th>Apr</th>\n",
       "      <th>May</th>\n",
       "      <th>Jun</th>\n",
       "      <th>Jul</th>\n",
       "      <th>Aug</th>\n",
       "      <th>Sep</th>\n",
       "      <th>Oct</th>\n",
       "      <th>Nov</th>\n",
       "      <th>Dec</th>\n",
       "      <th>Jan_inches</th>\n",
       "    </tr>\n",
       "    <tr>\n",
       "      <th>Year</th>\n",
       "      <th></th>\n",
       "      <th></th>\n",
       "      <th></th>\n",
       "      <th></th>\n",
       "      <th></th>\n",
       "      <th></th>\n",
       "      <th></th>\n",
       "      <th></th>\n",
       "      <th></th>\n",
       "      <th></th>\n",
       "      <th></th>\n",
       "      <th></th>\n",
       "      <th></th>\n",
       "    </tr>\n",
       "  </thead>\n",
       "  <tbody>\n",
       "    <tr>\n",
       "      <th>1850</th>\n",
       "      <td>75.8</td>\n",
       "      <td>47.8</td>\n",
       "      <td>18.5</td>\n",
       "      <td>97.5</td>\n",
       "      <td>58.6</td>\n",
       "      <td>43.6</td>\n",
       "      <td>66.0</td>\n",
       "      <td>41.2</td>\n",
       "      <td>54.2</td>\n",
       "      <td>40.4</td>\n",
       "      <td>60.0</td>\n",
       "      <td>81.1</td>\n",
       "      <td>2.98</td>\n",
       "    </tr>\n",
       "    <tr>\n",
       "      <th>1851</th>\n",
       "      <td>112.0</td>\n",
       "      <td>26.2</td>\n",
       "      <td>63.1</td>\n",
       "      <td>44.4</td>\n",
       "      <td>29.3</td>\n",
       "      <td>78.5</td>\n",
       "      <td>70.5</td>\n",
       "      <td>55.2</td>\n",
       "      <td>24.6</td>\n",
       "      <td>88.0</td>\n",
       "      <td>27.5</td>\n",
       "      <td>23.5</td>\n",
       "      <td>4.41</td>\n",
       "    </tr>\n",
       "    <tr>\n",
       "      <th>1852</th>\n",
       "      <td>80.3</td>\n",
       "      <td>70.5</td>\n",
       "      <td>18.2</td>\n",
       "      <td>30.4</td>\n",
       "      <td>93.0</td>\n",
       "      <td>162.2</td>\n",
       "      <td>56.0</td>\n",
       "      <td>97.2</td>\n",
       "      <td>78.2</td>\n",
       "      <td>78.7</td>\n",
       "      <td>156.1</td>\n",
       "      <td>97.2</td>\n",
       "      <td>3.16</td>\n",
       "    </tr>\n",
       "    <tr>\n",
       "      <th>1853</th>\n",
       "      <td>74.7</td>\n",
       "      <td>52.3</td>\n",
       "      <td>71.7</td>\n",
       "      <td>44.8</td>\n",
       "      <td>22.7</td>\n",
       "      <td>58.9</td>\n",
       "      <td>49.9</td>\n",
       "      <td>81.3</td>\n",
       "      <td>35.5</td>\n",
       "      <td>123.7</td>\n",
       "      <td>40.3</td>\n",
       "      <td>52.3</td>\n",
       "      <td>2.94</td>\n",
       "    </tr>\n",
       "    <tr>\n",
       "      <th>1854</th>\n",
       "      <td>101.1</td>\n",
       "      <td>15.7</td>\n",
       "      <td>18.4</td>\n",
       "      <td>15.7</td>\n",
       "      <td>69.3</td>\n",
       "      <td>93.6</td>\n",
       "      <td>58.1</td>\n",
       "      <td>29.1</td>\n",
       "      <td>33.1</td>\n",
       "      <td>45.9</td>\n",
       "      <td>76.8</td>\n",
       "      <td>51.2</td>\n",
       "      <td>3.98</td>\n",
       "    </tr>\n",
       "    <tr>\n",
       "      <th>...</th>\n",
       "      <td>...</td>\n",
       "      <td>...</td>\n",
       "      <td>...</td>\n",
       "      <td>...</td>\n",
       "      <td>...</td>\n",
       "      <td>...</td>\n",
       "      <td>...</td>\n",
       "      <td>...</td>\n",
       "      <td>...</td>\n",
       "      <td>...</td>\n",
       "      <td>...</td>\n",
       "      <td>...</td>\n",
       "      <td>...</td>\n",
       "    </tr>\n",
       "    <tr>\n",
       "      <th>2006</th>\n",
       "      <td>16.0</td>\n",
       "      <td>38.0</td>\n",
       "      <td>70.0</td>\n",
       "      <td>41.0</td>\n",
       "      <td>117.0</td>\n",
       "      <td>27.0</td>\n",
       "      <td>18.0</td>\n",
       "      <td>58.0</td>\n",
       "      <td>85.0</td>\n",
       "      <td>107.0</td>\n",
       "      <td>69.0</td>\n",
       "      <td>95.0</td>\n",
       "      <td>0.63</td>\n",
       "    </tr>\n",
       "    <tr>\n",
       "      <th>2007</th>\n",
       "      <td>40.0</td>\n",
       "      <td>78.0</td>\n",
       "      <td>39.0</td>\n",
       "      <td>15.0</td>\n",
       "      <td>35.0</td>\n",
       "      <td>126.0</td>\n",
       "      <td>127.0</td>\n",
       "      <td>96.0</td>\n",
       "      <td>39.0</td>\n",
       "      <td>16.0</td>\n",
       "      <td>54.0</td>\n",
       "      <td>64.0</td>\n",
       "      <td>1.57</td>\n",
       "    </tr>\n",
       "    <tr>\n",
       "      <th>2008</th>\n",
       "      <td>97.0</td>\n",
       "      <td>15.0</td>\n",
       "      <td>102.0</td>\n",
       "      <td>28.0</td>\n",
       "      <td>33.0</td>\n",
       "      <td>76.0</td>\n",
       "      <td>111.0</td>\n",
       "      <td>192.4</td>\n",
       "      <td>114.0</td>\n",
       "      <td>93.0</td>\n",
       "      <td>45.0</td>\n",
       "      <td>39.0</td>\n",
       "      <td>3.82</td>\n",
       "    </tr>\n",
       "    <tr>\n",
       "      <th>2009</th>\n",
       "      <td>62.0</td>\n",
       "      <td>56.0</td>\n",
       "      <td>26.0</td>\n",
       "      <td>71.0</td>\n",
       "      <td>76.0</td>\n",
       "      <td>64.0</td>\n",
       "      <td>165.0</td>\n",
       "      <td>70.0</td>\n",
       "      <td>24.0</td>\n",
       "      <td>63.0</td>\n",
       "      <td>171.0</td>\n",
       "      <td>70.0</td>\n",
       "      <td>2.44</td>\n",
       "    </tr>\n",
       "    <tr>\n",
       "      <th>2010</th>\n",
       "      <td>45.0</td>\n",
       "      <td>37.0</td>\n",
       "      <td>55.0</td>\n",
       "      <td>27.0</td>\n",
       "      <td>38.0</td>\n",
       "      <td>50.0</td>\n",
       "      <td>79.0</td>\n",
       "      <td>48.0</td>\n",
       "      <td>104.0</td>\n",
       "      <td>31.0</td>\n",
       "      <td>100.0</td>\n",
       "      <td>58.0</td>\n",
       "      <td>1.77</td>\n",
       "    </tr>\n",
       "  </tbody>\n",
       "</table>\n",
       "<p>161 rows × 13 columns</p>\n",
       "</div>"
      ],
      "text/plain": [
       "        Jan   Feb    Mar   Apr    May    Jun    Jul    Aug    Sep    Oct  \\\n",
       "Year                                                                       \n",
       "1850   75.8  47.8   18.5  97.5   58.6   43.6   66.0   41.2   54.2   40.4   \n",
       "1851  112.0  26.2   63.1  44.4   29.3   78.5   70.5   55.2   24.6   88.0   \n",
       "1852   80.3  70.5   18.2  30.4   93.0  162.2   56.0   97.2   78.2   78.7   \n",
       "1853   74.7  52.3   71.7  44.8   22.7   58.9   49.9   81.3   35.5  123.7   \n",
       "1854  101.1  15.7   18.4  15.7   69.3   93.6   58.1   29.1   33.1   45.9   \n",
       "...     ...   ...    ...   ...    ...    ...    ...    ...    ...    ...   \n",
       "2006   16.0  38.0   70.0  41.0  117.0   27.0   18.0   58.0   85.0  107.0   \n",
       "2007   40.0  78.0   39.0  15.0   35.0  126.0  127.0   96.0   39.0   16.0   \n",
       "2008   97.0  15.0  102.0  28.0   33.0   76.0  111.0  192.4  114.0   93.0   \n",
       "2009   62.0  56.0   26.0  71.0   76.0   64.0  165.0   70.0   24.0   63.0   \n",
       "2010   45.0  37.0   55.0  27.0   38.0   50.0   79.0   48.0  104.0   31.0   \n",
       "\n",
       "        Nov   Dec  Jan_inches  \n",
       "Year                           \n",
       "1850   60.0  81.1        2.98  \n",
       "1851   27.5  23.5        4.41  \n",
       "1852  156.1  97.2        3.16  \n",
       "1853   40.3  52.3        2.94  \n",
       "1854   76.8  51.2        3.98  \n",
       "...     ...   ...         ...  \n",
       "2006   69.0  95.0        0.63  \n",
       "2007   54.0  64.0        1.57  \n",
       "2008   45.0  39.0        3.82  \n",
       "2009  171.0  70.0        2.44  \n",
       "2010  100.0  58.0        1.77  \n",
       "\n",
       "[161 rows x 13 columns]"
      ]
     },
     "execution_count": 18,
     "metadata": {},
     "output_type": "execute_result"
    }
   ],
   "source": [
    "# Convert the January figures to inches and append as a new column at the end\n",
    "df['Jan_inches'] = df.apply(lambda x: round(x['Jan']*0.0393701,2), axis=1) # axis =1 is a column\n",
    "df"
   ]
  },
  {
   "cell_type": "markdown",
   "metadata": {},
   "source": [
    "## SAQ 1 - Inching Forwards\n",
    "Using a Lambda function, add a new column to the df dataframe with the month of August converted to inches\n",
    "\n"
   ]
  },
  {
   "cell_type": "code",
   "execution_count": null,
   "metadata": {},
   "outputs": [],
   "source": [
    "#Add your answer here\n"
   ]
  },
  {
   "cell_type": "markdown",
   "metadata": {},
   "source": [
    "## Create a filter\n",
    "Our objective is to print out a bar chart that prints out the rain values for January, August and November at five or ten year intervals."
   ]
  },
  {
   "cell_type": "code",
   "execution_count": 22,
   "metadata": {},
   "outputs": [
    {
     "name": "stdout",
     "output_type": "stream",
     "text": [
      "[1850, 1860, 1870, 1880, 1890, 1900, 1910, 1920, 1930, 1940, 1950, 1960, 1970, 1980, 1990, 2000, 2010]\n"
     ]
    }
   ],
   "source": [
    "# Create a list with a fewer number of years\n",
    "nums = range(1850,2020,10)\n",
    "\n",
    "#print List\n",
    "my_list = []\n",
    "for n in nums:\n",
    "    my_list.append(n)\n",
    "print(my_list)"
   ]
  },
  {
   "cell_type": "code",
   "execution_count": 23,
   "metadata": {},
   "outputs": [
    {
     "name": "stdout",
     "output_type": "stream",
     "text": [
      "[ True False False False False False False False False False  True False\n",
      " False False False False False False False False  True False False False\n",
      " False False False False False False  True False False False False False\n",
      " False False False False  True False False False False False False False\n",
      " False False  True False False False False False False False False False\n",
      "  True False False False False False False False False False  True False\n",
      " False False False False False False False False  True False False False\n",
      " False False False False False False  True False False False False False\n",
      " False False False False  True False False False False False False False\n",
      " False False  True False False False False False False False False False\n",
      "  True False False False False False False False False False  True False\n",
      " False False False False False False False False  True False False False\n",
      " False False False False False False  True False False False False False\n",
      " False False False False  True]\n"
     ]
    }
   ],
   "source": [
    "# Filter out the data for those years using the 'isin' method\n",
    "filt = df.index.isin(my_list)\n",
    "\n",
    "print(filt)"
   ]
  },
  {
   "cell_type": "code",
   "execution_count": 24,
   "metadata": {
    "scrolled": false
   },
   "outputs": [
    {
     "name": "stdout",
     "output_type": "stream",
     "text": [
      "Year\n",
      "1850     41.2\n",
      "1860    107.5\n",
      "1870     44.5\n",
      "1880     33.5\n",
      "1890     77.0\n",
      "1900    156.7\n",
      "1910     72.9\n",
      "1920     47.8\n",
      "1930    127.5\n",
      "1940     15.5\n",
      "1950    145.8\n",
      "1960     86.4\n",
      "1970     68.0\n",
      "1980     97.8\n",
      "1990     49.8\n",
      "2000     63.0\n",
      "2010     48.0\n",
      "Name: Aug, dtype: float64\n"
     ]
    }
   ],
   "source": [
    "x_values = df.loc[filt, 'Aug']\n",
    "print(x_values)"
   ]
  },
  {
   "cell_type": "markdown",
   "metadata": {},
   "source": [
    "## Create a new dataframe with the information that we want\n"
   ]
  },
  {
   "cell_type": "code",
   "execution_count": 25,
   "metadata": {
    "scrolled": true
   },
   "outputs": [
    {
     "name": "stdout",
     "output_type": "stream",
     "text": [
      "        Jan    Aug    Nov    Dec\n",
      "Year                            \n",
      "1850   75.8   41.2   60.0   81.1\n",
      "1860   91.5  107.5   70.5   58.1\n",
      "1870   38.4   44.5   31.2   63.7\n",
      "1880   17.5   33.5  103.6   80.0\n",
      "1890   68.3   77.0  101.3   43.9\n",
      "1900   72.6  156.7  132.1   54.4\n",
      "1910   77.5   72.9   78.2  120.6\n",
      "1920  101.6   47.8   65.8   55.4\n",
      "1930  102.6  127.5   69.1   79.2\n",
      "1940   81.0   15.5   92.2   43.7\n",
      "1950   10.5  145.8   56.6   56.7\n",
      "1960   87.0   86.4  102.8   93.7\n",
      "1970   63.0   68.0  128.0   51.0\n",
      "1980  115.2   97.8   41.4   49.7\n",
      "1990   67.1   49.8   64.0   78.7\n",
      "2000   40.0   63.0  141.0  122.0\n",
      "2010   45.0   48.0  100.0   58.0\n"
     ]
    }
   ],
   "source": [
    "# Create a new DataFrame with the data we want\n",
    "newDF = df.loc[filt, ['Jan', 'Aug', 'Nov','Dec']]\n",
    "print(newDF)"
   ]
  },
  {
   "cell_type": "code",
   "execution_count": 26,
   "metadata": {},
   "outputs": [
    {
     "data": {
      "text/plain": [
       "[<matplotlib.lines.Line2D at 0x7f861494e6d0>]"
      ]
     },
     "execution_count": 26,
     "metadata": {},
     "output_type": "execute_result"
    },
    {
     "data": {
      "image/png": "[encoded data removed]",
      "text/plain": [
       "<Figure size 432x288 with 1 Axes>"
      ]
     },
     "metadata": {
      "needs_background": "light"
     },
     "output_type": "display_data"
    }
   ],
   "source": [
    "# Print our new plot\n",
    "plt.plot(newDF.index,newDF.Jan)\n",
    "plt.plot(newDF.index,newDF.Aug)\n",
    "plt.plot(newDF.index,newDF.Nov)\n",
    "plt.plot(newDF.index,newDF.Dec)"
   ]
  },
  {
   "cell_type": "code",
   "execution_count": 27,
   "metadata": {
    "scrolled": true
   },
   "outputs": [
    {
     "data": {
      "text/plain": [
       "<BarContainer object of 17 artists>"
      ]
     },
     "execution_count": 27,
     "metadata": {},
     "output_type": "execute_result"
    },
    {
     "data": {
      "image/png": "[encoded data removed]",
      "text/plain": [
       "<Figure size 432x288 with 1 Axes>"
      ]
     },
     "metadata": {
      "needs_background": "light"
     },
     "output_type": "display_data"
    }
   ],
   "source": [
    "# Change to a bar plot\n",
    "plt.bar(newDF.index,newDF.Jan)\n",
    "plt.bar(newDF.index,newDF.Aug)\n",
    "plt.bar(newDF.index,newDF.Nov)\n",
    "\n",
    "\n",
    "\n"
   ]
  },
  {
   "cell_type": "markdown",
   "metadata": {},
   "source": [
    "## Hmmm...\n",
    "Let us try to sort out this mess..."
   ]
  },
  {
   "cell_type": "code",
   "execution_count": 28,
   "metadata": {},
   "outputs": [
    {
     "data": {
      "text/plain": [
       "<matplotlib.legend.Legend at 0x7f8614c89250>"
      ]
     },
     "execution_count": 28,
     "metadata": {},
     "output_type": "execute_result"
    },
    {
     "data": {
      "image/png": "[encoded data removed]",
      "text/plain": [
       "<Figure size 1008x432 with 1 Axes>"
      ]
     },
     "metadata": {},
     "output_type": "display_data"
    }
   ],
   "source": [
    "plt.style.use('Solarize_Light2')\n",
    "plt.rcParams['figure.figsize'] = [14, 6]\n",
    "width = 2.00\n",
    "offset = 2.00\n",
    "offset1 = 4.00\n",
    "\n",
    "plt.bar(newDF.index - offset, newDF.Jan, width = width, label = 'January Rain')\n",
    "plt.bar(newDF.index ,  newDF.Aug, width = width, color = 'k', label = 'August Rain')\n",
    "plt.bar(newDF.index + offset, newDF.Nov, width = width, label = 'November Rain')\n",
    "plt.bar(newDF.index + offset1, newDF.Dec, width = width, label = 'December Rain')\n",
    "\n",
    "plt.title('Rain- Dublin Airport(1860-2010)')\n",
    "plt.xlabel('Year')\n",
    "plt.ylabel('Rain mm')\n",
    "plt.grid(True)\n",
    "plt.legend()"
   ]
  },
  {
   "cell_type": "markdown",
   "metadata": {},
   "source": [
    "# Statistical Analysis"
   ]
  },
  {
   "cell_type": "markdown",
   "metadata": {},
   "source": [
    "## Simple Stats"
   ]
  },
  {
   "cell_type": "code",
   "execution_count": 31,
   "metadata": {},
   "outputs": [
    {
     "name": "stdout",
     "output_type": "stream",
     "text": [
      "63.49\n"
     ]
    },
    {
     "data": {
      "text/plain": [
       "67.91764705882352"
      ]
     },
     "execution_count": 31,
     "metadata": {},
     "output_type": "execute_result"
    }
   ],
   "source": [
    "# Mean and Median\n",
    "print(round(df['Jan'].mean(),2))\n",
    "\n",
    "# newDF['Jan'].mean()"
   ]
  },
  {
   "cell_type": "code",
   "execution_count": 32,
   "metadata": {
    "scrolled": true
   },
   "outputs": [
    {
     "data": {
      "text/plain": [
       "Jan           171.10\n",
       "Feb           127.50\n",
       "Mar           148.60\n",
       "Apr           147.00\n",
       "May           149.90\n",
       "Jun           168.50\n",
       "Jul           165.00\n",
       "Aug           192.40\n",
       "Sep           170.90\n",
       "Oct           200.90\n",
       "Nov           187.00\n",
       "Dec           217.00\n",
       "Jan_inches      6.74\n",
       "dtype: float64"
      ]
     },
     "execution_count": 32,
     "metadata": {},
     "output_type": "execute_result"
    }
   ],
   "source": [
    "# Statistic on all of the dataframe\n",
    "df.max()"
   ]
  },
  {
   "cell_type": "code",
   "execution_count": 34,
   "metadata": {
    "scrolled": true
   },
   "outputs": [
    {
     "data": {
      "text/html": [
       "<div>\n",
       "<style scoped>\n",
       "    .dataframe tbody tr th:only-of-type {\n",
       "        vertical-align: middle;\n",
       "    }\n",
       "\n",
       "    .dataframe tbody tr th {\n",
       "        vertical-align: top;\n",
       "    }\n",
       "\n",
       "    .dataframe thead th {\n",
       "        text-align: right;\n",
       "    }\n",
       "</style>\n",
       "<table border=\"1\" class=\"dataframe\">\n",
       "  <thead>\n",
       "    <tr style=\"text-align: right;\">\n",
       "      <th></th>\n",
       "      <th>Jan</th>\n",
       "      <th>Feb</th>\n",
       "      <th>Mar</th>\n",
       "      <th>Apr</th>\n",
       "      <th>May</th>\n",
       "      <th>Jun</th>\n",
       "      <th>Jul</th>\n",
       "      <th>Aug</th>\n",
       "      <th>Sep</th>\n",
       "      <th>Oct</th>\n",
       "      <th>Nov</th>\n",
       "      <th>Dec</th>\n",
       "      <th>Jan_inches</th>\n",
       "    </tr>\n",
       "  </thead>\n",
       "  <tbody>\n",
       "    <tr>\n",
       "      <th>count</th>\n",
       "      <td>161.000000</td>\n",
       "      <td>161.000000</td>\n",
       "      <td>161.000000</td>\n",
       "      <td>161.000000</td>\n",
       "      <td>161.000000</td>\n",
       "      <td>161.000000</td>\n",
       "      <td>161.000000</td>\n",
       "      <td>161.000000</td>\n",
       "      <td>161.000000</td>\n",
       "      <td>161.000000</td>\n",
       "      <td>161.000000</td>\n",
       "      <td>161.000000</td>\n",
       "      <td>161.000000</td>\n",
       "    </tr>\n",
       "    <tr>\n",
       "      <th>mean</th>\n",
       "      <td>63.493789</td>\n",
       "      <td>48.740994</td>\n",
       "      <td>51.455901</td>\n",
       "      <td>49.272050</td>\n",
       "      <td>56.065839</td>\n",
       "      <td>55.772050</td>\n",
       "      <td>64.234161</td>\n",
       "      <td>74.695031</td>\n",
       "      <td>61.985714</td>\n",
       "      <td>72.820497</td>\n",
       "      <td>68.547205</td>\n",
       "      <td>68.464596</td>\n",
       "      <td>2.499627</td>\n",
       "    </tr>\n",
       "    <tr>\n",
       "      <th>std</th>\n",
       "      <td>27.618329</td>\n",
       "      <td>27.089787</td>\n",
       "      <td>26.216385</td>\n",
       "      <td>24.040248</td>\n",
       "      <td>29.360976</td>\n",
       "      <td>32.226552</td>\n",
       "      <td>33.171206</td>\n",
       "      <td>37.701832</td>\n",
       "      <td>34.297676</td>\n",
       "      <td>38.367021</td>\n",
       "      <td>34.227104</td>\n",
       "      <td>32.205812</td>\n",
       "      <td>1.087610</td>\n",
       "    </tr>\n",
       "    <tr>\n",
       "      <th>min</th>\n",
       "      <td>8.200000</td>\n",
       "      <td>1.500000</td>\n",
       "      <td>5.000000</td>\n",
       "      <td>1.500000</td>\n",
       "      <td>3.600000</td>\n",
       "      <td>2.500000</td>\n",
       "      <td>9.200000</td>\n",
       "      <td>6.700000</td>\n",
       "      <td>2.700000</td>\n",
       "      <td>11.000000</td>\n",
       "      <td>9.700000</td>\n",
       "      <td>13.700000</td>\n",
       "      <td>0.320000</td>\n",
       "    </tr>\n",
       "    <tr>\n",
       "      <th>25%</th>\n",
       "      <td>41.000000</td>\n",
       "      <td>28.000000</td>\n",
       "      <td>31.000000</td>\n",
       "      <td>32.500000</td>\n",
       "      <td>34.400000</td>\n",
       "      <td>32.400000</td>\n",
       "      <td>40.000000</td>\n",
       "      <td>47.000000</td>\n",
       "      <td>34.800000</td>\n",
       "      <td>42.500000</td>\n",
       "      <td>45.000000</td>\n",
       "      <td>45.600000</td>\n",
       "      <td>1.610000</td>\n",
       "    </tr>\n",
       "    <tr>\n",
       "      <th>50%</th>\n",
       "      <td>63.000000</td>\n",
       "      <td>46.000000</td>\n",
       "      <td>50.300000</td>\n",
       "      <td>45.000000</td>\n",
       "      <td>52.300000</td>\n",
       "      <td>49.500000</td>\n",
       "      <td>57.500000</td>\n",
       "      <td>71.100000</td>\n",
       "      <td>58.700000</td>\n",
       "      <td>69.300000</td>\n",
       "      <td>60.600000</td>\n",
       "      <td>60.000000</td>\n",
       "      <td>2.480000</td>\n",
       "    </tr>\n",
       "    <tr>\n",
       "      <th>75%</th>\n",
       "      <td>83.100000</td>\n",
       "      <td>62.000000</td>\n",
       "      <td>67.300000</td>\n",
       "      <td>62.000000</td>\n",
       "      <td>70.900000</td>\n",
       "      <td>73.900000</td>\n",
       "      <td>82.800000</td>\n",
       "      <td>97.200000</td>\n",
       "      <td>81.300000</td>\n",
       "      <td>93.000000</td>\n",
       "      <td>90.700000</td>\n",
       "      <td>88.900000</td>\n",
       "      <td>3.270000</td>\n",
       "    </tr>\n",
       "    <tr>\n",
       "      <th>max</th>\n",
       "      <td>171.100000</td>\n",
       "      <td>127.500000</td>\n",
       "      <td>148.600000</td>\n",
       "      <td>147.000000</td>\n",
       "      <td>149.900000</td>\n",
       "      <td>168.500000</td>\n",
       "      <td>165.000000</td>\n",
       "      <td>192.400000</td>\n",
       "      <td>170.900000</td>\n",
       "      <td>200.900000</td>\n",
       "      <td>187.000000</td>\n",
       "      <td>217.000000</td>\n",
       "      <td>6.740000</td>\n",
       "    </tr>\n",
       "  </tbody>\n",
       "</table>\n",
       "</div>"
      ],
      "text/plain": [
       "              Jan         Feb         Mar         Apr         May         Jun  \\\n",
       "count  161.000000  161.000000  161.000000  161.000000  161.000000  161.000000   \n",
       "mean    63.493789   48.740994   51.455901   49.272050   56.065839   55.772050   \n",
       "std     27.618329   27.089787   26.216385   24.040248   29.360976   32.226552   \n",
       "min      8.200000    1.500000    5.000000    1.500000    3.600000    2.500000   \n",
       "25%     41.000000   28.000000   31.000000   32.500000   34.400000   32.400000   \n",
       "50%     63.000000   46.000000   50.300000   45.000000   52.300000   49.500000   \n",
       "75%     83.100000   62.000000   67.300000   62.000000   70.900000   73.900000   \n",
       "max    171.100000  127.500000  148.600000  147.000000  149.900000  168.500000   \n",
       "\n",
       "              Jul         Aug         Sep         Oct         Nov         Dec  \\\n",
       "count  161.000000  161.000000  161.000000  161.000000  161.000000  161.000000   \n",
       "mean    64.234161   74.695031   61.985714   72.820497   68.547205   68.464596   \n",
       "std     33.171206   37.701832   34.297676   38.367021   34.227104   32.205812   \n",
       "min      9.200000    6.700000    2.700000   11.000000    9.700000   13.700000   \n",
       "25%     40.000000   47.000000   34.800000   42.500000   45.000000   45.600000   \n",
       "50%     57.500000   71.100000   58.700000   69.300000   60.600000   60.000000   \n",
       "75%     82.800000   97.200000   81.300000   93.000000   90.700000   88.900000   \n",
       "max    165.000000  192.400000  170.900000  200.900000  187.000000  217.000000   \n",
       "\n",
       "       Jan_inches  \n",
       "count  161.000000  \n",
       "mean     2.499627  \n",
       "std      1.087610  \n",
       "min      0.320000  \n",
       "25%      1.610000  \n",
       "50%      2.480000  \n",
       "75%      3.270000  \n",
       "max      6.740000  "
      ]
     },
     "execution_count": 34,
     "metadata": {},
     "output_type": "execute_result"
    }
   ],
   "source": [
    "# General Statistics\n",
    "df.describe()"
   ]
  },
  {
   "cell_type": "markdown",
   "metadata": {},
   "source": [
    "## Grouping Data\n",
    "When grouping data it is a three phase process (carried out by Python). Split (into separate tables), apply a function (to each table), recombine( into one table)."
   ]
  },
  {
   "cell_type": "code",
   "execution_count": 35,
   "metadata": {
    "scrolled": true
   },
   "outputs": [
    {
     "data": {
      "text/html": [
       "<div>\n",
       "<style scoped>\n",
       "    .dataframe tbody tr th:only-of-type {\n",
       "        vertical-align: middle;\n",
       "    }\n",
       "\n",
       "    .dataframe tbody tr th {\n",
       "        vertical-align: top;\n",
       "    }\n",
       "\n",
       "    .dataframe thead th {\n",
       "        text-align: right;\n",
       "    }\n",
       "</style>\n",
       "<table border=\"1\" class=\"dataframe\">\n",
       "  <thead>\n",
       "    <tr style=\"text-align: right;\">\n",
       "      <th></th>\n",
       "      <th>Year</th>\n",
       "      <th>Month</th>\n",
       "      <th>Day</th>\n",
       "      <th>Max (F)</th>\n",
       "      <th>Min (F)</th>\n",
       "      <th>Max C)</th>\n",
       "      <th>Min (C)</th>\n",
       "    </tr>\n",
       "  </thead>\n",
       "  <tbody>\n",
       "    <tr>\n",
       "      <th>0</th>\n",
       "      <td>1881</td>\n",
       "      <td>5</td>\n",
       "      <td>1</td>\n",
       "      <td>56.8</td>\n",
       "      <td>43.0</td>\n",
       "      <td>13.8</td>\n",
       "      <td>6.1</td>\n",
       "    </tr>\n",
       "    <tr>\n",
       "      <th>1</th>\n",
       "      <td>1881</td>\n",
       "      <td>5</td>\n",
       "      <td>2</td>\n",
       "      <td>55.8</td>\n",
       "      <td>38.1</td>\n",
       "      <td>13.2</td>\n",
       "      <td>3.4</td>\n",
       "    </tr>\n",
       "    <tr>\n",
       "      <th>2</th>\n",
       "      <td>1881</td>\n",
       "      <td>5</td>\n",
       "      <td>3</td>\n",
       "      <td>59.0</td>\n",
       "      <td>37.0</td>\n",
       "      <td>15.0</td>\n",
       "      <td>2.8</td>\n",
       "    </tr>\n",
       "    <tr>\n",
       "      <th>3</th>\n",
       "      <td>1881</td>\n",
       "      <td>5</td>\n",
       "      <td>4</td>\n",
       "      <td>57.7</td>\n",
       "      <td>45.7</td>\n",
       "      <td>14.3</td>\n",
       "      <td>7.6</td>\n",
       "    </tr>\n",
       "    <tr>\n",
       "      <th>4</th>\n",
       "      <td>1881</td>\n",
       "      <td>5</td>\n",
       "      <td>5</td>\n",
       "      <td>NaN</td>\n",
       "      <td>NaN</td>\n",
       "      <td>NaN</td>\n",
       "      <td>NaN</td>\n",
       "    </tr>\n",
       "    <tr>\n",
       "      <th>...</th>\n",
       "      <td>...</td>\n",
       "      <td>...</td>\n",
       "      <td>...</td>\n",
       "      <td>...</td>\n",
       "      <td>...</td>\n",
       "      <td>...</td>\n",
       "      <td>...</td>\n",
       "    </tr>\n",
       "    <tr>\n",
       "      <th>18898</th>\n",
       "      <td>1933</td>\n",
       "      <td>1</td>\n",
       "      <td>27</td>\n",
       "      <td>NaN</td>\n",
       "      <td>24.0</td>\n",
       "      <td>NaN</td>\n",
       "      <td>-4.4</td>\n",
       "    </tr>\n",
       "    <tr>\n",
       "      <th>18899</th>\n",
       "      <td>1933</td>\n",
       "      <td>1</td>\n",
       "      <td>28</td>\n",
       "      <td>NaN</td>\n",
       "      <td>29.0</td>\n",
       "      <td>NaN</td>\n",
       "      <td>-1.7</td>\n",
       "    </tr>\n",
       "    <tr>\n",
       "      <th>18900</th>\n",
       "      <td>1933</td>\n",
       "      <td>1</td>\n",
       "      <td>29</td>\n",
       "      <td>NaN</td>\n",
       "      <td>31.0</td>\n",
       "      <td>NaN</td>\n",
       "      <td>-0.6</td>\n",
       "    </tr>\n",
       "    <tr>\n",
       "      <th>18901</th>\n",
       "      <td>1933</td>\n",
       "      <td>1</td>\n",
       "      <td>30</td>\n",
       "      <td>NaN</td>\n",
       "      <td>33.0</td>\n",
       "      <td>NaN</td>\n",
       "      <td>0.6</td>\n",
       "    </tr>\n",
       "    <tr>\n",
       "      <th>18902</th>\n",
       "      <td>1933</td>\n",
       "      <td>1</td>\n",
       "      <td>31</td>\n",
       "      <td>NaN</td>\n",
       "      <td>36.0</td>\n",
       "      <td>NaN</td>\n",
       "      <td>2.2</td>\n",
       "    </tr>\n",
       "  </tbody>\n",
       "</table>\n",
       "<p>18903 rows × 7 columns</p>\n",
       "</div>"
      ],
      "text/plain": [
       "       Year  Month  Day  Max (F)  Min (F)  Max C)  Min (C)\n",
       "0      1881      5    1     56.8     43.0    13.8      6.1\n",
       "1      1881      5    2     55.8     38.1    13.2      3.4\n",
       "2      1881      5    3     59.0     37.0    15.0      2.8\n",
       "3      1881      5    4     57.7     45.7    14.3      7.6\n",
       "4      1881      5    5      NaN      NaN     NaN      NaN\n",
       "...     ...    ...  ...      ...      ...     ...      ...\n",
       "18898  1933      1   27      NaN     24.0     NaN     -4.4\n",
       "18899  1933      1   28      NaN     29.0     NaN     -1.7\n",
       "18900  1933      1   29      NaN     31.0     NaN     -0.6\n",
       "18901  1933      1   30      NaN     33.0     NaN      0.6\n",
       "18902  1933      1   31      NaN     36.0     NaN      2.2\n",
       "\n",
       "[18903 rows x 7 columns]"
      ]
     },
     "execution_count": 35,
     "metadata": {},
     "output_type": "execute_result"
    }
   ],
   "source": [
    "# load a new set of data for Killarney\n",
    "kill_df = pd.read_csv(\"/Users/morgan/Documents/Courses/Python/MyModules/Killarney_1881-1933.csv\")\n",
    "kill_df"
   ]
  },
  {
   "cell_type": "code",
   "execution_count": 36,
   "metadata": {
    "scrolled": true
   },
   "outputs": [
    {
     "data": {
      "text/plain": [
       "(18903, 7)"
      ]
     },
     "execution_count": 36,
     "metadata": {},
     "output_type": "execute_result"
    }
   ],
   "source": [
    "#Get the shape of the dataframe\n",
    "kill_df.shape"
   ]
  },
  {
   "cell_type": "code",
   "execution_count": 44,
   "metadata": {},
   "outputs": [],
   "source": [
    "# Step 1\n",
    "year_group = kill_df.groupby(['Year'])\n",
    "# print(kill_df[\"Max C)\"])"
   ]
  },
  {
   "cell_type": "code",
   "execution_count": 39,
   "metadata": {},
   "outputs": [
    {
     "data": {
      "text/html": [
       "<div>\n",
       "<style scoped>\n",
       "    .dataframe tbody tr th:only-of-type {\n",
       "        vertical-align: middle;\n",
       "    }\n",
       "\n",
       "    .dataframe tbody tr th {\n",
       "        vertical-align: top;\n",
       "    }\n",
       "\n",
       "    .dataframe thead th {\n",
       "        text-align: right;\n",
       "    }\n",
       "</style>\n",
       "<table border=\"1\" class=\"dataframe\">\n",
       "  <thead>\n",
       "    <tr style=\"text-align: right;\">\n",
       "      <th></th>\n",
       "      <th>Year</th>\n",
       "      <th>Month</th>\n",
       "      <th>Day</th>\n",
       "      <th>Max (F)</th>\n",
       "      <th>Min (F)</th>\n",
       "      <th>Max C)</th>\n",
       "      <th>Min (C)</th>\n",
       "    </tr>\n",
       "  </thead>\n",
       "  <tbody>\n",
       "    <tr>\n",
       "      <th>18872</th>\n",
       "      <td>1933</td>\n",
       "      <td>1</td>\n",
       "      <td>1</td>\n",
       "      <td>NaN</td>\n",
       "      <td>48.0</td>\n",
       "      <td>NaN</td>\n",
       "      <td>8.9</td>\n",
       "    </tr>\n",
       "    <tr>\n",
       "      <th>18873</th>\n",
       "      <td>1933</td>\n",
       "      <td>1</td>\n",
       "      <td>2</td>\n",
       "      <td>NaN</td>\n",
       "      <td>51.0</td>\n",
       "      <td>NaN</td>\n",
       "      <td>10.6</td>\n",
       "    </tr>\n",
       "    <tr>\n",
       "      <th>18874</th>\n",
       "      <td>1933</td>\n",
       "      <td>1</td>\n",
       "      <td>3</td>\n",
       "      <td>NaN</td>\n",
       "      <td>43.0</td>\n",
       "      <td>NaN</td>\n",
       "      <td>6.1</td>\n",
       "    </tr>\n",
       "    <tr>\n",
       "      <th>18875</th>\n",
       "      <td>1933</td>\n",
       "      <td>1</td>\n",
       "      <td>4</td>\n",
       "      <td>NaN</td>\n",
       "      <td>44.0</td>\n",
       "      <td>NaN</td>\n",
       "      <td>6.7</td>\n",
       "    </tr>\n",
       "    <tr>\n",
       "      <th>18876</th>\n",
       "      <td>1933</td>\n",
       "      <td>1</td>\n",
       "      <td>5</td>\n",
       "      <td>NaN</td>\n",
       "      <td>39.0</td>\n",
       "      <td>NaN</td>\n",
       "      <td>3.9</td>\n",
       "    </tr>\n",
       "    <tr>\n",
       "      <th>18877</th>\n",
       "      <td>1933</td>\n",
       "      <td>1</td>\n",
       "      <td>6</td>\n",
       "      <td>NaN</td>\n",
       "      <td>43.0</td>\n",
       "      <td>NaN</td>\n",
       "      <td>6.1</td>\n",
       "    </tr>\n",
       "    <tr>\n",
       "      <th>18878</th>\n",
       "      <td>1933</td>\n",
       "      <td>1</td>\n",
       "      <td>7</td>\n",
       "      <td>NaN</td>\n",
       "      <td>52.0</td>\n",
       "      <td>NaN</td>\n",
       "      <td>11.1</td>\n",
       "    </tr>\n",
       "    <tr>\n",
       "      <th>18879</th>\n",
       "      <td>1933</td>\n",
       "      <td>1</td>\n",
       "      <td>8</td>\n",
       "      <td>NaN</td>\n",
       "      <td>52.0</td>\n",
       "      <td>NaN</td>\n",
       "      <td>11.1</td>\n",
       "    </tr>\n",
       "    <tr>\n",
       "      <th>18880</th>\n",
       "      <td>1933</td>\n",
       "      <td>1</td>\n",
       "      <td>9</td>\n",
       "      <td>NaN</td>\n",
       "      <td>46.0</td>\n",
       "      <td>NaN</td>\n",
       "      <td>7.8</td>\n",
       "    </tr>\n",
       "    <tr>\n",
       "      <th>18881</th>\n",
       "      <td>1933</td>\n",
       "      <td>1</td>\n",
       "      <td>10</td>\n",
       "      <td>NaN</td>\n",
       "      <td>47.0</td>\n",
       "      <td>NaN</td>\n",
       "      <td>8.3</td>\n",
       "    </tr>\n",
       "    <tr>\n",
       "      <th>18882</th>\n",
       "      <td>1933</td>\n",
       "      <td>1</td>\n",
       "      <td>11</td>\n",
       "      <td>NaN</td>\n",
       "      <td>41.0</td>\n",
       "      <td>NaN</td>\n",
       "      <td>5.0</td>\n",
       "    </tr>\n",
       "    <tr>\n",
       "      <th>18883</th>\n",
       "      <td>1933</td>\n",
       "      <td>1</td>\n",
       "      <td>12</td>\n",
       "      <td>NaN</td>\n",
       "      <td>40.0</td>\n",
       "      <td>NaN</td>\n",
       "      <td>4.4</td>\n",
       "    </tr>\n",
       "    <tr>\n",
       "      <th>18884</th>\n",
       "      <td>1933</td>\n",
       "      <td>1</td>\n",
       "      <td>13</td>\n",
       "      <td>NaN</td>\n",
       "      <td>40.0</td>\n",
       "      <td>NaN</td>\n",
       "      <td>4.4</td>\n",
       "    </tr>\n",
       "    <tr>\n",
       "      <th>18885</th>\n",
       "      <td>1933</td>\n",
       "      <td>1</td>\n",
       "      <td>14</td>\n",
       "      <td>NaN</td>\n",
       "      <td>47.0</td>\n",
       "      <td>NaN</td>\n",
       "      <td>8.3</td>\n",
       "    </tr>\n",
       "    <tr>\n",
       "      <th>18886</th>\n",
       "      <td>1933</td>\n",
       "      <td>1</td>\n",
       "      <td>15</td>\n",
       "      <td>NaN</td>\n",
       "      <td>46.0</td>\n",
       "      <td>NaN</td>\n",
       "      <td>7.8</td>\n",
       "    </tr>\n",
       "    <tr>\n",
       "      <th>18887</th>\n",
       "      <td>1933</td>\n",
       "      <td>1</td>\n",
       "      <td>16</td>\n",
       "      <td>NaN</td>\n",
       "      <td>35.0</td>\n",
       "      <td>NaN</td>\n",
       "      <td>1.7</td>\n",
       "    </tr>\n",
       "    <tr>\n",
       "      <th>18888</th>\n",
       "      <td>1933</td>\n",
       "      <td>1</td>\n",
       "      <td>17</td>\n",
       "      <td>NaN</td>\n",
       "      <td>29.0</td>\n",
       "      <td>NaN</td>\n",
       "      <td>-1.7</td>\n",
       "    </tr>\n",
       "    <tr>\n",
       "      <th>18889</th>\n",
       "      <td>1933</td>\n",
       "      <td>1</td>\n",
       "      <td>18</td>\n",
       "      <td>NaN</td>\n",
       "      <td>38.0</td>\n",
       "      <td>NaN</td>\n",
       "      <td>3.3</td>\n",
       "    </tr>\n",
       "    <tr>\n",
       "      <th>18890</th>\n",
       "      <td>1933</td>\n",
       "      <td>1</td>\n",
       "      <td>19</td>\n",
       "      <td>NaN</td>\n",
       "      <td>34.0</td>\n",
       "      <td>NaN</td>\n",
       "      <td>1.1</td>\n",
       "    </tr>\n",
       "    <tr>\n",
       "      <th>18891</th>\n",
       "      <td>1933</td>\n",
       "      <td>1</td>\n",
       "      <td>20</td>\n",
       "      <td>NaN</td>\n",
       "      <td>44.0</td>\n",
       "      <td>NaN</td>\n",
       "      <td>6.7</td>\n",
       "    </tr>\n",
       "    <tr>\n",
       "      <th>18892</th>\n",
       "      <td>1933</td>\n",
       "      <td>1</td>\n",
       "      <td>21</td>\n",
       "      <td>NaN</td>\n",
       "      <td>47.0</td>\n",
       "      <td>NaN</td>\n",
       "      <td>8.3</td>\n",
       "    </tr>\n",
       "    <tr>\n",
       "      <th>18893</th>\n",
       "      <td>1933</td>\n",
       "      <td>1</td>\n",
       "      <td>22</td>\n",
       "      <td>NaN</td>\n",
       "      <td>40.0</td>\n",
       "      <td>NaN</td>\n",
       "      <td>4.4</td>\n",
       "    </tr>\n",
       "    <tr>\n",
       "      <th>18894</th>\n",
       "      <td>1933</td>\n",
       "      <td>1</td>\n",
       "      <td>23</td>\n",
       "      <td>NaN</td>\n",
       "      <td>41.0</td>\n",
       "      <td>NaN</td>\n",
       "      <td>5.0</td>\n",
       "    </tr>\n",
       "    <tr>\n",
       "      <th>18895</th>\n",
       "      <td>1933</td>\n",
       "      <td>1</td>\n",
       "      <td>24</td>\n",
       "      <td>NaN</td>\n",
       "      <td>40.0</td>\n",
       "      <td>NaN</td>\n",
       "      <td>4.4</td>\n",
       "    </tr>\n",
       "    <tr>\n",
       "      <th>18896</th>\n",
       "      <td>1933</td>\n",
       "      <td>1</td>\n",
       "      <td>25</td>\n",
       "      <td>NaN</td>\n",
       "      <td>31.0</td>\n",
       "      <td>NaN</td>\n",
       "      <td>-0.6</td>\n",
       "    </tr>\n",
       "    <tr>\n",
       "      <th>18897</th>\n",
       "      <td>1933</td>\n",
       "      <td>1</td>\n",
       "      <td>26</td>\n",
       "      <td>NaN</td>\n",
       "      <td>22.0</td>\n",
       "      <td>NaN</td>\n",
       "      <td>-5.6</td>\n",
       "    </tr>\n",
       "    <tr>\n",
       "      <th>18898</th>\n",
       "      <td>1933</td>\n",
       "      <td>1</td>\n",
       "      <td>27</td>\n",
       "      <td>NaN</td>\n",
       "      <td>24.0</td>\n",
       "      <td>NaN</td>\n",
       "      <td>-4.4</td>\n",
       "    </tr>\n",
       "    <tr>\n",
       "      <th>18899</th>\n",
       "      <td>1933</td>\n",
       "      <td>1</td>\n",
       "      <td>28</td>\n",
       "      <td>NaN</td>\n",
       "      <td>29.0</td>\n",
       "      <td>NaN</td>\n",
       "      <td>-1.7</td>\n",
       "    </tr>\n",
       "    <tr>\n",
       "      <th>18900</th>\n",
       "      <td>1933</td>\n",
       "      <td>1</td>\n",
       "      <td>29</td>\n",
       "      <td>NaN</td>\n",
       "      <td>31.0</td>\n",
       "      <td>NaN</td>\n",
       "      <td>-0.6</td>\n",
       "    </tr>\n",
       "    <tr>\n",
       "      <th>18901</th>\n",
       "      <td>1933</td>\n",
       "      <td>1</td>\n",
       "      <td>30</td>\n",
       "      <td>NaN</td>\n",
       "      <td>33.0</td>\n",
       "      <td>NaN</td>\n",
       "      <td>0.6</td>\n",
       "    </tr>\n",
       "    <tr>\n",
       "      <th>18902</th>\n",
       "      <td>1933</td>\n",
       "      <td>1</td>\n",
       "      <td>31</td>\n",
       "      <td>NaN</td>\n",
       "      <td>36.0</td>\n",
       "      <td>NaN</td>\n",
       "      <td>2.2</td>\n",
       "    </tr>\n",
       "  </tbody>\n",
       "</table>\n",
       "</div>"
      ],
      "text/plain": [
       "       Year  Month  Day  Max (F)  Min (F)  Max C)  Min (C)\n",
       "18872  1933      1    1      NaN     48.0     NaN      8.9\n",
       "18873  1933      1    2      NaN     51.0     NaN     10.6\n",
       "18874  1933      1    3      NaN     43.0     NaN      6.1\n",
       "18875  1933      1    4      NaN     44.0     NaN      6.7\n",
       "18876  1933      1    5      NaN     39.0     NaN      3.9\n",
       "18877  1933      1    6      NaN     43.0     NaN      6.1\n",
       "18878  1933      1    7      NaN     52.0     NaN     11.1\n",
       "18879  1933      1    8      NaN     52.0     NaN     11.1\n",
       "18880  1933      1    9      NaN     46.0     NaN      7.8\n",
       "18881  1933      1   10      NaN     47.0     NaN      8.3\n",
       "18882  1933      1   11      NaN     41.0     NaN      5.0\n",
       "18883  1933      1   12      NaN     40.0     NaN      4.4\n",
       "18884  1933      1   13      NaN     40.0     NaN      4.4\n",
       "18885  1933      1   14      NaN     47.0     NaN      8.3\n",
       "18886  1933      1   15      NaN     46.0     NaN      7.8\n",
       "18887  1933      1   16      NaN     35.0     NaN      1.7\n",
       "18888  1933      1   17      NaN     29.0     NaN     -1.7\n",
       "18889  1933      1   18      NaN     38.0     NaN      3.3\n",
       "18890  1933      1   19      NaN     34.0     NaN      1.1\n",
       "18891  1933      1   20      NaN     44.0     NaN      6.7\n",
       "18892  1933      1   21      NaN     47.0     NaN      8.3\n",
       "18893  1933      1   22      NaN     40.0     NaN      4.4\n",
       "18894  1933      1   23      NaN     41.0     NaN      5.0\n",
       "18895  1933      1   24      NaN     40.0     NaN      4.4\n",
       "18896  1933      1   25      NaN     31.0     NaN     -0.6\n",
       "18897  1933      1   26      NaN     22.0     NaN     -5.6\n",
       "18898  1933      1   27      NaN     24.0     NaN     -4.4\n",
       "18899  1933      1   28      NaN     29.0     NaN     -1.7\n",
       "18900  1933      1   29      NaN     31.0     NaN     -0.6\n",
       "18901  1933      1   30      NaN     33.0     NaN      0.6\n",
       "18902  1933      1   31      NaN     36.0     NaN      2.2"
      ]
     },
     "execution_count": 39,
     "metadata": {},
     "output_type": "execute_result"
    }
   ],
   "source": [
    "# Step 2\n",
    "year_group.get_group(1933)"
   ]
  },
  {
   "cell_type": "code",
   "execution_count": 40,
   "metadata": {},
   "outputs": [
    {
     "data": {
      "text/html": [
       "<div>\n",
       "<style scoped>\n",
       "    .dataframe tbody tr th:only-of-type {\n",
       "        vertical-align: middle;\n",
       "    }\n",
       "\n",
       "    .dataframe tbody tr th {\n",
       "        vertical-align: top;\n",
       "    }\n",
       "\n",
       "    .dataframe thead th {\n",
       "        text-align: right;\n",
       "    }\n",
       "</style>\n",
       "<table border=\"1\" class=\"dataframe\">\n",
       "  <thead>\n",
       "    <tr style=\"text-align: right;\">\n",
       "      <th></th>\n",
       "      <th>Year</th>\n",
       "      <th>Month</th>\n",
       "      <th>Day</th>\n",
       "      <th>Max (F)</th>\n",
       "      <th>Min (F)</th>\n",
       "      <th>Max C)</th>\n",
       "      <th>Min (C)</th>\n",
       "    </tr>\n",
       "  </thead>\n",
       "  <tbody>\n",
       "    <tr>\n",
       "      <th>18506</th>\n",
       "      <td>1932</td>\n",
       "      <td>1</td>\n",
       "      <td>1</td>\n",
       "      <td>57.0</td>\n",
       "      <td>34.0</td>\n",
       "      <td>13.9</td>\n",
       "      <td>1.1</td>\n",
       "    </tr>\n",
       "    <tr>\n",
       "      <th>18507</th>\n",
       "      <td>1932</td>\n",
       "      <td>1</td>\n",
       "      <td>2</td>\n",
       "      <td>59.0</td>\n",
       "      <td>50.0</td>\n",
       "      <td>15.0</td>\n",
       "      <td>10.0</td>\n",
       "    </tr>\n",
       "    <tr>\n",
       "      <th>18508</th>\n",
       "      <td>1932</td>\n",
       "      <td>1</td>\n",
       "      <td>3</td>\n",
       "      <td>62.0</td>\n",
       "      <td>53.0</td>\n",
       "      <td>16.7</td>\n",
       "      <td>11.7</td>\n",
       "    </tr>\n",
       "    <tr>\n",
       "      <th>18509</th>\n",
       "      <td>1932</td>\n",
       "      <td>1</td>\n",
       "      <td>4</td>\n",
       "      <td>55.0</td>\n",
       "      <td>51.0</td>\n",
       "      <td>12.8</td>\n",
       "      <td>10.6</td>\n",
       "    </tr>\n",
       "    <tr>\n",
       "      <th>18510</th>\n",
       "      <td>1932</td>\n",
       "      <td>1</td>\n",
       "      <td>5</td>\n",
       "      <td>55.0</td>\n",
       "      <td>47.0</td>\n",
       "      <td>12.8</td>\n",
       "      <td>8.3</td>\n",
       "    </tr>\n",
       "    <tr>\n",
       "      <th>...</th>\n",
       "      <td>...</td>\n",
       "      <td>...</td>\n",
       "      <td>...</td>\n",
       "      <td>...</td>\n",
       "      <td>...</td>\n",
       "      <td>...</td>\n",
       "      <td>...</td>\n",
       "    </tr>\n",
       "    <tr>\n",
       "      <th>18867</th>\n",
       "      <td>1932</td>\n",
       "      <td>12</td>\n",
       "      <td>27</td>\n",
       "      <td>59.0</td>\n",
       "      <td>46.0</td>\n",
       "      <td>15.0</td>\n",
       "      <td>7.8</td>\n",
       "    </tr>\n",
       "    <tr>\n",
       "      <th>18868</th>\n",
       "      <td>1932</td>\n",
       "      <td>12</td>\n",
       "      <td>28</td>\n",
       "      <td>62.0</td>\n",
       "      <td>36.0</td>\n",
       "      <td>16.7</td>\n",
       "      <td>2.2</td>\n",
       "    </tr>\n",
       "    <tr>\n",
       "      <th>18869</th>\n",
       "      <td>1932</td>\n",
       "      <td>12</td>\n",
       "      <td>29</td>\n",
       "      <td>56.0</td>\n",
       "      <td>45.0</td>\n",
       "      <td>13.3</td>\n",
       "      <td>7.2</td>\n",
       "    </tr>\n",
       "    <tr>\n",
       "      <th>18870</th>\n",
       "      <td>1932</td>\n",
       "      <td>12</td>\n",
       "      <td>30</td>\n",
       "      <td>59.0</td>\n",
       "      <td>35.0</td>\n",
       "      <td>15.0</td>\n",
       "      <td>1.7</td>\n",
       "    </tr>\n",
       "    <tr>\n",
       "      <th>18871</th>\n",
       "      <td>1932</td>\n",
       "      <td>12</td>\n",
       "      <td>31</td>\n",
       "      <td>54.0</td>\n",
       "      <td>35.0</td>\n",
       "      <td>12.2</td>\n",
       "      <td>1.7</td>\n",
       "    </tr>\n",
       "  </tbody>\n",
       "</table>\n",
       "<p>366 rows × 7 columns</p>\n",
       "</div>"
      ],
      "text/plain": [
       "       Year  Month  Day  Max (F)  Min (F)  Max C)  Min (C)\n",
       "18506  1932      1    1     57.0     34.0    13.9      1.1\n",
       "18507  1932      1    2     59.0     50.0    15.0     10.0\n",
       "18508  1932      1    3     62.0     53.0    16.7     11.7\n",
       "18509  1932      1    4     55.0     51.0    12.8     10.6\n",
       "18510  1932      1    5     55.0     47.0    12.8      8.3\n",
       "...     ...    ...  ...      ...      ...     ...      ...\n",
       "18867  1932     12   27     59.0     46.0    15.0      7.8\n",
       "18868  1932     12   28     62.0     36.0    16.7      2.2\n",
       "18869  1932     12   29     56.0     45.0    13.3      7.2\n",
       "18870  1932     12   30     59.0     35.0    15.0      1.7\n",
       "18871  1932     12   31     54.0     35.0    12.2      1.7\n",
       "\n",
       "[366 rows x 7 columns]"
      ]
     },
     "execution_count": 40,
     "metadata": {},
     "output_type": "execute_result"
    }
   ],
   "source": [
    "# Same as filter \n",
    "filt = kill_df['Year']== 1932\n",
    "kill_df.loc[filt]"
   ]
  },
  {
   "cell_type": "code",
   "execution_count": 41,
   "metadata": {},
   "outputs": [
    {
     "data": {
      "text/plain": [
       "Min (C)   -3.9\n",
       "dtype: float64"
      ]
     },
     "execution_count": 41,
     "metadata": {},
     "output_type": "execute_result"
    }
   ],
   "source": [
    "kill_df.loc[filt,['Min (C)']].min()"
   ]
  },
  {
   "cell_type": "code",
   "execution_count": 43,
   "metadata": {
    "scrolled": false
   },
   "outputs": [
    {
     "data": {
      "text/plain": [
       "Year\n",
       "1881    24.7\n",
       "1882    26.3\n",
       "1883    22.8\n",
       "1884    23.2\n",
       "1885    25.4\n",
       "1886    25.7\n",
       "1887    28.9\n",
       "1888    23.1\n",
       "1889    24.6\n",
       "1890    22.5\n",
       "1891    26.1\n",
       "1892    23.0\n",
       "1893    27.2\n",
       "1894    24.4\n",
       "1895    24.7\n",
       "1896    26.4\n",
       "1897    24.4\n",
       "1898    26.7\n",
       "1899     NaN\n",
       "1900     NaN\n",
       "1901     NaN\n",
       "1902     NaN\n",
       "1903     NaN\n",
       "1904     NaN\n",
       "1905     NaN\n",
       "1906     NaN\n",
       "1907     NaN\n",
       "1908     NaN\n",
       "1909     NaN\n",
       "1910     NaN\n",
       "1911     NaN\n",
       "1912     NaN\n",
       "1913     NaN\n",
       "1914     NaN\n",
       "1915     NaN\n",
       "1916     NaN\n",
       "1917     NaN\n",
       "1918     NaN\n",
       "1919     NaN\n",
       "1920    22.8\n",
       "1921    32.2\n",
       "1922    27.8\n",
       "1923    27.8\n",
       "1924    22.5\n",
       "1925    30.0\n",
       "1926    29.7\n",
       "1927    25.0\n",
       "1928    28.3\n",
       "1929    26.1\n",
       "1930    25.6\n",
       "1931    22.2\n",
       "1932    26.7\n",
       "1933     NaN\n",
       "Name: Max C), dtype: float64"
      ]
     },
     "execution_count": 43,
     "metadata": {},
     "output_type": "execute_result"
    }
   ],
   "source": [
    "# Step 3: Get the lowest temp for each year from 1881\n",
    "year_group['Max C)'].max()"
   ]
  },
  {
   "cell_type": "code",
   "execution_count": 45,
   "metadata": {},
   "outputs": [
    {
     "data": {
      "text/plain": [
       "Year\n",
       "1881    24.7\n",
       "1882    26.3\n",
       "1883    22.8\n",
       "1884    23.2\n",
       "1885    25.4\n",
       "1886    25.7\n",
       "1887    28.9\n",
       "1888    23.1\n",
       "1889    24.6\n",
       "1890    22.5\n",
       "1891    26.1\n",
       "1892    23.0\n",
       "1893    27.2\n",
       "1894    24.4\n",
       "1895    24.7\n",
       "1896    26.4\n",
       "1897    24.4\n",
       "1898    26.7\n",
       "1899     NaN\n",
       "1900     NaN\n",
       "1901     NaN\n",
       "1902     NaN\n",
       "1903     NaN\n",
       "1904     NaN\n",
       "1905     NaN\n",
       "1906     NaN\n",
       "1907     NaN\n",
       "1908     NaN\n",
       "1909     NaN\n",
       "1910     NaN\n",
       "1911     NaN\n",
       "1912     NaN\n",
       "1913     NaN\n",
       "1914     NaN\n",
       "1915     NaN\n",
       "1916     NaN\n",
       "1917     NaN\n",
       "1918     NaN\n",
       "1919     NaN\n",
       "1920    22.8\n",
       "1921    32.2\n",
       "1922    27.8\n",
       "1923    27.8\n",
       "1924    22.5\n",
       "1925    30.0\n",
       "1926    29.7\n",
       "1927    25.0\n",
       "1928    28.3\n",
       "1929    26.1\n",
       "1930    25.6\n",
       "1931    22.2\n",
       "1932    26.7\n",
       "1933     NaN\n",
       "Name: Max C), dtype: float64"
      ]
     },
     "execution_count": 45,
     "metadata": {},
     "output_type": "execute_result"
    }
   ],
   "source": [
    "year_group = kill_df.groupby(['Year'])\n",
    "year_group['M axC)'].max()"
   ]
  },
  {
   "cell_type": "markdown",
   "metadata": {},
   "source": [
    "# Widgets"
   ]
  },
  {
   "cell_type": "code",
   "execution_count": 46,
   "metadata": {},
   "outputs": [],
   "source": [
    "# The widgets library\n",
    "import ipywidgets as widgets\n",
    "from ipywidgets import interactive\n",
    "from ipywidgets import interact\n",
    "\n",
    "# Define a function\n",
    "def my_function(x):\n",
    "    return x**5"
   ]
  },
  {
   "cell_type": "code",
   "execution_count": 47,
   "metadata": {
    "scrolled": true
   },
   "outputs": [
    {
     "data": {
      "application/vnd.jupyter.widget-view+json": {
       "model_id": "ed9435d678924fe791098b1b33f64d16",
       "version_major": 2,
       "version_minor": 0
      },
      "text/plain": [
       "interactive(children=(IntSlider(value=10, description='x', max=30, min=-10), Output()), _dom_classes=('widget-…"
      ]
     },
     "metadata": {},
     "output_type": "display_data"
    }
   ],
   "source": [
    " #When you move the slider, the function is called, and its return value is printed.\n",
    "interact(my_function, x=10);"
   ]
  },
  {
   "cell_type": "code",
   "execution_count": 48,
   "metadata": {},
   "outputs": [
    {
     "data": {
      "application/vnd.jupyter.widget-view+json": {
       "model_id": "254af24063434838a1e3f5a9d7b76443",
       "version_major": 2,
       "version_minor": 0
      },
      "text/plain": [
       "SelectionSlider(continuous_update=False, description='I like sport', options=('Football', 'Hurling', 'F1', 'go…"
      ]
     },
     "metadata": {},
     "output_type": "display_data"
    }
   ],
   "source": [
    "#Another Widget\n",
    "widgets.SelectionSlider(\n",
    "    options = ['Football', 'Hurling', 'F1', 'golf','soccer'],\n",
    "    value='Football',\n",
    "    description='I like sport',\n",
    "    disabled=False,\n",
    "    continuous_update=False,\n",
    "    orientation='horizontal',\n",
    "    readout=True\n",
    ")"
   ]
  },
  {
   "cell_type": "code",
   "execution_count": 49,
   "metadata": {},
   "outputs": [
    {
     "data": {
      "application/vnd.jupyter.widget-view+json": {
       "model_id": "83fed2af0a164f79b6c5e61e81fc489d",
       "version_major": 2,
       "version_minor": 0
      },
      "text/plain": [
       "IntSlider(value=3, description='Slider:', max=10, step=2)"
      ]
     },
     "metadata": {},
     "output_type": "display_data"
    }
   ],
   "source": [
    "#Another Widget\n",
    "widgets.IntSlider(\n",
    "    min=0,\n",
    "    max=10,\n",
    "    step=2,\n",
    "    description='Slider:',\n",
    "    value=3\n",
    ")"
   ]
  },
  {
   "cell_type": "code",
   "execution_count": 50,
   "metadata": {},
   "outputs": [
    {
     "data": {
      "application/vnd.jupyter.widget-view+json": {
       "model_id": "172b552e527d44e49c8ca6163e010447",
       "version_major": 2,
       "version_minor": 0
      },
      "text/plain": [
       "interactive(children=(Dropdown(description='name', options=('Jim', 'Emma', 'Bond', 'Morgan'), value='Jim'), Ou…"
      ]
     },
     "metadata": {},
     "output_type": "display_data"
    }
   ],
   "source": [
    "#Create a combo box/drop down\n",
    "def say_my_name(name):\n",
    "    \"\"\"\n",
    "    Print the current widget value in short sentence\n",
    "    \"\"\"\n",
    "    print(f'My name is {name}')\n",
    "    return(name)\n",
    "\n",
    "     \n",
    "x = widgets.interact(say_my_name, name=[\"Jim\", \"Emma\", \"Bond\", \"Morgan\"] );\n"
   ]
  },
  {
   "cell_type": "markdown",
   "metadata": {},
   "source": [
    "## MAQ 2 - Daily Widget\n",
    "Create a widget that gives a list of days and when a day is selected it returns the day of the week number.\n",
    "\n",
    "\n",
    "\n",
    "#Add your answer here\n",
    "# The widgets library\n",
    "import ipywidgets as widgets\n",
    "from ipywidgets import interactive\n",
    "from ipywidgets import interact\n",
    "\n",
    "def day_of_week(day):\n",
    "    \"\"\"\n",
    "    Print the current widget value in short sentence\n",
    "    \"\"\"\n",
    "    if day == \"Mon\":\n",
    "        day_no = 1\n",
    "    elif day == \"Tue\":\n",
    "        day_no = 2\n",
    "    elif day == \"Wed\":\n",
    "        day_no = 3    \n",
    "    else:\n",
    "        day_no = 4    \n",
    "    \n",
    "    print(f'The day number is {day_no}')\n",
    "     \n",
    "widgets.interact(day_of_week, day=[\"Mon\", \"Tue\", \"Wed\",\"Thu\",\"Fri\",\"Sat\",\"Sun\"]);\n",
    "\n"
   ]
  },
  {
   "cell_type": "code",
   "execution_count": null,
   "metadata": {},
   "outputs": [],
   "source": [
    "# Add your answer here\n",
    "import ipywidgets as widgets \n",
    "from ipywidgets import interactive \n",
    "from ipywidgets import interact\n",
    "\n"
   ]
  },
  {
   "cell_type": "markdown",
   "metadata": {},
   "source": [
    "## Plotting with a widget"
   ]
  },
  {
   "cell_type": "code",
   "execution_count": 51,
   "metadata": {},
   "outputs": [
    {
     "data": {
      "application/vnd.jupyter.widget-view+json": {
       "model_id": "d4682385cf304648b0955b859c1ba83a",
       "version_major": 2,
       "version_minor": 0
      },
      "text/plain": [
       "interactive(children=(FloatSlider(value=0.0, description='m', max=2.0, min=-2.0), FloatSlider(value=0.0, descr…"
      ]
     },
     "metadata": {},
     "output_type": "display_data"
    }
   ],
   "source": [
    "%matplotlib inline\n",
    "from ipywidgets import interactive\n",
    "import matplotlib.pyplot as plt\n",
    "import numpy as np\n",
    "plt.style.use('Solarize_Light2')\n",
    "plt.rcParams['figure.figsize'] = [14, 7]\n",
    "\n",
    "def my_function(m, c):\n",
    "    plt.figure(2)\n",
    "    x = np.linspace(-10, 10, num=1000)\n",
    "    #plt.plot(x, m * x  + c)\n",
    "    plt.plot(x, m * x**2 + 1*x + c)\n",
    "    plt.ylim(-5, 5)\n",
    "    plt.show()\n",
    "\n",
    "interactive_plot = interactive(my_function, m=(-2.0, 2.0), c=(-3, 3, 0.5))\n",
    "output = interactive_plot.children[-1]\n",
    "output.layout.height = '450px'\n",
    "interactive_plot"
   ]
  },
  {
   "cell_type": "code",
   "execution_count": 52,
   "metadata": {},
   "outputs": [
    {
     "data": {
      "image/png": "[encoded data removed]",
      "text/plain": [
       "<Figure size 1008x504 with 1 Axes>"
      ]
     },
     "metadata": {},
     "output_type": "display_data"
    }
   ],
   "source": [
    "#\n",
    "x = np.linspace(0, 10, 100)\n",
    "\n",
    "plt.plot(x, np.sin(x)*2)\n",
    "plt.plot(x, np.cos(x))\n",
    "\n",
    "plt.show()"
   ]
  },
  {
   "cell_type": "code",
   "execution_count": 53,
   "metadata": {
    "scrolled": true
   },
   "outputs": [],
   "source": [
    " y_values= list(np.around(np.arange(-2.0, 2.2, +0.2),2))"
   ]
  },
  {
   "cell_type": "code",
   "execution_count": 54,
   "metadata": {},
   "outputs": [
    {
     "name": "stdout",
     "output_type": "stream",
     "text": [
      "[-2.0, -1.8, -1.6, -1.4, -1.2, -1.0, -0.8, -0.6, -0.4, -0.2, -0.0, 0.2, 0.4, 0.6, 0.8, 1.0, 1.2, 1.4, 1.6, 1.8, 2.0]\n"
     ]
    }
   ],
   "source": [
    "print( y_values)"
   ]
  },
  {
   "cell_type": "code",
   "execution_count": 55,
   "metadata": {
    "scrolled": true
   },
   "outputs": [
    {
     "data": {
      "application/vnd.jupyter.widget-view+json": {
       "model_id": "53ac6f8075a04c829c375c83e8dd5d02",
       "version_major": 2,
       "version_minor": 0
      },
      "text/plain": [
       "interactive(children=(IntSlider(value=2, description='w', max=4, min=1), FloatSlider(value=1.0, description='A…"
      ]
     },
     "metadata": {},
     "output_type": "display_data"
    }
   ],
   "source": [
    "# A Sine wave y= A*Sin(wt)\n",
    "import numpy as np\n",
    "import matplotlib.pyplot as plt\n",
    "from ipywidgets import interactive\n",
    "\n",
    "# Get x values of the sine wave\n",
    "time  = np.arange(0, 20, 0.1);\n",
    "\n",
    "def my_sine(w, A):\n",
    "# Amplitude of the sine wave is sine of a variable like time\n",
    "    amplitude   = np.sin(w*time)*A\n",
    "# Plot a sine wave using time and amplitude obtained for the sine wave\n",
    "    plt.plot(time, amplitude)\n",
    "# Give a title for the sine wave plot\n",
    "    plt.title('Sine wave')\n",
    "# Give x axis label for the sine wave plot\n",
    "    plt.xlabel('Time')\n",
    "    plt.yticks(( y_values))\n",
    "# Give y axis label for the sine wave plot\n",
    "\n",
    "    plt.ylabel('Amplitude = sin(time)')\n",
    "    plt.grid(True, which='both')\n",
    "    plt.axhline(y=0, color='k')\n",
    "    plt.show()\n",
    "# Display the sine wave\n",
    "interactive_plot = interactive(my_sine, w=(1, 4), A=(0,2,0.2))\n",
    "#output = interactive_plot.children[-1]\n",
    "output.layout.height = '350px'\n",
    "interactive_plot"
   ]
  },
  {
   "attachments": {
    "image.png": {
     "image/png": "[encoded data removed]"
    }
   },
   "cell_type": "markdown",
   "metadata": {},
   "source": [
    "![image.png](attachment:image.png)"
   ]
  },
  {
   "cell_type": "markdown",
   "metadata": {},
   "source": [
    "## MAQ3: Cubinism\n",
    "Using widgets plot a graph of a x cubed + c <br>\n",
    "y = $x^3 + c$"
   ]
  },
  {
   "cell_type": "code",
   "execution_count": 1,
   "metadata": {},
   "outputs": [],
   "source": [
    "#Put your answer here\n",
    "%matplotlib inline\n",
    "from ipywidgets import interactive\n",
    "import matplotlib.pyplot as plt\n",
    "import numpy as np\n",
    "plt.style.use('Solarize_Light2')\n",
    "plt.rcParams['figure.figsize'] = [14, 7]\n"
   ]
  },
  {
   "cell_type": "markdown",
   "metadata": {},
   "source": [
    "## EU Vaccine Data\n",
    "This is a quick look at Open Source data you can directly link to. In this case EU data portal ECDC."
   ]
  },
  {
   "cell_type": "code",
   "execution_count": 56,
   "metadata": {
    "scrolled": true
   },
   "outputs": [
    {
     "data": {
      "text/plain": [
       "Index(['YearWeekISO', 'Denominator', 'NumberDosesReceived',\n",
       "       'NumberDosesExported', 'FirstDose', 'FirstDoseRefused', 'SecondDose',\n",
       "       'DoseAdditional1', 'DoseAdditional2', 'UnknownDose', 'Region',\n",
       "       'TargetGroup', 'Vaccine', 'Population'],\n",
       "      dtype='object')"
      ]
     },
     "execution_count": 56,
     "metadata": {},
     "output_type": "execute_result"
    }
   ],
   "source": [
    "# Connect to the datasource\n",
    "import pandas as pd\n",
    "import numpy as np\n",
    "url = \"https://opendata.ecdc.europa.eu/covid19/vaccine_tracker/csv/data.csv\"\n",
    "# import into Pandas and set the index to Reporting Country\n",
    "df_vac = pd.read_csv(url, index_col = 'ReportingCountry')\n",
    "# print a list of columns\n",
    "df_vac.columns"
   ]
  },
  {
   "cell_type": "code",
   "execution_count": 57,
   "metadata": {},
   "outputs": [
    {
     "data": {
      "text/plain": [
       "(354542, 14)"
      ]
     },
     "execution_count": 57,
     "metadata": {},
     "output_type": "execute_result"
    }
   ],
   "source": [
    "# How many rows and columns\n",
    "df_vac.shape"
   ]
  },
  {
   "cell_type": "code",
   "execution_count": 59,
   "metadata": {},
   "outputs": [
    {
     "data": {
      "text/html": [
       "<div>\n",
       "<style scoped>\n",
       "    .dataframe tbody tr th:only-of-type {\n",
       "        vertical-align: middle;\n",
       "    }\n",
       "\n",
       "    .dataframe tbody tr th {\n",
       "        vertical-align: top;\n",
       "    }\n",
       "\n",
       "    .dataframe thead th {\n",
       "        text-align: right;\n",
       "    }\n",
       "</style>\n",
       "<table border=\"1\" class=\"dataframe\">\n",
       "  <thead>\n",
       "    <tr style=\"text-align: right;\">\n",
       "      <th></th>\n",
       "      <th>YearWeekISO</th>\n",
       "      <th>Denominator</th>\n",
       "      <th>NumberDosesReceived</th>\n",
       "      <th>NumberDosesExported</th>\n",
       "      <th>FirstDose</th>\n",
       "      <th>FirstDoseRefused</th>\n",
       "      <th>SecondDose</th>\n",
       "      <th>DoseAdditional1</th>\n",
       "      <th>DoseAdditional2</th>\n",
       "      <th>UnknownDose</th>\n",
       "      <th>Region</th>\n",
       "      <th>TargetGroup</th>\n",
       "      <th>Vaccine</th>\n",
       "      <th>Population</th>\n",
       "    </tr>\n",
       "    <tr>\n",
       "      <th>ReportingCountry</th>\n",
       "      <th></th>\n",
       "      <th></th>\n",
       "      <th></th>\n",
       "      <th></th>\n",
       "      <th></th>\n",
       "      <th></th>\n",
       "      <th></th>\n",
       "      <th></th>\n",
       "      <th></th>\n",
       "      <th></th>\n",
       "      <th></th>\n",
       "      <th></th>\n",
       "      <th></th>\n",
       "      <th></th>\n",
       "    </tr>\n",
       "  </thead>\n",
       "  <tbody>\n",
       "    <tr>\n",
       "      <th>SK</th>\n",
       "      <td>2022-W28</td>\n",
       "      <td>2055643.0</td>\n",
       "      <td>0.0</td>\n",
       "      <td>0.0</td>\n",
       "      <td>1</td>\n",
       "      <td>NaN</td>\n",
       "      <td>0</td>\n",
       "      <td>0</td>\n",
       "      <td>0</td>\n",
       "      <td>0</td>\n",
       "      <td>SK</td>\n",
       "      <td>Age25_49</td>\n",
       "      <td>JANSS</td>\n",
       "      <td>5459781</td>\n",
       "    </tr>\n",
       "    <tr>\n",
       "      <th>SK</th>\n",
       "      <td>2022-W28</td>\n",
       "      <td>2055643.0</td>\n",
       "      <td>0.0</td>\n",
       "      <td>0.0</td>\n",
       "      <td>0</td>\n",
       "      <td>NaN</td>\n",
       "      <td>0</td>\n",
       "      <td>8</td>\n",
       "      <td>0</td>\n",
       "      <td>0</td>\n",
       "      <td>SK</td>\n",
       "      <td>Age25_49</td>\n",
       "      <td>MOD</td>\n",
       "      <td>5459781</td>\n",
       "    </tr>\n",
       "    <tr>\n",
       "      <th>SK</th>\n",
       "      <td>2022-W28</td>\n",
       "      <td>701757.0</td>\n",
       "      <td>0.0</td>\n",
       "      <td>0.0</td>\n",
       "      <td>3</td>\n",
       "      <td>NaN</td>\n",
       "      <td>0</td>\n",
       "      <td>10</td>\n",
       "      <td>3</td>\n",
       "      <td>0</td>\n",
       "      <td>SK</td>\n",
       "      <td>Age50_59</td>\n",
       "      <td>COM</td>\n",
       "      <td>5459781</td>\n",
       "    </tr>\n",
       "    <tr>\n",
       "      <th>SK</th>\n",
       "      <td>2022-W28</td>\n",
       "      <td>701757.0</td>\n",
       "      <td>0.0</td>\n",
       "      <td>0.0</td>\n",
       "      <td>1</td>\n",
       "      <td>NaN</td>\n",
       "      <td>0</td>\n",
       "      <td>0</td>\n",
       "      <td>1</td>\n",
       "      <td>0</td>\n",
       "      <td>SK</td>\n",
       "      <td>Age50_59</td>\n",
       "      <td>NVXD</td>\n",
       "      <td>5459781</td>\n",
       "    </tr>\n",
       "    <tr>\n",
       "      <th>SK</th>\n",
       "      <td>2022-W28</td>\n",
       "      <td>289995.0</td>\n",
       "      <td>0.0</td>\n",
       "      <td>0.0</td>\n",
       "      <td>2</td>\n",
       "      <td>NaN</td>\n",
       "      <td>1</td>\n",
       "      <td>0</td>\n",
       "      <td>0</td>\n",
       "      <td>0</td>\n",
       "      <td>SK</td>\n",
       "      <td>Age5_9</td>\n",
       "      <td>COM</td>\n",
       "      <td>5459781</td>\n",
       "    </tr>\n",
       "    <tr>\n",
       "      <th>SK</th>\n",
       "      <td>2022-W28</td>\n",
       "      <td>688658.0</td>\n",
       "      <td>0.0</td>\n",
       "      <td>0.0</td>\n",
       "      <td>0</td>\n",
       "      <td>NaN</td>\n",
       "      <td>1</td>\n",
       "      <td>2</td>\n",
       "      <td>7</td>\n",
       "      <td>0</td>\n",
       "      <td>SK</td>\n",
       "      <td>Age60_69</td>\n",
       "      <td>COM</td>\n",
       "      <td>5459781</td>\n",
       "    </tr>\n",
       "    <tr>\n",
       "      <th>SK</th>\n",
       "      <td>2022-W28</td>\n",
       "      <td>688658.0</td>\n",
       "      <td>0.0</td>\n",
       "      <td>0.0</td>\n",
       "      <td>0</td>\n",
       "      <td>NaN</td>\n",
       "      <td>0</td>\n",
       "      <td>1</td>\n",
       "      <td>0</td>\n",
       "      <td>0</td>\n",
       "      <td>SK</td>\n",
       "      <td>Age60_69</td>\n",
       "      <td>MOD</td>\n",
       "      <td>5459781</td>\n",
       "    </tr>\n",
       "    <tr>\n",
       "      <th>SK</th>\n",
       "      <td>2022-W28</td>\n",
       "      <td>407927.0</td>\n",
       "      <td>0.0</td>\n",
       "      <td>0.0</td>\n",
       "      <td>1</td>\n",
       "      <td>NaN</td>\n",
       "      <td>2</td>\n",
       "      <td>3</td>\n",
       "      <td>12</td>\n",
       "      <td>0</td>\n",
       "      <td>SK</td>\n",
       "      <td>Age70_79</td>\n",
       "      <td>COM</td>\n",
       "      <td>5459781</td>\n",
       "    </tr>\n",
       "    <tr>\n",
       "      <th>SK</th>\n",
       "      <td>2022-W28</td>\n",
       "      <td>189121.0</td>\n",
       "      <td>0.0</td>\n",
       "      <td>0.0</td>\n",
       "      <td>0</td>\n",
       "      <td>NaN</td>\n",
       "      <td>0</td>\n",
       "      <td>1</td>\n",
       "      <td>0</td>\n",
       "      <td>0</td>\n",
       "      <td>SK</td>\n",
       "      <td>Age80+</td>\n",
       "      <td>MOD</td>\n",
       "      <td>5459781</td>\n",
       "    </tr>\n",
       "    <tr>\n",
       "      <th>SK</th>\n",
       "      <td>2022-W28</td>\n",
       "      <td>189121.0</td>\n",
       "      <td>0.0</td>\n",
       "      <td>0.0</td>\n",
       "      <td>0</td>\n",
       "      <td>NaN</td>\n",
       "      <td>0</td>\n",
       "      <td>0</td>\n",
       "      <td>3</td>\n",
       "      <td>0</td>\n",
       "      <td>SK</td>\n",
       "      <td>Age80+</td>\n",
       "      <td>COM</td>\n",
       "      <td>5459781</td>\n",
       "    </tr>\n",
       "  </tbody>\n",
       "</table>\n",
       "</div>"
      ],
      "text/plain": [
       "                 YearWeekISO  Denominator  NumberDosesReceived  \\\n",
       "ReportingCountry                                                 \n",
       "SK                  2022-W28    2055643.0                  0.0   \n",
       "SK                  2022-W28    2055643.0                  0.0   \n",
       "SK                  2022-W28     701757.0                  0.0   \n",
       "SK                  2022-W28     701757.0                  0.0   \n",
       "SK                  2022-W28     289995.0                  0.0   \n",
       "SK                  2022-W28     688658.0                  0.0   \n",
       "SK                  2022-W28     688658.0                  0.0   \n",
       "SK                  2022-W28     407927.0                  0.0   \n",
       "SK                  2022-W28     189121.0                  0.0   \n",
       "SK                  2022-W28     189121.0                  0.0   \n",
       "\n",
       "                  NumberDosesExported  FirstDose  FirstDoseRefused  \\\n",
       "ReportingCountry                                                     \n",
       "SK                                0.0          1               NaN   \n",
       "SK                                0.0          0               NaN   \n",
       "SK                                0.0          3               NaN   \n",
       "SK                                0.0          1               NaN   \n",
       "SK                                0.0          2               NaN   \n",
       "SK                                0.0          0               NaN   \n",
       "SK                                0.0          0               NaN   \n",
       "SK                                0.0          1               NaN   \n",
       "SK                                0.0          0               NaN   \n",
       "SK                                0.0          0               NaN   \n",
       "\n",
       "                  SecondDose  DoseAdditional1  DoseAdditional2  UnknownDose  \\\n",
       "ReportingCountry                                                              \n",
       "SK                         0                0                0            0   \n",
       "SK                         0                8                0            0   \n",
       "SK                         0               10                3            0   \n",
       "SK                         0                0                1            0   \n",
       "SK                         1                0                0            0   \n",
       "SK                         1                2                7            0   \n",
       "SK                         0                1                0            0   \n",
       "SK                         2                3               12            0   \n",
       "SK                         0                1                0            0   \n",
       "SK                         0                0                3            0   \n",
       "\n",
       "                 Region TargetGroup Vaccine  Population  \n",
       "ReportingCountry                                         \n",
       "SK                   SK    Age25_49   JANSS     5459781  \n",
       "SK                   SK    Age25_49     MOD     5459781  \n",
       "SK                   SK    Age50_59     COM     5459781  \n",
       "SK                   SK    Age50_59    NVXD     5459781  \n",
       "SK                   SK      Age5_9     COM     5459781  \n",
       "SK                   SK    Age60_69     COM     5459781  \n",
       "SK                   SK    Age60_69     MOD     5459781  \n",
       "SK                   SK    Age70_79     COM     5459781  \n",
       "SK                   SK      Age80+     MOD     5459781  \n",
       "SK                   SK      Age80+     COM     5459781  "
      ]
     },
     "execution_count": 59,
     "metadata": {},
     "output_type": "execute_result"
    }
   ],
   "source": [
    "# Look at 100 rows\n",
    "df_vac.tail(10)"
   ]
  },
  {
   "cell_type": "code",
   "execution_count": null,
   "metadata": {},
   "outputs": [],
   "source": [
    "# How many rows and columns\n",
    "vac_rec = df_vac.groupby(\"ReportingCountry\")[\"NumberDosesReceived\"].sum()"
   ]
  },
  {
   "cell_type": "code",
   "execution_count": null,
   "metadata": {},
   "outputs": [],
   "source": [
    "# print dataframe\n",
    "vac_rec"
   ]
  },
  {
   "cell_type": "code",
   "execution_count": null,
   "metadata": {},
   "outputs": [],
   "source": [
    "# Import Widgets and use a widget to filter the information\n",
    "import ipywidgets as widgets\n",
    "from ipywidgets import interactive\n",
    "from ipywidgets import interact\n",
    "\n",
    "#function to filter data for one country\n",
    "def filter_by_country(country):\n",
    "    filt = df_vac.index == country\n",
    "    new_df_vac =df_vac.loc[filt,['YearWeekISO','NumberDosesReceived','Vaccine']] \n",
    "    return new_df_vac\n",
    "    "
   ]
  },
  {
   "cell_type": "code",
   "execution_count": null,
   "metadata": {},
   "outputs": [],
   "source": [
    "# Get a list of unique countries\n",
    "country_list = list(df_vac.index.unique())\n",
    "\n",
    "#print(country_list)\n",
    "# Use widgets to interact with the list of countries\n",
    "widgets.interact(filter_by_country, country = country_list);\n",
    "\n",
    "#filter_by_country(country)"
   ]
  },
  {
   "cell_type": "code",
   "execution_count": null,
   "metadata": {},
   "outputs": [],
   "source": [
    "df_vac"
   ]
  },
  {
   "cell_type": "code",
   "execution_count": null,
   "metadata": {},
   "outputs": [],
   "source": [
    "new_df_vac = filter_by_country(\"IE\")\n",
    "\n",
    "\n",
    "vac_rec_IE = new_df_vac.groupby(['ReportingCountry','Vaccine'])[\"NumberDosesReceived\"].sum()"
   ]
  },
  {
   "cell_type": "code",
   "execution_count": null,
   "metadata": {},
   "outputs": [],
   "source": [
    "vac_rec_IE"
   ]
  },
  {
   "cell_type": "code",
   "execution_count": null,
   "metadata": {},
   "outputs": [],
   "source": [
    "vac_rec = df_vac.groupby(['ReportingCountry','Vaccine'])[\"NumberDosesReceived\"].sum()"
   ]
  },
  {
   "cell_type": "code",
   "execution_count": null,
   "metadata": {},
   "outputs": [],
   "source": [
    "vac_rec.tail(70)"
   ]
  },
  {
   "cell_type": "code",
   "execution_count": null,
   "metadata": {
    "scrolled": true
   },
   "outputs": [],
   "source": [
    "#Interaactive filter by Country\n",
    "def filter_by_country(country):\n",
    "    filt = df_vac.index == country\n",
    "    new_df_vac =df_vac.loc[filt,['YearWeekISO','NumberDosesReceived','Vaccine']] \n",
    "    return new_df_vac"
   ]
  },
  {
   "cell_type": "code",
   "execution_count": null,
   "metadata": {},
   "outputs": [],
   "source": [
    "# Get a list of unique countries\n",
    "new_df_vac = filter_by_country(\"IE\")\n",
    "# filter \n",
    "filt = new_df_vac['YearWeekISO']== '2021-W47'\n",
    "ans_df = new_df_vac.loc[filt]\n",
    "ans_df.head(55)"
   ]
  },
  {
   "cell_type": "markdown",
   "metadata": {},
   "source": [
    "## SAQ 4: Slippery Question!\n",
    "Inport the data for Dublin Airport and plot the December Rainfall from 1951 to 1981 in 5 year intervals"
   ]
  },
  {
   "cell_type": "code",
   "execution_count": null,
   "metadata": {},
   "outputs": [],
   "source": [
    "# load a new set of data for Blaksod # No need for a directory path if in the same directory, index_col = 'Year'\n",
    "df = pd.read_csv(\"/Users/morgan/Documents/Courses/Python/MyModules/DublinAirportClean.csv\",index_col = 'Year')"
   ]
  },
  {
   "cell_type": "markdown",
   "metadata": {},
   "source": [
    "**Phew!** <div>\n",
    "<img src=\"images/the_end.png\" alt=\"The End\" width=\"300\" align=\"center\"/></div>"
   ]
  }
 ],
 "metadata": {
  "hide_input": false,
  "kernelspec": {
   "display_name": "Python 3 (ipykernel)",
   "language": "python",
   "name": "python3"
  },
  "language_info": {
   "codemirror_mode": {
    "name": "ipython",
    "version": 3
   },
   "file_extension": ".py",
   "mimetype": "text/x-python",
   "name": "python",
   "nbconvert_exporter": "python",
   "pygments_lexer": "ipython3",
   "version": "3.9.12"
  },
  "toc": {
   "base_numbering": 1,
   "nav_menu": {},
   "number_sections": true,
   "sideBar": true,
   "skip_h1_title": false,
   "title_cell": "Table of Contents",
   "title_sidebar": "Contents",
   "toc_cell": false,
   "toc_position": {
    "height": "calc(100% - 180px)",
    "left": "10px",
    "top": "150px",
    "width": "287.390625px"
   },
   "toc_section_display": true,
   "toc_window_display": false
  },
  "varInspector": {
   "cols": {
    "lenName": 16,
    "lenType": 16,
    "lenVar": 40
   },
   "kernels_config": {
    "python": {
     "delete_cmd_postfix": "",
     "delete_cmd_prefix": "del ",
     "library": "var_list.py",
     "varRefreshCmd": "print(var_dic_list())"
    },
    "r": {
     "delete_cmd_postfix": ") ",
     "delete_cmd_prefix": "rm(",
     "library": "var_list.r",
     "varRefreshCmd": "cat(var_dic_list()) "
    }
   },
   "types_to_exclude": [
    "module",
    "function",
    "builtin_function_or_method",
    "instance",
    "_Feature"
   ],
   "window_display": false
  }
 },
 "nbformat": 4,
 "nbformat_minor": 4
}
