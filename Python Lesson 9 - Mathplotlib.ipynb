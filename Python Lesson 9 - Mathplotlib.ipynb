{
 "cells": [
  {
   "cell_type": "markdown",
   "metadata": {
    "deletable": false
   },
   "source": [
    "version 2.3 © Morgan McKnight"
   ]
  },
  {
   "cell_type": "markdown",
   "metadata": {},
   "source": [
    "# Python - Lesson 9 Mathplotlib (Part a)\n",
    "https://matplotlib.org/\n",
    "<blockquote>In this lesson we will learn how to use the library matplotlib to plot graphs</blockquote>\n",
    "<blockquote>\"What do the peaks in this graph represent?</blockquote>\n",
    " <img src=\"images/facebook.png\" alt=\"If\" width = \"800px\">\n",
    "\n"
   ]
  },
  {
   "cell_type": "markdown",
   "metadata": {},
   "source": [
    "## A Simple Plot\n",
    "We wish to plot the salaries of developers versus their age."
   ]
  },
  {
   "cell_type": "code",
   "execution_count": null,
   "metadata": {
    "scrolled": true
   },
   "outputs": [],
   "source": [
    "# import the library\n",
    "# import mathplotlib\n",
    "from matplotlib import pyplot as plt"
   ]
  },
  {
   "cell_type": "code",
   "execution_count": null,
   "metadata": {},
   "outputs": [],
   "source": [
    "# Get the x and y values. \n",
    "\n",
    "# Developer ages (x-axis)\n",
    "dev_x = [25, 26, 27, 28, 29, 30, 31, 32, 33, 34, 35]\n",
    "\n",
    "# Developer wages (y-axis) median\n",
    "dev_y = [38496, 42000, 46752, 49320, 53200,\n",
    "         56000, 62316, 64928, 67317, 68748, 73752]"
   ]
  },
  {
   "cell_type": "code",
   "execution_count": null,
   "metadata": {
    "scrolled": true
   },
   "outputs": [],
   "source": [
    "#Simple Plot\n",
    "plt.plot(dev_x, dev_y)"
   ]
  },
  {
   "cell_type": "markdown",
   "metadata": {},
   "source": [
    "Improve the graph by adding title and label."
   ]
  },
  {
   "cell_type": "code",
   "execution_count": null,
   "metadata": {},
   "outputs": [],
   "source": [
    "plt.title('Median Salary(€)', size = 15)\n",
    "plt.xlabel('Developer Ages')\n",
    "plt.ylabel('Median Salary')\n",
    "#Plot the graph\n",
    "plt.plot(dev_x, dev_y)"
   ]
  },
  {
   "cell_type": "markdown",
   "metadata": {},
   "source": [
    "Now we look at the salaries of Python only developers."
   ]
  },
  {
   "cell_type": "code",
   "execution_count": null,
   "metadata": {},
   "outputs": [],
   "source": [
    "# Median Python Developer Salaries by Age\n",
    "py_dev_x = [25, 26, 27, 28, 29, 30, 31, 32, 33, 34, 35]\n",
    "py_dev_y = [45372, 48876, 53850, 57287, 63016,\n",
    "            65998, 70003, 70000, 71496, 75370, 83640]"
   ]
  },
  {
   "cell_type": "code",
   "execution_count": null,
   "metadata": {
    "scrolled": true
   },
   "outputs": [],
   "source": [
    "plt.bar(py_dev_x,py_dev_y)"
   ]
  },
  {
   "cell_type": "markdown",
   "metadata": {},
   "source": [
    "Compare the two sets of data in the same graph."
   ]
  },
  {
   "cell_type": "code",
   "execution_count": null,
   "metadata": {},
   "outputs": [],
   "source": [
    "# Plot two sets of data on the one graph\n",
    "plt.plot(dev_x, dev_y)\n",
    "plt.plot(dev_x, py_dev_y)\n",
    "\n",
    "#Titles etc.\n",
    "plt.title('Median Salary(€)')\n",
    "plt.xlabel('Developer Ages')\n",
    "plt.ylabel('Average Salary')\n",
    "plt.legend()"
   ]
  },
  {
   "cell_type": "code",
   "execution_count": null,
   "metadata": {},
   "outputs": [],
   "source": [
    "# Plot two sets of data on the one graph with labels\n",
    "plt.plot(dev_x, dev_y, label = 'All Devs')\n",
    "plt.plot(dev_x, py_dev_y, label = 'Python Devs')\n",
    "plt.title('Median Salary(€)')\n",
    "plt.xlabel('Developer Ages')\n",
    "plt.ylabel('Average Salary')\n",
    "plt.legend()"
   ]
  },
  {
   "cell_type": "markdown",
   "metadata": {},
   "source": [
    "Plot types and styling."
   ]
  },
  {
   "cell_type": "code",
   "execution_count": null,
   "metadata": {
    "scrolled": false
   },
   "outputs": [],
   "source": [
    "# Setting Plot types and configuration\n",
    "plt.bar(dev_x, dev_y, color = 'g',  label = 'All Devs')\n",
    "plt.plot(dev_x, py_dev_y, linestyle ='--', color = 'b', label = 'Python Devs') # dashed line red\n",
    "plt.title('Median Salary(€)')\n",
    "plt.xlabel('Developer Ages')\n",
    "plt.ylabel('Average Salary')\n",
    "# Legend Position\n",
    "plt.legend(loc=\"upper left\")\n",
    "\n",
    "plt.savefig('images/developers.jpeg')"
   ]
  },
  {
   "cell_type": "markdown",
   "metadata": {},
   "source": [
    "## MAQ 1: Waxing Hot and Cold\n",
    "The following lists have the temperature values taken from the Phoenix Park weather station in 2019. Plot the three lists on a line graph. using plt.plot(...). Try the same using bar graphs-what is the problem?\n",
    "\n",
    "```python\n",
    "month =  [\"Jan\", \"Feb\", \"Mar\", \"Apr\", \"May\", \"June\", \"July\", \"Aug\", \"Sept\", \"Oct\", \"Nov\", \"Dec\"]\n",
    "mean_temp  = [5.7,7.7,7.9,8.7,11.4,13.3,16.8,16.2,13.7,9.8,6.6,6.3]\n",
    "max_temp  = [11.5,16.6,17.7,22.1,21.7,24.1,26.6,23.4,22.1,17.1,14,14.2]\n",
    "min_temp = [-3.9,-3,1.2,0.2,0.5,3.8,6.9,7.8,5.1,-1.1,1.7,-1.9]\n",
    "\n",
    "```\n",
    "\n",
    "# Add your answer here"
   ]
  },
  {
   "cell_type": "code",
   "execution_count": null,
   "metadata": {},
   "outputs": [],
   "source": [
    "# Add your Answer Here\n",
    "\n",
    "month =  [\"Jan\", \"Feb\", \"Mar\", \"Apr\", \"May\", \"June\", \"July\", \"Aug\", \"Sept\", \"Oct\", \"Nov\", \"Dec\"]\n",
    "mean_temp  = [5.7,7.7,7.9,8.7,11.4,13.3,16.8,16.2,13.7,9.8,6.6,6.3]\n",
    "max_temp  = [11.5,16.6,17.7,22.1,21.7,24.1,26.6,23.4,22.1,17.1,14,14.2]\n",
    "min_temp = [-3.9,-3,1.2,0.2,0.5,3.8,6.9,7.8,5.1,-1.1,1.7,-1.9]\n",
    "# ...continue"
   ]
  },
  {
   "cell_type": "markdown",
   "metadata": {},
   "source": [
    "## Styling and Saving\n",
    "In this section we will see how to use different styles and layouts with your graphs and how to save graphs as images."
   ]
  },
  {
   "cell_type": "code",
   "execution_count": null,
   "metadata": {
    "scrolled": false
   },
   "outputs": [],
   "source": [
    "print(plt.style.available)"
   ]
  },
  {
   "cell_type": "code",
   "execution_count": null,
   "metadata": {},
   "outputs": [],
   "source": [
    "plt.style.use('Solarize_Light2')"
   ]
  },
  {
   "cell_type": "code",
   "execution_count": null,
   "metadata": {},
   "outputs": [],
   "source": [
    "# Add your answer here\n",
    "from matplotlib import pyplot as plt\n",
    "# plt.style.use('Solarize_Light2')\n",
    "import numpy as np\n",
    "plt.rcParams['figure.figsize'] = [10, 6]\n",
    "\n",
    "month =  [\"Jan\", \"Feb\", \"Mar\", \"Apr\", \"May\", \"June\", \"July\", \n",
    "          \"Aug\", \"Sept\", \"Oct\", \"Nov\", \"Dec\"]\n",
    "mean_temp  = [5.7,7.7,7.9,8.7,11.4,13.3,16.8,16.2,13.7,9.8,6.6,6.3]\n",
    "max_temp  = [11.5,16.6,17.7,22.1,21.7,24.1,26.6,23.4,22.1,17.1,14,14.2]\n",
    "min_temp = [-3.9,-3,1.2,0.2,0.5,3.8,6.9,7.8,5.1,-1.1,1.7,-1.9]\n",
    "\n",
    "x_indices = np.arange(len(month))\n",
    "width = 0.25\n",
    "plt.style.use('seaborn-white')\n",
    "\n",
    "plt.bar(x_indices - width, max_temp, width = width, label = 'Maximum Temp')\n",
    "plt.bar(x_indices ,  mean_temp, width = width,  label = 'Mean Temp')\n",
    "plt.bar(x_indices + width, min_temp, width = width, label = 'Minimum Temp')\n",
    "\n",
    "\n",
    "plt.title('Temp Phonex Park 2019')\n",
    "plt.xlabel('Month')\n",
    "plt.ylabel('Tempreture')\n",
    "plt.grid(True)\n",
    "plt.legend()\n",
    "plt.savefig('developers.jpg')"
   ]
  },
  {
   "cell_type": "markdown",
   "metadata": {},
   "source": [
    "**Note:**\n",
    "How to save a figure in Jupyter Notebooks.\n",
    "\n",
    "<code>plt.savefig('developers.png')</code>"
   ]
  },
  {
   "cell_type": "code",
   "execution_count": null,
   "metadata": {},
   "outputs": [],
   "source": [
    "# plt.savefig('developers.jpg')"
   ]
  },
  {
   "cell_type": "markdown",
   "metadata": {},
   "source": [
    "## Pandas and Mathplotlib\n",
    "For this excercise you will need to install a library called Folium.\n",
    "\n",
    "<code>$ pip install folium</code>\n",
    "\n",
    "<code>$ conda install folium -c conda-forge</code>\n",
    "\n",
    "\n",
    "\n"
   ]
  },
  {
   "cell_type": "code",
   "execution_count": null,
   "metadata": {},
   "outputs": [],
   "source": [
    "# pip install folium"
   ]
  },
  {
   "cell_type": "code",
   "execution_count": null,
   "metadata": {},
   "outputs": [],
   "source": [
    "# import the list of stations (again)\n",
    "import pandas as pd\n",
    "df = pd.read_csv(\"data/StationDetails.csv\")\n",
    "df.head(3)"
   ]
  },
  {
   "cell_type": "code",
   "execution_count": null,
   "metadata": {},
   "outputs": [],
   "source": [
    "filt = (df['County']=='Offaly') & (df['Height (m)']< 500)"
   ]
  },
  {
   "cell_type": "code",
   "execution_count": null,
   "metadata": {
    "scrolled": true
   },
   "outputs": [],
   "source": [
    "df = df[filt]"
   ]
  },
  {
   "cell_type": "code",
   "execution_count": null,
   "metadata": {},
   "outputs": [],
   "source": [
    "df.columns"
   ]
  },
  {
   "cell_type": "code",
   "execution_count": null,
   "metadata": {},
   "outputs": [],
   "source": [
    "df"
   ]
  },
  {
   "cell_type": "code",
   "execution_count": null,
   "metadata": {},
   "outputs": [],
   "source": [
    "location=[df.iloc[3]['Latitude'], df.iloc[3]['Longitude']]\n",
    "print(location)"
   ]
  },
  {
   "cell_type": "markdown",
   "metadata": {},
   "source": [
    "In order to map your data you will have to install an external library called Folium. You can install the library from terminal using **pip install folium** or you can install it from Juypter Notebooks using **!pip install folium**"
   ]
  },
  {
   "cell_type": "code",
   "execution_count": null,
   "metadata": {},
   "outputs": [],
   "source": [
    "# !pip install folium"
   ]
  },
  {
   "cell_type": "code",
   "execution_count": null,
   "metadata": {},
   "outputs": [],
   "source": [
    "#Ireland Map\n",
    "import folium\n",
    "\n",
    "ireland_map = folium.Map(\n",
    "    location=[53.43333, -7.95],\n",
    "    tiles='Stamen Terrain',\n",
    "    zoom_start=6,\n",
    "    width=600,\n",
    "    height=700\n",
    ")"
   ]
  },
  {
   "cell_type": "code",
   "execution_count": null,
   "metadata": {},
   "outputs": [],
   "source": [
    "ireland_map"
   ]
  },
  {
   "cell_type": "code",
   "execution_count": null,
   "metadata": {},
   "outputs": [],
   "source": [
    "print(len(df))"
   ]
  },
  {
   "cell_type": "code",
   "execution_count": null,
   "metadata": {},
   "outputs": [],
   "source": [
    "for i in range(0,len(df)):\n",
    "    folium.Marker(\n",
    "    location=[df.iloc[i]['Latitude'], df.iloc[i]['Longitude']]\n",
    "    ).add_to(ireland_map)\n"
   ]
  },
  {
   "cell_type": "code",
   "execution_count": null,
   "metadata": {
    "scrolled": true
   },
   "outputs": [],
   "source": [
    "#Call map\n",
    "ireland_map"
   ]
  },
  {
   "cell_type": "code",
   "execution_count": null,
   "metadata": {},
   "outputs": [],
   "source": [
    "for i in range(0,len(df)):\n",
    "    height = str(df.iloc[i]['Height (m)'])\n",
    "    folium.Marker(\n",
    "    location=[df.iloc[i]['Latitude'], df.iloc[i]['Longitude']],\n",
    "    \n",
    "    tooltip = \"<div style='margin: 1; background-color: yellow; color: black;'>\"+\n",
    "                    \"<h5 style='text-align:center;font-weight: normal'>\"+ height + \"</h5>\"+\n",
    "         \"<h5 style='text-align:center;font-weight: bold'>\"+df.iloc[i]['name'] + \"</h5>\"+\n",
    "        \"<h5 style='text-align:center;font-weight: bold'>\"+ str(df.iloc[i]['Open Year']) + \"</h5>\"\n",
    "        \"</div>\",\n",
    "   ).add_to(ireland_map)     \n",
    "        "
   ]
  },
  {
   "cell_type": "code",
   "execution_count": null,
   "metadata": {},
   "outputs": [],
   "source": [
    "#Call map\n",
    "ireland_map"
   ]
  },
  {
   "cell_type": "markdown",
   "metadata": {},
   "source": [
    "## SAQ 2: Where is the Weather\n",
    "Map the stations in your favorite county and add more tooltips than above."
   ]
  },
  {
   "cell_type": "code",
   "execution_count": null,
   "metadata": {},
   "outputs": [],
   "source": [
    "# Add your answer here..."
   ]
  },
  {
   "cell_type": "markdown",
   "metadata": {},
   "source": [
    "## SAQ 3: Irish Attractions\n",
    "Download the CSV file from this location: https://data.gov.ie/dataset/attractions\n",
    "Map all the attractions with their name and locations as tool-tips."
   ]
  },
  {
   "cell_type": "code",
   "execution_count": null,
   "metadata": {},
   "outputs": [],
   "source": [
    "# Put your answer here.\n"
   ]
  },
  {
   "cell_type": "code",
   "execution_count": null,
   "metadata": {},
   "outputs": [],
   "source": [
    "df"
   ]
  },
  {
   "cell_type": "markdown",
   "metadata": {},
   "source": [
    "**Phew!** <div>\n",
    "<img src=\"images/the_end.png\" alt=\"The End\" width=\"300\" align=\"center\"/></div>"
   ]
  }
 ],
 "metadata": {
  "hide_input": false,
  "kernelspec": {
   "display_name": "Python 3 (ipykernel)",
   "language": "python",
   "name": "python3"
  },
  "language_info": {
   "codemirror_mode": {
    "name": "ipython",
    "version": 3
   },
   "file_extension": ".py",
   "mimetype": "text/x-python",
   "name": "python",
   "nbconvert_exporter": "python",
   "pygments_lexer": "ipython3",
   "version": "3.9.12"
  },
  "toc": {
   "base_numbering": 1,
   "nav_menu": {},
   "number_sections": true,
   "sideBar": true,
   "skip_h1_title": false,
   "title_cell": "Table of Contents",
   "title_sidebar": "Contents",
   "toc_cell": false,
   "toc_position": {},
   "toc_section_display": true,
   "toc_window_display": false
  },
  "varInspector": {
   "cols": {
    "lenName": 16,
    "lenType": 16,
    "lenVar": 40
   },
   "kernels_config": {
    "python": {
     "delete_cmd_postfix": "",
     "delete_cmd_prefix": "del ",
     "library": "var_list.py",
     "varRefreshCmd": "print(var_dic_list())"
    },
    "r": {
     "delete_cmd_postfix": ") ",
     "delete_cmd_prefix": "rm(",
     "library": "var_list.r",
     "varRefreshCmd": "cat(var_dic_list()) "
    }
   },
   "types_to_exclude": [
    "module",
    "function",
    "builtin_function_or_method",
    "instance",
    "_Feature"
   ],
   "window_display": false
  }
 },
 "nbformat": 4,
 "nbformat_minor": 4
}
