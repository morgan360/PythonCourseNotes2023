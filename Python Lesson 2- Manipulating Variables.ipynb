{
 "cells": [
  {
   "cell_type": "markdown",
   "metadata": {},
   "source": [
    "version 3.2 (Morgan McKnight)  2022-07-08 18:35:02 "
   ]
  },
  {
   "cell_type": "markdown",
   "metadata": {},
   "source": [
    "# <center>Lesson 2 - Manipulating Variables\n",
    "![variables](images/title_variables.png)"
   ]
  },
  {
   "cell_type": "markdown",
   "metadata": {},
   "source": [
    "## Problem 2 - Revenge Fiction\n",
    "**The Challenge** \n",
    "> Write an e-book where the character names are variables, so that any reader can input their own names for characters and the book will be changed to include their character choices. The reader will also be able to supply their own ending(last line).\n",
    "\n",
    "**The input**\n",
    "\n",
    "> The input will be a list of character names and a final sentence. The reader supplies these:\n",
    "1. Main character name\n",
    "2. Girlfriend's first name\n",
    "3. Father's first name\n",
    "4. Mother's first name\n",
    "5. Parents family name.\n",
    "6. Last sentence\n",
    "\n",
    "**Output**<hr>\n",
    "> The output will be the new story.\n",
    "\n",
    "**Base Story**\n",
    "> **(main_character)** sat nervously; had he been followed. It had never occurred to him that proposing to **(girlfriend)** would have been so dangerous. He looked out the train window and thought he saw a flash of orange hair  get on the first carriage. Was that Mrs. **(family name)**? He could not remember what her hair colour was, other than it being odd. Her first name was odd too: **(mother_fn)** and the father was called **(father_fn)**. **(main_character)** had been kneeling in the pig’s trough his diamond ring proffered towards **(girlfriend)**(**(girlfriend)** had been cleaning the trough in her birthday-suit as she didn't want to get her cloths dirty) when the **(family name)** s walked into the shed covered in hay. Without warning, Mr **(family name)** went immediately for his shotgun and fired straight at **(main_character)**. **(main_character** unharmed, had done a runner. Now he looked anxiously down the corridor at the passengers getting on. Thank God!, he thought, I still have the receipt for the ring. **(last_sentence)**\n",
    "\n",
    "**Hint**  \n",
    "> Use f strings. Note for multi-line text it is best to enclose the text in triple quotes '''-text-'''"
   ]
  },
  {
   "cell_type": "markdown",
   "metadata": {},
   "source": [
    "# Data Types\n",
    "\n",
    "**Primitive data types** are those that exist on their own - like atoms. They are the simplest types and are the foundation for all computer operations. You can combine them to construct more complex types, as you will see in the next chapter. You'll use **numeric** types and **strings** most often.\n",
    "\n",
    "## Numeric types\n",
    "These are:\n",
    "**Integers**, which are whole numbers, like the numbers you use to count (1, 2, 3).\n",
    "\n",
    "**Decimals**, like those you may use to store money values (2.50 or 5.99).\n",
    "\n",
    "Integers are declared like any other variable, with the name then the value: \n",
    "```\n",
    "count = 10\n",
    "```\n",
    "As you can see, your variable's value is 10, which is, of course, an integer: therefore, your variable **count** is an **integer** type. 😉  \n",
    "\n",
    "For decimals, Python uses **float type**. You can define it in the same way as integers:\n",
    "```\n",
    "length = 1876.79\n",
    "width = 1876.79797657\n",
    "```\n",
    "As long as the value is a decimal number, Python will automatically store it as a float variable.\n",
    "\n",
    "### Mixing numeric types\n",
    "An important thing to keep in mind is how the types mix together and what consequences it may have. If you mix together different types, the higher will always apply to the result. For example, an integer can be a float, but the opposite is not necessarily true. A float is the higher type: if you mix a float with an integer, the result will always be a float no matter the operation or the result.\n",
    "\n",
    "\n",
    "\n",
    "\n",
    "\n"
   ]
  },
  {
   "cell_type": "markdown",
   "metadata": {},
   "source": [
    "## Methods and Functions\n",
    "These names are often used interchangeably and are very similar in what they do. However, functions are stand alone whereas a method belongs to an object. This will be explained better in the object oriented lesson. For now they will be used interchangeably. There are a number of methods available for strings. See https://www.w3schools.com/python/python_ref_string.asp for list of methods.  See https://www.w3schools.com/python/python_ref_functions.asp for a list of built in functions."
   ]
  },
  {
   "cell_type": "markdown",
   "metadata": {},
   "source": [
    "## Functions on Strings\n",
    "All functions have brackets myFunction()\n",
    "\n",
    "**len(foo)** gives the number of letters in the string.\n"
   ]
  },
  {
   "cell_type": "code",
   "execution_count": null,
   "metadata": {},
   "outputs": [],
   "source": [
    "# functions always have brackets at the end len()\n",
    "\n",
    "txt = \"Morgan McKnight\"\n",
    "x = len(txt)\n",
    "print(x)\n",
    "\n",
    "# print(len('Morgan1234'))\n",
    "\n",
    "# print(3+5)"
   ]
  },
  {
   "cell_type": "markdown",
   "metadata": {},
   "source": [
    "You can print individual characters in your string, by indexing the letter i.e. the index is the position of the \n",
    "letter in the string. **Note** indices begin at 0 not 1. You use square brackets [ ] to identify the letter."
   ]
  },
  {
   "cell_type": "markdown",
   "metadata": {},
   "source": [
    "## Slicing"
   ]
  },
  {
   "cell_type": "code",
   "execution_count": null,
   "metadata": {},
   "outputs": [],
   "source": [
    "#example\n",
    "alphabet = \"abcdefghijklmnopqrstuvwxyz\"\n",
    "\n",
    "print(alphabet[0:2])"
   ]
  },
  {
   "cell_type": "code",
   "execution_count": null,
   "metadata": {},
   "outputs": [],
   "source": [
    "# Print a range(slicing)\n",
    "print(alphabet[2:4])"
   ]
  },
  {
   "cell_type": "code",
   "execution_count": null,
   "metadata": {},
   "outputs": [],
   "source": [
    "message = 'Hello World'\n",
    "print(len(message))\n",
    "# print(message)\n",
    "print(message.lower()) # note brackets on the method\n",
    "# print(message.upper())"
   ]
  },
  {
   "cell_type": "code",
   "execution_count": null,
   "metadata": {},
   "outputs": [],
   "source": [
    "#replace text in a string\n",
    "message = 'Hello World today is Wednesday, Wednesday'\n",
    "print(message.replace('Wednesday','Thursday'))\n",
    "# print(message)"
   ]
  },
  {
   "cell_type": "markdown",
   "metadata": {},
   "source": [
    "## SAQ - 1 - What is your name?\n",
    "Print your name using splicing on the albhabet string, and the + to concatenate(join) strings. **Bonus:** Capitalise your name"
   ]
  },
  {
   "cell_type": "code",
   "execution_count": null,
   "metadata": {},
   "outputs": [],
   "source": [
    "#ADD YOUR ANSWER HERE\n",
    "alphabet = \"abcdefghijklmnopqrstuvwxyz\"\n"
   ]
  },
  {
   "cell_type": "markdown",
   "metadata": {},
   "source": [
    "## SAQ - 2 Human Age\n",
    "Create two paramaters x= First Name and  y = Age, and print the statment x is y years old\n",
    "**Note** to change an integer to a string use the str() function."
   ]
  },
  {
   "cell_type": "code",
   "execution_count": null,
   "metadata": {},
   "outputs": [],
   "source": [
    "# ADD YOUR ANSWER HERE\n",
    "x = \"Morgan\"\n",
    "y = 34\n",
    "y = str(y)\n",
    "\n",
    "\n",
    "print (x + \" is \"+ y + \" years old.\")"
   ]
  },
  {
   "cell_type": "markdown",
   "metadata": {},
   "source": [
    "# More about printing\n",
    "Often when printing you wish to embed variables into text."
   ]
  },
  {
   "cell_type": "code",
   "execution_count": null,
   "metadata": {},
   "outputs": [],
   "source": [
    "# Simple/old way\n",
    "greeting = 'Hello'\n",
    "name = 'Cathy'\n",
    "\n",
    "print(greeting + \" how are you \" + name)\n"
   ]
  },
  {
   "cell_type": "code",
   "execution_count": null,
   "metadata": {},
   "outputs": [],
   "source": [
    "# Prior to Python Version 3\n",
    "\n",
    "str1 = str(34)\n",
    "str2 = \"Hi\"\n",
    "str3 = \"Cathy\"\n",
    "# print(str2 + ' how are you.' + str3 + 'I believe you are ' + str1 + 'years old')\n",
    "\n",
    "\n",
    "message = '{} how are you {}. I believe you are {} old'.format( str3, str2, str1 )\n",
    "\n",
    "print(message)"
   ]
  },
  {
   "cell_type": "markdown",
   "metadata": {},
   "source": [
    "## Printing with f strings\n",
    "New to Python are f strings they replace the traditional printing and the format method. With f strings you embed placeholders (using curly brackets { variable }) inside of your text."
   ]
  },
  {
   "cell_type": "code",
   "execution_count": null,
   "metadata": {},
   "outputs": [],
   "source": [
    "# After Python Version 3.6\n",
    "greeting = 'Ciao'\n",
    "name = 'Mary'\n",
    "age = 24\n",
    "message = f'{greeting}, and welcome {name}. Welcome! I beleve you are {age} years old.'\n",
    "print(message)"
   ]
  },
  {
   "cell_type": "markdown",
   "metadata": {},
   "source": [
    "## SAQ 3 - Hi There!\n",
    "Ask a user for their first name and then print out a greeting using f strings."
   ]
  },
  {
   "cell_type": "code",
   "execution_count": null,
   "metadata": {},
   "outputs": [],
   "source": [
    "# Solution to SAQ 3\n",
    "name = input(\"What is your name?\")\n",
    "\n",
    "greeting = f'Hi {name}! How are you today?'\n",
    "print(greeting)"
   ]
  },
  {
   "cell_type": "code",
   "execution_count": null,
   "metadata": {},
   "outputs": [],
   "source": []
  },
  {
   "cell_type": "markdown",
   "metadata": {},
   "source": [
    "## Getting Help\n",
    "Whenever you need help with a function use the help function with the name of the functiion inside e.g. \n",
    "```python\n",
    "help(print)\n",
    "\n",
    "```"
   ]
  },
  {
   "cell_type": "code",
   "execution_count": 25,
   "metadata": {
    "scrolled": false
   },
   "outputs": [
    {
     "name": "stdout",
     "output_type": "stream",
     "text": [
      "Help on built-in function print in module builtins:\n",
      "\n",
      "print(...)\n",
      "    print(value, ..., sep=' ', end='\\n', file=sys.stdout, flush=False)\n",
      "    \n",
      "    Prints the values to a stream, or to sys.stdout by default.\n",
      "    Optional keyword arguments:\n",
      "    file:  a file-like object (stream); defaults to the current sys.stdout.\n",
      "    sep:   string inserted between values, default a space.\n",
      "    end:   string appended after the last value, default a newline.\n",
      "    flush: whether to forcibly flush the stream.\n",
      "\n"
     ]
    }
   ],
   "source": [
    "help(print)"
   ]
  },
  {
   "cell_type": "code",
   "execution_count": 31,
   "metadata": {},
   "outputs": [
    {
     "name": "stdout",
     "output_type": "stream",
     "text": [
      "pratik@gmail.com"
     ]
    }
   ],
   "source": [
    "# Using the Print sep snd end \n",
    "# print('G','F','G', sep='#?') \n",
    "\n",
    "#for formatting a date \n",
    "# print('09','12','2016', sep='-') \n",
    "\n",
    "#another example \n",
    "print('pratik','gmail', sep='@', end = '.com') \n"
   ]
  },
  {
   "cell_type": "markdown",
   "metadata": {},
   "source": [
    "## Variable Operators"
   ]
  },
  {
   "cell_type": "markdown",
   "metadata": {},
   "source": [
    "## OPERATORS\n",
    "\n",
    "Operators are used to perform operations on variables and values. Operators can be grouped as follows:\n",
    "\n",
    "- Arithmetic operators\n",
    "- Assignment operators\n",
    "- Comparison operators\n",
    "- Logical operators\n",
    "- Identity operators\n",
    "- Membership operators\n",
    "- Bitwise operators"
   ]
  },
  {
   "cell_type": "markdown",
   "metadata": {},
   "source": [
    "### Arithmetic Operators\n",
    "\n",
    "The Python arithmetic operators are:\n",
    "\n",
    "<table style=\"border:1px solid black\" align =\"left\" >\n",
    "    <tr>\n",
    "        <th>\n",
    "            operator\n",
    "        </th>\n",
    "        <th>\n",
    "            Name\n",
    "        </th>\n",
    "        <th>\n",
    "            Example\n",
    "        </th>\n",
    "        <th>\n",
    "            Description\n",
    "        </th>\n",
    "   </tr>\n",
    "   <tr>\n",
    "            <td>\n",
    "                +\n",
    "            </td>\n",
    "            <td>\n",
    "                Addition\n",
    "            </td>\n",
    "            <td>\n",
    "                x+y\n",
    "            </td>\n",
    "            <td>\n",
    "                Adds the values on either side of the operator\n",
    "            </td>\n",
    "        </tr>\n",
    "        <tr>\n",
    "            <td>\n",
    "                -\n",
    "            </td>\n",
    "            <td>\n",
    "                Subtraction\n",
    "            </td>\n",
    "            <td>\n",
    "                x-y\n",
    "            </td>\n",
    "            <td>\n",
    "                Subtracts the value on the right from the one on the left\n",
    "            </td>\n",
    "        </tr>\n",
    "        <tr>\n",
    "            <td>\n",
    "                *\n",
    "            </td>\n",
    "            <td>\n",
    "                Multiplication\n",
    "            </td>\n",
    "            <td>\n",
    "                x*y\n",
    "            </td>\n",
    "            <td>\n",
    "                Multiplies the values on either side of the operator\n",
    "            </td>\n",
    "        </tr>\n",
    "        <tr>\n",
    "            <td>\n",
    "                /\n",
    "            </td>\n",
    "            <td>\n",
    "                Division\n",
    "            </td>\n",
    "            <td>\n",
    "                x/y\n",
    "            </td>\n",
    "            <td>\n",
    "                Divides the value on the left by the one on the right Division results in a floating-point value\n",
    "            </td>\n",
    "        </tr>\n",
    "        <tr>\n",
    "            <td>\n",
    "                %\n",
    "            </td>\n",
    "            <td>\n",
    "                Modulus\n",
    "            </td>\n",
    "            <td>\n",
    "                x%y\n",
    "            </td>\n",
    "            <td>\n",
    "                Divides and returns the value of the remainder\n",
    "            </td>\n",
    "        </tr>\n",
    "        <tr>\n",
    "        <td>\n",
    "            **\n",
    "        </td>\n",
    "        <td>\n",
    "            Exponentiation\n",
    "        </td>\n",
    "        <td>\n",
    "            x**y\n",
    "        </td>\n",
    "        <td>\n",
    "            Raises the first number to the power of the second\n",
    "        </td>\n",
    "    </tr>\n",
    "    <tr>\n",
    "        <td>\n",
    "        //\n",
    "        </td>\n",
    "        <td>\n",
    "        Floor division\n",
    "        </td>\n",
    "        <td>\n",
    "        x//y\n",
    "        </td>\n",
    "        <td>\n",
    "        Divides and returns the integer value of the quotient. It dumps the digits after the decimal\n",
    "        </td>\n",
    "    </tr>\n",
    "</table>"
   ]
  },
  {
   "cell_type": "code",
   "execution_count": 78,
   "metadata": {},
   "outputs": [
    {
     "name": "stdout",
     "output_type": "stream",
     "text": [
      "14\n"
     ]
    }
   ],
   "source": [
    "# Modulus\n",
    "x = 4 # Apples\n",
    "y = 5 # 2 Children\n",
    "print(x%y)\n",
    "\n",
    "\n",
    "\n",
    "#print(4%2.4)"
   ]
  },
  {
   "cell_type": "code",
   "execution_count": null,
   "metadata": {},
   "outputs": [],
   "source": [
    "print(2**64)"
   ]
  },
  {
   "cell_type": "code",
   "execution_count": null,
   "metadata": {},
   "outputs": [],
   "source": [
    "# Modulus Operator\n",
    "print( 10897%2 )\n",
    "print( 12467%2 )\n",
    "print( 5%2 )\n",
    "print( 35%2 )\n",
    "print( 52%2 )"
   ]
  },
  {
   "cell_type": "markdown",
   "metadata": {},
   "source": [
    "### Assignment Operators\n",
    "\n",
    "The Python arithmetic operators are:\n",
    "\n",
    "<table style=\"border:1px solid black\" align =\"left\">\n",
    "    <tr>\n",
    "        <th>\n",
    "            operator\n",
    "        </th>\n",
    "        <th>\n",
    "            Name\n",
    "        </th>\n",
    "        <th>\n",
    "            Description\n",
    "        </th>\n",
    "   </tr>\n",
    "        <tr>\n",
    "            <td>\n",
    "                =\n",
    "            </td>\n",
    "            <td>\n",
    "                Assign\n",
    "            </td>\n",
    "            <td>\n",
    "               Assigns a value to the expression on the left\n",
    "            </td>\n",
    "        </tr>\n",
    "        <tr>\n",
    "            <td>\n",
    "               +=\n",
    "            </td>\n",
    "            <td>\n",
    "                Add and Assign\n",
    "            </td>\n",
    "            <td>\n",
    "                Adds the values on either side and assigns it to the \n",
    "                expression on the left. a+=10 is the same as a=a+10.\n",
    "            </td>\n",
    "        </tr>\n",
    "        <tr>\n",
    "            <td>\n",
    "               -=\n",
    "            </td>\n",
    "            <td>\n",
    "                Subtract and Assign\n",
    "            </td>\n",
    "            <td>\n",
    "                Subtracts the value on the right from the value on the left\n",
    "                Then it assigns it to the expression on the left\n",
    "            </td>\n",
    "        </tr>\n",
    "        <tr>\n",
    "            <td>\n",
    "               *=\n",
    "            </td>\n",
    "            <td>\n",
    "                Multiply and Assign\n",
    "            </td>\n",
    "            <td>Multiplies the values on either sides. Then it assigns it to \n",
    "                the expression on the left.\n",
    "            </td>\n",
    "        </tr>\n",
    "        <tr>\n",
    "            <td>\n",
    "               /=\n",
    "            </td>\n",
    "            <td>\n",
    "                Divide and Assign\n",
    "            </td>\n",
    "            <td>\n",
    "                Divides the value on the left by the one on the right Division results in a floating-point value\n",
    "            </td>\n",
    "        </tr>\n",
    "     <tr>\n",
    "        <td>\n",
    "            %=\n",
    "        </td>\n",
    "        <td>\n",
    "            Modulus and Assign\n",
    "        </td>\n",
    "        <td>\n",
    "           Performs modulus on the values on either side. Then it \n",
    "           assigns it to the expression on the left\n",
    "        </td>\n",
    "    </tr>\n",
    "<tr>\n",
    "    <td>\n",
    "        //=\n",
    "    </td>\n",
    "    <td>\n",
    "        Floor-Divide and Assign \n",
    "    </td>\n",
    "    <td>\n",
    "        Performs floor-division on the values on either side. Then \n",
    "        assigns it to the expression on the left\n",
    "    </td>\n",
    "</tr>\n",
    "<tr>\n",
    "    <td>\n",
    "        **=\n",
    "    </td>\n",
    "    <td>\n",
    "        Exponent and Assign\n",
    "    </td>\n",
    "    <td>\n",
    "        Performs exponentiation on the values on either side. Then \n",
    "        assigns it to the expression on the left.\n",
    "    </td>\n",
    "</tr>\n",
    "<tr>\n",
    "    <td>\n",
    "        abs (function)\n",
    "    </td>\n",
    "    <td>\n",
    "        Absolute Value\n",
    "    </td>\n",
    "    <td>\n",
    "        Changes negative to positive abs(-3) = 3\n",
    "    </td>\n",
    "</tr> \n",
    "<tr>\n",
    "    <td>\n",
    "        round (function)\n",
    "    </td>\n",
    "    <td>\n",
    "        Rounds the number\n",
    "    </td>\n",
    "    <td>\n",
    "       rounds up a number e.g. round(3.886) =4\n",
    "    </td>\n",
    "</tr>    \n",
    "</table>\n",
    "<br CLEAR=left>\n"
   ]
  },
  {
   "cell_type": "code",
   "execution_count": 53,
   "metadata": {},
   "outputs": [
    {
     "name": "stdout",
     "output_type": "stream",
     "text": [
      "3.0\n"
     ]
    }
   ],
   "source": [
    "x = 3.344678490\n",
    "print(round(x, 0))"
   ]
  },
  {
   "cell_type": "code",
   "execution_count": 55,
   "metadata": {},
   "outputs": [
    {
     "name": "stdout",
     "output_type": "stream",
     "text": [
      "5\n"
     ]
    }
   ],
   "source": [
    "x = -5\n",
    "print(abs(x))"
   ]
  },
  {
   "cell_type": "code",
   "execution_count": 42,
   "metadata": {},
   "outputs": [
    {
     "name": "stdout",
     "output_type": "stream",
     "text": [
      "25\n"
     ]
    }
   ],
   "source": [
    "x = 5\n",
    "\n",
    "# x = x + 20\n",
    "x +=  20\n",
    "print(x)"
   ]
  },
  {
   "cell_type": "code",
   "execution_count": 49,
   "metadata": {},
   "outputs": [
    {
     "name": "stdout",
     "output_type": "stream",
     "text": [
      "1000\n",
      "16000\n"
     ]
    }
   ],
   "source": [
    "a=100\n",
    "a *= 10\n",
    "print(a)\n",
    "a *= 16\n",
    "print(a)"
   ]
  },
  {
   "cell_type": "code",
   "execution_count": null,
   "metadata": {},
   "outputs": [],
   "source": [
    "# incrementing a variable\n",
    "n = 1\n",
    "n= n + 1\n",
    "print(n)"
   ]
  },
  {
   "cell_type": "code",
   "execution_count": null,
   "metadata": {},
   "outputs": [],
   "source": [
    "# Short Cuts\n",
    "n = 1\n",
    "print(n)\n",
    "n += 1\n",
    "print(n)\n",
    "n += 5\n",
    "print(n)\n"
   ]
  },
  {
   "cell_type": "code",
   "execution_count": null,
   "metadata": {},
   "outputs": [],
   "source": [
    "# Short Cuts for anny arithetmic function\n",
    "n = 3\n",
    "# print(n)\n",
    "# n = n*5\n",
    "# n *= 7\n",
    "# print(n)\n",
    "n *= 46\n",
    "print(n)\n"
   ]
  },
  {
   "cell_type": "code",
   "execution_count": null,
   "metadata": {
    "scrolled": true
   },
   "outputs": [],
   "source": [
    "# round function\n",
    "# x= round(3.885)\n",
    "print(x)\n",
    "x= round(3.885,2)\n",
    "print(x)"
   ]
  },
  {
   "attachments": {
    "image.png": {
     "image/png": "[encoded data removed]"
    }
   },
   "cell_type": "markdown",
   "metadata": {},
   "source": [
    "## MAQ 3 - Area\n",
    "\n",
    "The area of a RECTANGLE is given by <b>length</b> multiplied by the <b>width</b>.\n",
    "![image.png](attachment:image.png)<br>\n",
    "Calculate the area of a rectangle that has a length of 3.25cm and a width of 3.35cm. Give your answer to two decimal places."
   ]
  },
  {
   "cell_type": "code",
   "execution_count": null,
   "metadata": {},
   "outputs": [],
   "source": [
    "# Put your answer here"
   ]
  },
  {
   "cell_type": "markdown",
   "metadata": {},
   "source": [
    "### Comparison Operators\n",
    "Comparison operators are used to see if variables are equal, less than or greater than each other. The results of comparisons always return a Boolean value i.e. True or False or O or 1.\n",
    "\n",
    "The Python comparison operators are:\n",
    "\n",
    "<table style=\"border:1px solid black\" align =\"left\">\n",
    "    <thead>\n",
    "            <th>Operator</th>\n",
    "            <th>Description</th>\n",
    "    </thead>\n",
    "    <tbody>\n",
    "        <tr>\n",
    "            <td>==</td>\n",
    "            <td>equal to</td>\n",
    "        </tr>\n",
    "        <tr>\n",
    "            <td>!= </td>\n",
    "            <td>not equal</td>\n",
    "        </tr>\n",
    "        <tr>\n",
    "            <td> > </td>\n",
    "            <td>greater than</td>\n",
    "        </tr>\n",
    "        <tr>\n",
    "            <td> < </td>\n",
    "            <td>less than</td>\n",
    "        </tr>\n",
    "        <tr>\n",
    "            <td>>=</td>\n",
    "            <td>greater than or equal to</td>\n",
    "        </tr>\n",
    "        <tr>\n",
    "            <td><= </td>\n",
    "            <td>less than or equal to</td>\n",
    "        </tr>\n",
    "    </tbody>\n",
    "</table>\n",
    "<br CLEAR=left>\n",
    "\n"
   ]
  },
  {
   "cell_type": "code",
   "execution_count": 61,
   "metadata": {},
   "outputs": [],
   "source": [
    "# Example of a comparison operator with a boolean result\n",
    "num_1 = 6\n",
    "num_2 = 6"
   ]
  },
  {
   "cell_type": "code",
   "execution_count": 62,
   "metadata": {
    "scrolled": false
   },
   "outputs": [
    {
     "name": "stdout",
     "output_type": "stream",
     "text": [
      "True\n"
     ]
    }
   ],
   "source": [
    "# Is num_1 equal to num_2\n",
    "print(num_1 == num_2)"
   ]
  },
  {
   "cell_type": "markdown",
   "metadata": {},
   "source": [
    "### Logical Operators\n",
    "\n",
    "The Python logical operators are:\n",
    "\n",
    "<table style=\"border:1px solid black\" align =\"left\">\n",
    "    <thead>\n",
    "            <th>Operator</th>\n",
    "            <th>Description</th>\n",
    "    </thead>\n",
    "    <tbody>\n",
    "        <tr>\n",
    "            <td>and</td>\n",
    "            <td>Returns True if both statements are True</td>\n",
    "        </tr>\n",
    "        <tr>\n",
    "            <td>or</td>\n",
    "            <td>Returns True if one of the statements is True</td>\n",
    "        </tr>\n",
    "        <tr>\n",
    "            <td> not </td>\n",
    "            <td>Reverse the result, returns False if the result is True</td>\n",
    "        </tr>\n",
    "    </tbody>\n",
    "</table>\n",
    "<br CLEAR=left>\n",
    "\n",
    "Examples of logical expressions in Python:"
   ]
  },
  {
   "cell_type": "code",
   "execution_count": 67,
   "metadata": {},
   "outputs": [
    {
     "name": "stdout",
     "output_type": "stream",
     "text": [
      "True\n"
     ]
    }
   ],
   "source": [
    "x=3\n",
    "y=3\n",
    "z=3\n",
    "\n",
    "print(x == y and y == z)"
   ]
  },
  {
   "cell_type": "markdown",
   "metadata": {},
   "source": [
    "## SAQ 5 - Even the Truth\n",
    "\n",
    "Test if any number x is even. Print True if it is even and False if odd."
   ]
  },
  {
   "cell_type": "code",
   "execution_count": 74,
   "metadata": {
    "scrolled": true
   },
   "outputs": [
    {
     "name": "stdout",
     "output_type": "stream",
     "text": [
      "False\n"
     ]
    }
   ],
   "source": [
    "# Code your answer here:\n",
    "# Is x Even\n",
    "x = 171\n",
    "\n",
    "y = x%2\n",
    "\n",
    "# print(y)\n",
    "# Comparison\n",
    "print(y==0)"
   ]
  },
  {
   "cell_type": "code",
   "execution_count": null,
   "metadata": {
    "scrolled": true
   },
   "outputs": [],
   "source": [
    "#print(dir(greeting))\n",
    "\n",
    "help(round)\n"
   ]
  },
  {
   "cell_type": "code",
   "execution_count": null,
   "metadata": {},
   "outputs": [],
   "source": [
    "print(round(323456.623456, -3))"
   ]
  },
  {
   "cell_type": "code",
   "execution_count": null,
   "metadata": {
    "scrolled": true
   },
   "outputs": [],
   "source": [
    "pot = range(12)\n",
    "# print(pot)\n",
    "for num in pot:\n",
    "    num = num +100\n",
    "    print(num)"
   ]
  },
  {
   "cell_type": "markdown",
   "metadata": {},
   "source": [
    "# Solve problem 2 - Team Exercise\n",
    "You should now have enough information to solve the problem. You will be divided into teams and one person will be nominated as leader. It will be there job to write the solution with inputs from the other team members. When you come back from the breakout room you will be presented with a sentence to analyse.  \n",
    "**Note:** Anybody can be asked to explain the solution."
   ]
  },
  {
   "cell_type": "code",
   "execution_count": null,
   "metadata": {},
   "outputs": [],
   "source": [
    "from IPython.display import YouTubeVideo\n",
    "# Introduction to Python- Integers\n",
    "# Video credit: Corey Schefer.\n",
    "YouTubeVideo('khKv-8q7YmY', width=620, height=350)"
   ]
  },
  {
   "cell_type": "markdown",
   "metadata": {},
   "source": [
    "![The End](images/the_end.png)"
   ]
  }
 ],
 "metadata": {
  "hide_input": false,
  "kernelspec": {
   "display_name": "Python 3 (ipykernel)",
   "language": "python",
   "name": "python3"
  },
  "language_info": {
   "codemirror_mode": {
    "name": "ipython",
    "version": 3
   },
   "file_extension": ".py",
   "mimetype": "text/x-python",
   "name": "python",
   "nbconvert_exporter": "python",
   "pygments_lexer": "ipython3",
   "version": "3.9.12"
  },
  "toc": {
   "base_numbering": 1,
   "nav_menu": {},
   "number_sections": true,
   "sideBar": true,
   "skip_h1_title": false,
   "title_cell": "Table of Contents",
   "title_sidebar": "Contents",
   "toc_cell": false,
   "toc_position": {},
   "toc_section_display": true,
   "toc_window_display": false
  },
  "varInspector": {
   "cols": {
    "lenName": 16,
    "lenType": 16,
    "lenVar": 40
   },
   "kernels_config": {
    "python": {
     "delete_cmd_postfix": "",
     "delete_cmd_prefix": "del ",
     "library": "var_list.py",
     "varRefreshCmd": "print(var_dic_list())"
    },
    "r": {
     "delete_cmd_postfix": ") ",
     "delete_cmd_prefix": "rm(",
     "library": "var_list.r",
     "varRefreshCmd": "cat(var_dic_list()) "
    }
   },
   "types_to_exclude": [
    "module",
    "function",
    "builtin_function_or_method",
    "instance",
    "_Feature"
   ],
   "window_display": false
  }
 },
 "nbformat": 4,
 "nbformat_minor": 4
}
