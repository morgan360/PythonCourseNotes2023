{
 "cells": [
  {
   "cell_type": "markdown",
   "metadata": {},
   "source": [
    "version 3.0 Morgan McKnight"
   ]
  },
  {
   "cell_type": "markdown",
   "metadata": {},
   "source": [
    "# <center>Python Lesson 5 - Loop the Loop</center>\n",
    "\n",
    "![Booleans](images/title_loops.png)<br>\n",
    "\n",
    "\n"
   ]
  },
  {
   "cell_type": "markdown",
   "metadata": {},
   "source": [
    "## Problem 6 - Soccer or Basketball?\n",
    "\n",
    "### Situation\n",
    "A number of students have presented themselves to their PE teacher to play a sport: either soccer or basketball. You record their names and their heights in a student dictionary (see below). You want to write a program that will pick a soccer and basketball based on their height. Anyone 178cm or taller will be allocated to the basketball team and anyone less than 178cm will play soccer.\n",
    "```python\n",
    "students = {'John': 178, 'Mary': 179, 'Colm': 176,\n",
    "           'Paul': 176, 'Caitriona': 177, 'Gene': 180, \n",
    "           'Seb':174, 'Hamil':190, 'Carol':169}\n",
    "```\n",
    "\n",
    "### input\n",
    "The dictionary of students shown above. This should work for a dictionary of any length.\n",
    "\n",
    "### Output\n",
    "\n",
    "The output is two lists, a list of the soccer players and a list of the basketball players.\n",
    "\n",
    "### Example Output\n",
    "- The Soccer team is: ['Colm', 'Paul', 'Caitriona', 'Seb', 'Carol']\n",
    "- The Basketball team is: ['John', 'Mary', 'Gene', 'Hamil']\n",
    "\n",
    "### Programming Hints\n",
    "- You will need to loop over the dictionary extracting keys and values.\n",
    "- You will compare values and add keys to your list.\n"
   ]
  },
  {
   "cell_type": "markdown",
   "metadata": {},
   "source": [
    "# What are programming Loops\n",
    "In this lesson we are going to examine loops. In a programming language, a loop is a statement that contains a set of instructions that are repeated until a certain condition is reached. Loops help remove code redundancy for example if we wish to print out something a 100 times a loop statement can avoid putting in a 100 print statements by looping over the print statement a 100 times. Loops are also used to iterate over elements in a variable.\n",
    "\n",
    "There are two types of loops:\n",
    "\n",
    "1. A **for loop** is used for iterating over a sequence (that is either a list, a tuple, a dictionary, a set, or a string).\n",
    "\n",
    "2. A **while loop** continually executes the instructions(code) as long as the given condition is TRUE. Each time it loops it checks if the condition is True and then implements the code. It continually executes instructions(code) as long as the given condition is TRUE.\n"
   ]
  },
  {
   "cell_type": "markdown",
   "metadata": {},
   "source": [
    "<div><img src=\"images/preview.png\" alt=\"preview\" align=\"left\" width=\"80\"/><br>\n",
    "<blockquote> <b>For Loop:</b>\n",
    "A for loop is used for iterating over a sequence (that is either a list, a tuple, a dictionary, a set, or a string).\n",
    "</blockquote></div>\n",
    "<div>\n",
    "<img src=\"images/syntax.png\" alt=\"preview\" align=\"left\" width=\"50\"/><br>    \n",
    "</div>\n",
    "\n",
    "```python\n",
    "for iterating_var in sequence:\n",
    "   statements(s)\n",
    "```"
   ]
  },
  {
   "cell_type": "markdown",
   "metadata": {},
   "source": [
    "## Looping through a List"
   ]
  },
  {
   "cell_type": "code",
   "execution_count": null,
   "metadata": {},
   "outputs": [],
   "source": [
    "fruits = ['banana', 'apple',  'mango', 'pear','orange']\n",
    "for fruit in fruits:\n",
    "    print ('Eating:', fruit)\n",
    "\n",
    "print(\"\\nBasket is  empty!\")"
   ]
  },
  {
   "cell_type": "code",
   "execution_count": null,
   "metadata": {},
   "outputs": [],
   "source": [
    "# It loops trough each element in students and assigns the element to a tempory variable.\n",
    "student = ['John', 'age','subjects']\n",
    "for x in student:\n",
    "    print(x)"
   ]
  },
  {
   "cell_type": "markdown",
   "metadata": {},
   "source": [
    "<div><img src=\"images/preview.png\" alt=\"preview\" align=\"left\" width=\"100\"/><br>\n",
    "<blockquote> <b>Range function:</b>\n",
    "Python range() The range() function returns a sequence of numbers, starting from 0 by default, and increments by 1 (by default), and stops before a specified number.   \n",
    "</blockquote></div>\n",
    "<div>\n",
    "<img src=\"images/syntax.png\" alt=\"preview\" align=\"left\" width=\"50\"/><br>    \n",
    "</div>\n",
    "\n",
    "```python\n",
    "range(start, stop, step)\n",
    "```"
   ]
  },
  {
   "cell_type": "code",
   "execution_count": null,
   "metadata": {},
   "outputs": [],
   "source": [
    "# Iterating through a range\n",
    "vas = range(10)\n",
    "\n",
    "for num in vas:\n",
    "    print(num)"
   ]
  },
  {
   "cell_type": "code",
   "execution_count": null,
   "metadata": {},
   "outputs": [],
   "source": [
    "# Example of Range function\n",
    "name ='hfdsannnnnnnnn'\n",
    "num_let = len(name)\n",
    "\n",
    "# print(num_let)\n",
    "\n",
    "for i in range(14):  \n",
    "    print(name[i])\n",
    "    \n"
   ]
  },
  {
   "cell_type": "code",
   "execution_count": null,
   "metadata": {},
   "outputs": [],
   "source": [
    "# Using a Range function to iterate through a list\n",
    "courses = ['History','Math', 'Physics', 'Irish']\n",
    "x = len(courses)\n",
    "# print (courses[1])\n",
    "\n",
    "for i in range(5):  \n",
    "    print(courses[i])    "
   ]
  },
  {
   "cell_type": "markdown",
   "metadata": {},
   "source": [
    "## SAQ 1 : Noah's Ark multiple inputs\n",
    "Using the **Range** function and a **For loop**, ask for the type of animal **input()** 4 times, and print out a list of the animals at the end. "
   ]
  },
  {
   "cell_type": "code",
   "execution_count": null,
   "metadata": {},
   "outputs": [],
   "source": [
    "# PUT YOUR ANSWER HERE - DO NOT LOOK AT SOLUTION\n"
   ]
  },
  {
   "cell_type": "markdown",
   "metadata": {},
   "source": [
    "## Range\n",
    "Used when you want to go through a loop a certain number of times"
   ]
  },
  {
   "cell_type": "code",
   "execution_count": null,
   "metadata": {
    "scrolled": true
   },
   "outputs": [],
   "source": [
    "for num in range(5):\n",
    "    print(num)"
   ]
  },
  {
   "cell_type": "code",
   "execution_count": null,
   "metadata": {},
   "outputs": [],
   "source": [
    "range()"
   ]
  },
  {
   "cell_type": "code",
   "execution_count": null,
   "metadata": {},
   "outputs": [],
   "source": [
    "# Printing inclusive range\n",
    "start = -20\n",
    "stop  = 20 \n",
    "step  = 4\n",
    "#now stop is 6\n",
    "\n",
    "for i in range(start, stop, step):\n",
    "    print(i)"
   ]
  },
  {
   "cell_type": "code",
   "execution_count": null,
   "metadata": {},
   "outputs": [],
   "source": [
    "# Printing inclusive range\n",
    "start = 2\n",
    "stop  = 10 \n",
    "step  = 2\n",
    "stop += step #now stop is 12\n",
    "\n",
    "for i in range(start, stop, step):\n",
    "    print(i, end='& ') # prind with end"
   ]
  },
  {
   "cell_type": "code",
   "execution_count": null,
   "metadata": {},
   "outputs": [],
   "source": [
    "start = -2\n",
    "stop = 10\n",
    "step = 1\n",
    "# print(\"Negative number range\")\n",
    "for number in range(start, stop, step):\n",
    "    print(number, end=', ')"
   ]
  },
  {
   "cell_type": "code",
   "execution_count": null,
   "metadata": {},
   "outputs": [],
   "source": [
    "# printing range from negative to positive\n",
    "for num in range(-2, 5, 1):\n",
    "    print(num, end=\", \")"
   ]
  },
  {
   "cell_type": "code",
   "execution_count": null,
   "metadata": {},
   "outputs": [],
   "source": [
    "# Using list to create a List[]\n",
    "# print(\"Converting python range() to list\")\n",
    "even_list = list( range(0, 101, 2))\n",
    "print( even_list)"
   ]
  },
  {
   "cell_type": "markdown",
   "metadata": {},
   "source": [
    "## Iterate through a dictionary"
   ]
  },
  {
   "cell_type": "code",
   "execution_count": null,
   "metadata": {},
   "outputs": [],
   "source": [
    "student = {'name': 'Mary', 'phone': '333333333', 'grade': 44}\n",
    "# print(student)\n",
    "print(len(student)) # Number of elements in the dictionary"
   ]
  },
  {
   "cell_type": "code",
   "execution_count": null,
   "metadata": {},
   "outputs": [],
   "source": [
    "print(student.keys())\n",
    "print(student.values())\n",
    "print(student.items())"
   ]
  },
  {
   "cell_type": "code",
   "execution_count": null,
   "metadata": {},
   "outputs": [],
   "source": [
    "# Iterate through key value pairs.\n",
    "for key,value in student.items():\n",
    "    print(key,value)"
   ]
  },
  {
   "cell_type": "markdown",
   "metadata": {},
   "source": [
    "## SAQ 2(m) : Animal Dictionary\n",
    "\n",
    "![Animals](images/animals_small.jpg)\n",
    "<br>\n",
    "\n",
    "Create a dictionary of animal names their ages and animal type. eg **Rover, 4, dog -- Melisa, Cat, 5**. Allow a user through an Input Statement to add new animals.  Print out the result each time. You can use a **for loop** and **range** function to specify how many times you ask for input.\n",
    "\n",
    "Note: There is a problem with this exercise: A dictionary cannot have two keys with the same name, so you will have to change the key name each time you add an animal to the dictionary.  \n",
    "**Sample Output**  \n",
    "```ptython\n",
    "{'name_0': 'Sally', 'age_0': '4', 'eye_colour_Sally': 'Red', 'name_1': 'Rover', 'age_1': '6', 'eye_colour_Rover': 'Blue'}\n",
    "```\n"
   ]
  },
  {
   "cell_type": "code",
   "execution_count": null,
   "metadata": {},
   "outputs": [],
   "source": [
    "# Add your Answer here!\n",
    "pet_details ={}"
   ]
  },
  {
   "cell_type": "markdown",
   "metadata": {},
   "source": [
    "## SAQ 3 - Good and Bad Days\n",
    "Create a list of Days of the week, and two empty lists weekday = [] and weekend = []. Pop and allocate each element in the **Days of the week** list and add it to the appropriate list:  weekday or on the weekend.\n",
    "Arrange the days in natural order.\n",
    "```Python\n",
    "['Mon', 'Tue', 'Wed', 'Thu', 'Fri']\n",
    "['Sat', 'Sun ']\n",
    "\n",
    "# How to pop from the end of a list\n",
    "names =['Ann','John','Dan']\n",
    "name = names.pop()\n",
    "print(names)\n",
    "print(name)\n",
    "\n",
    "```\n",
    "**Hint:** use range () function"
   ]
  },
  {
   "cell_type": "code",
   "execution_count": null,
   "metadata": {},
   "outputs": [],
   "source": [
    "# Add your answer here\n",
    "days = ['Mon', 'Tue', 'Wed', 'Thu', 'Fri', 'Sat', 'Sun'] \n"
   ]
  },
  {
   "cell_type": "markdown",
   "metadata": {},
   "source": [
    "## SAQ 4 - Acording to my Calculations\n",
    "Create a simple calculator that that takes in two values x and y and an operator (Multiplication '*\" or \"+\")\n",
    "and carries out the relevant calculation and prints the results.\n",
    "\n",
    "For example if the user puts in the values 3, 4 and the * sign the result will be  12.\n",
    "Remember that an input() always produces a string\n",
    "'2' int(x) = 2"
   ]
  },
  {
   "cell_type": "code",
   "execution_count": null,
   "metadata": {
    "scrolled": true
   },
   "outputs": [],
   "source": [
    "# Put your answer here           \n",
    "x = input('input x value')\n",
    "y = input('input y value')\n",
    "opr = input('input operator')\n"
   ]
  },
  {
   "cell_type": "markdown",
   "metadata": {},
   "source": [
    "# Loops and Iterations"
   ]
  },
  {
   "cell_type": "markdown",
   "metadata": {},
   "source": [
    "## Simple For Loop"
   ]
  },
  {
   "cell_type": "code",
   "execution_count": null,
   "metadata": {},
   "outputs": [],
   "source": [
    "nums = [1,2,3,13,5,6]"
   ]
  },
  {
   "cell_type": "code",
   "execution_count": null,
   "metadata": {},
   "outputs": [],
   "source": [
    "# Simple For statment\n",
    "for num in nums:\n",
    "    print(num)"
   ]
  },
  {
   "cell_type": "markdown",
   "metadata": {},
   "source": [
    "## Break and Continue"
   ]
  },
  {
   "cell_type": "code",
   "execution_count": null,
   "metadata": {},
   "outputs": [],
   "source": [
    "# Simple For statment\n",
    "nums =[1,2,3,4,13,5,6]\n",
    "\n",
    "for num in nums:\n",
    "    if(num==13):\n",
    "        break\n",
    "    print(num)\n",
    "\n",
    "print('end')"
   ]
  },
  {
   "cell_type": "code",
   "execution_count": null,
   "metadata": {},
   "outputs": [],
   "source": [
    "# Simple For statment\n",
    "for num in nums:\n",
    "    if(num==4 or num ==13):\n",
    "        continue\n",
    "    print(num)\n",
    "print(\"end\")"
   ]
  },
  {
   "cell_type": "markdown",
   "metadata": {},
   "source": [
    "## Inner loops"
   ]
  },
  {
   "cell_type": "code",
   "execution_count": null,
   "metadata": {},
   "outputs": [],
   "source": [
    "#Loop 1\n",
    "days = ['Mon', 'Tue', 'Wed', 'Thr', 'Fri', 'Sat', 'Sun']\n",
    "for day in days:\n",
    "    print(day)"
   ]
  },
  {
   "cell_type": "code",
   "execution_count": null,
   "metadata": {},
   "outputs": [],
   "source": [
    "# another Loop\n",
    "hours =[]\n",
    "for h in range(4):\n",
    "    hours.append(h)\n",
    "\n",
    "print(hours)"
   ]
  },
  {
   "cell_type": "code",
   "execution_count": null,
   "metadata": {},
   "outputs": [],
   "source": [
    "hours =[]\n",
    "for h in range(4):\n",
    "    hours.append(str(h) + ':00')\n",
    "print(hours)"
   ]
  },
  {
   "cell_type": "code",
   "execution_count": null,
   "metadata": {},
   "outputs": [],
   "source": [
    "# Print out the  hours for each day of the week.\n",
    "# create our two lists\n",
    "days = ['Mon', 'Tue', 'Wed', 'Thr', 'Fri', 'Sat', 'Sun']\n",
    "hours =[]"
   ]
  },
  {
   "cell_type": "code",
   "execution_count": null,
   "metadata": {},
   "outputs": [],
   "source": [
    "# Step 1: Check our hours loop\n",
    "for h in range(24):\n",
    "    hours.append(str(h) + ':00')\n",
    "print(hours)"
   ]
  },
  {
   "cell_type": "code",
   "execution_count": null,
   "metadata": {},
   "outputs": [],
   "source": [
    "#Put it together   \n",
    "for day in days:# outer Loop\n",
    "    for hour in hours:# inner Loop\n",
    "        #print(day,hour)\n",
    "#         print('{} starting at {}'.format(day,hour))\n",
    "        print(f'{day} finishing at {hour}') "
   ]
  },
  {
   "cell_type": "code",
   "execution_count": null,
   "metadata": {},
   "outputs": [],
   "source": [
    "for i in range(10):\n",
    "    print(i)"
   ]
  },
  {
   "cell_type": "code",
   "execution_count": null,
   "metadata": {},
   "outputs": [],
   "source": [
    "# Range between indices\n",
    "for i in range(1, 10, 2):\n",
    "    print(i)"
   ]
  },
  {
   "cell_type": "markdown",
   "metadata": {},
   "source": [
    "## While Loops\n",
    "While loops keep running until a specified condition is met or when it meets a break statement."
   ]
  },
  {
   "cell_type": "code",
   "execution_count": null,
   "metadata": {},
   "outputs": [],
   "source": [
    "x = 0\n",
    "while x < 4:\n",
    "    print(x)\n",
    "    x += 1"
   ]
  },
  {
   "cell_type": "code",
   "execution_count": null,
   "metadata": {},
   "outputs": [],
   "source": [
    "x= 0\n",
    "while x <= 10:\n",
    "    if x == 5:\n",
    "        break\n",
    "    print(x)\n",
    "    x += 1"
   ]
  },
  {
   "cell_type": "code",
   "execution_count": null,
   "metadata": {},
   "outputs": [],
   "source": [
    "#End Parameter in  a print statement\n",
    "print('morgan', end = '@')"
   ]
  },
  {
   "cell_type": "markdown",
   "metadata": {},
   "source": [
    "## SAQ 5 - Not so Fast\n",
    "Write a loop that prints each letter but omits the letter s from the word \"fasting\".\n"
   ]
  },
  {
   "cell_type": "code",
   "execution_count": null,
   "metadata": {
    "scrolled": true
   },
   "outputs": [],
   "source": [
    "# SAQ 5 not so fast\n",
    "word = 'fasting'\n"
   ]
  },
  {
   "attachments": {
    "image.png": {
     "image/png": "[encoded data removed]"
    }
   },
   "cell_type": "markdown",
   "metadata": {},
   "source": [
    "## SAQ 4 Loop the Loop\n",
    "Using a loop within a loop print the following:\n",
    "\n",
    "![image.png](attachment:image.png)\n",
    "\n",
    "**Note** Use the following print statement\n",
    "```python\n",
    "print('* ', end=\"\")\n",
    "```\n",
    "\n"
   ]
  },
  {
   "cell_type": "code",
   "execution_count": null,
   "metadata": {},
   "outputs": [],
   "source": [
    "# PUT YOUR ANSWER HERE\n"
   ]
  },
  {
   "cell_type": "markdown",
   "metadata": {},
   "source": [
    "# Solve our problem 6 - Team Exercise\n",
    "You should now have enough information to solve the problem. You will be divided into teams and one person will be nominated as leader. It will be there job to write the solution with inputs from the other team members. When you come back from the breakout room you will be presented with a sentence to analyse.  \n",
    "**Note:** Anybody can be asked to explain the solution."
   ]
  },
  {
   "cell_type": "markdown",
   "metadata": {},
   "source": [
    "![The End](images/the_end.png)"
   ]
  }
 ],
 "metadata": {
  "hide_input": false,
  "kernelspec": {
   "display_name": "Python 3 (ipykernel)",
   "language": "python",
   "name": "python3"
  },
  "language_info": {
   "codemirror_mode": {
    "name": "ipython",
    "version": 3
   },
   "file_extension": ".py",
   "mimetype": "text/x-python",
   "name": "python",
   "nbconvert_exporter": "python",
   "pygments_lexer": "ipython3",
   "version": "3.9.12"
  },
  "toc": {
   "base_numbering": 1,
   "nav_menu": {},
   "number_sections": true,
   "sideBar": true,
   "skip_h1_title": false,
   "title_cell": "Table of Contents",
   "title_sidebar": "Contents",
   "toc_cell": false,
   "toc_position": {
    "height": "calc(100% - 180px)",
    "left": "10px",
    "top": "150px",
    "width": "165px"
   },
   "toc_section_display": true,
   "toc_window_display": false
  },
  "varInspector": {
   "cols": {
    "lenName": 16,
    "lenType": 16,
    "lenVar": 40
   },
   "kernels_config": {
    "python": {
     "delete_cmd_postfix": "",
     "delete_cmd_prefix": "del ",
     "library": "var_list.py",
     "varRefreshCmd": "print(var_dic_list())"
    },
    "r": {
     "delete_cmd_postfix": ") ",
     "delete_cmd_prefix": "rm(",
     "library": "var_list.r",
     "varRefreshCmd": "cat(var_dic_list()) "
    }
   },
   "types_to_exclude": [
    "module",
    "function",
    "builtin_function_or_method",
    "instance",
    "_Feature"
   ],
   "window_display": false
  }
 },
 "nbformat": 4,
 "nbformat_minor": 4
}
