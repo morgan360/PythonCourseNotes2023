{
 "cells": [
  {
   "cell_type": "markdown",
   "metadata": {},
   "source": [
    "version: 3.0 - Morgan McKnight - 2022-07-07 14:26:06 "
   ]
  },
  {
   "cell_type": "markdown",
   "metadata": {},
   "source": [
    "# <center>Functions(1)</center>\n",
    "![functions](images/title_functions.png)"
   ]
  },
  {
   "cell_type": "markdown",
   "metadata": {},
   "source": [
    "## Problem 7 - How to make money from programming.\n",
    "##### Part (a)\n",
    "Create a deck of cards from the two lists below (you will need a loop within a loop). Deal 5 cards to two hands.\n",
    "hand1 = list\n",
    "hand 2 = list\n",
    "\n",
    "##### Part (b)\n",
    "\n",
    "Shuffle the deck of cards and print the output.\n",
    "```python\n",
    "random.shuffle() \n",
    "``` \n",
    "\n",
    "The best way to print is use the following:\n",
    "\n",
    "```\n",
    "print(*cards, sep=\"\\n\")\n",
    "```\n",
    "\n",
    "##### Part (c)\n",
    "Modify the above game so that two people are dealt cards, <b>BUT</b> the second person cannot get any of the same cards as the first. **Hint** for removing items from a list:\n",
    "```python\n",
    "# animals list\n",
    "animals = [ ('cat'), ('dog'), ('rabbit'), ('guinea pig')]\n",
    "\n",
    "# 'dog' is removed\n",
    "animals.remove('dog')\n",
    "\n",
    "# Updated animals List\n",
    "print('Updated animals list: ', animals)\n",
    "```\n",
    "\n"
   ]
  },
  {
   "cell_type": "markdown",
   "metadata": {},
   "source": [
    "# Functions\n",
    "In this lesson we will be learning about functions. Functions are basically some instructions packaged together that perform a specific task. Use the <b>def</b> keyword to define a function. The brackets in the function are used to add arguments to your function call. (see below)<br>\n",
    "\n",
    "**Yipee!** <br>\n",
    "<div>\n",
    "<img src=\"images/functions1.png\" alt=\"Functions\" width=\"500\" align=\"center\"/></div>\n",
    "\n",
    "\n",
    "\n"
   ]
  },
  {
   "cell_type": "code",
   "execution_count": null,
   "metadata": {},
   "outputs": [],
   "source": [
    "# Create a function\n",
    "def hello_func():\n",
    "    pass # The pass function is a placeholder and does nothing"
   ]
  },
  {
   "cell_type": "code",
   "execution_count": null,
   "metadata": {},
   "outputs": [],
   "source": [
    "# Expand the function\n",
    "def hello_func():\n",
    "    greet = \"This is a new  function\"\n",
    "    return greet"
   ]
  },
  {
   "cell_type": "code",
   "execution_count": null,
   "metadata": {},
   "outputs": [],
   "source": [
    "# To call a function just type the name followed by the brackets\n",
    "\n",
    "result = hello_func()\n",
    "print(result)"
   ]
  },
  {
   "cell_type": "code",
   "execution_count": null,
   "metadata": {},
   "outputs": [],
   "source": [
    "result = hello_func()\n",
    "print(result)"
   ]
  },
  {
   "cell_type": "markdown",
   "metadata": {},
   "source": [
    "One of the benefits of functions is that they allow us to reuse code without repeating ourselves, so let's say for example that we had to print out some text at several locations throughout our program"
   ]
  },
  {
   "cell_type": "code",
   "execution_count": null,
   "metadata": {},
   "outputs": [],
   "source": [
    "# You can run the same function as often as you wish anywhere in your program.\n",
    "x = hello_func()\n",
    "\n",
    "#  To change the function you only need to change it in the definitiion"
   ]
  },
  {
   "cell_type": "code",
   "execution_count": null,
   "metadata": {},
   "outputs": [],
   "source": [
    "print(x)"
   ]
  },
  {
   "cell_type": "markdown",
   "metadata": {},
   "source": [
    "## Keep DRY\n",
    "One of the great advantages of functions is that once you change the function the changes are seen everywhere that the function is called (used). This is referred to as keeping your code **DRY** which stands for Don't Repeat Yourself. It's a common mistake for people new to programming to repeat the same things throughout their code when really they could either put their code into certain variables or functions so that it's in a single location."
   ]
  },
  {
   "cell_type": "markdown",
   "metadata": {},
   "source": [
    "### Function with No arguments\n"
   ]
  },
  {
   "cell_type": "code",
   "execution_count": null,
   "metadata": {},
   "outputs": [],
   "source": [
    "# Function with No arguments\n",
    "def what_time_is_it():\n",
    "    from datetime import datetime\n",
    "    now = datetime.now()\n",
    "    current_time = now.strftime(\"%H:%M:%S\")\n",
    "    return current_time\n",
    "#     print(\"Current Time =\", current_time)"
   ]
  },
  {
   "cell_type": "code",
   "execution_count": null,
   "metadata": {
    "scrolled": true
   },
   "outputs": [],
   "source": [
    "# call it when ever you need it\n",
    "time_now = what_time_is_it()\n",
    "print(time_now)"
   ]
  },
  {
   "cell_type": "markdown",
   "metadata": {},
   "source": [
    "### Function with multiple arguments"
   ]
  },
  {
   "cell_type": "code",
   "execution_count": null,
   "metadata": {},
   "outputs": [],
   "source": [
    "# Function with multiple arguments\n",
    "def average(a , b, c):\n",
    "    ''' Function To calculate the average of 3 numbers '''\n",
    "    return (a+b+c)/3"
   ]
  },
  {
   "cell_type": "code",
   "execution_count": null,
   "metadata": {},
   "outputs": [],
   "source": [
    "# Calling the Function note the result is stored the variable answer\n",
    "ans = average(506 , 40, 458)\n",
    "print(ans)"
   ]
  },
  {
   "cell_type": "markdown",
   "metadata": {},
   "source": [
    "## Return Statement\n",
    "You can think of a function  like a black box you don't need to know exactly how it's doing what it's doing you're mainly concerned about the input and the return value. A return statement is used to end the execution of the function call and “returns” the result (value of the expression following the return keyword) to the caller. The statements after the return statements are not executed. If the return statement is without any expression, then the special value None is returned."
   ]
  },
  {
   "cell_type": "code",
   "execution_count": null,
   "metadata": {},
   "outputs": [],
   "source": [
    "# Inbult function examples\n",
    "print(len('cat4vcxzv`vc`x558x'))"
   ]
  },
  {
   "cell_type": "code",
   "execution_count": null,
   "metadata": {},
   "outputs": [],
   "source": [
    "# Create a function. You must return the function if you want the result.\n",
    "def m_add(x, y):\n",
    "    total = x + y\n",
    "    return total"
   ]
  },
  {
   "cell_type": "code",
   "execution_count": null,
   "metadata": {},
   "outputs": [],
   "source": [
    "# Calling and using the function\n",
    "x = m_add(5,7)\n",
    "print(x)\n",
    "\n",
    "# using the function\n",
    "y = m_add(2,8)\n",
    "print(y)\n",
    "\n",
    "# using the function\n",
    "z = m_add(2.08,8.67)\n",
    "print(z)\n"
   ]
  },
  {
   "cell_type": "code",
   "execution_count": null,
   "metadata": {},
   "outputs": [],
   "source": [
    "# Using variables\n",
    "r = 70\n",
    "s = 8\n",
    "ans = m_add(r,s)\n",
    "print(ans)"
   ]
  },
  {
   "cell_type": "code",
   "execution_count": null,
   "metadata": {},
   "outputs": [],
   "source": [
    "# A shortned version\n",
    "def add(x, y):\n",
    "    return x + y # the code and the return keyword together"
   ]
  },
  {
   "cell_type": "code",
   "execution_count": null,
   "metadata": {},
   "outputs": [],
   "source": [
    "# Example\n",
    "x = add(5,7)\n",
    "print(x)\n"
   ]
  },
  {
   "cell_type": "code",
   "execution_count": null,
   "metadata": {},
   "outputs": [],
   "source": [
    "def hello_func():\n",
    "    return \"This what I am returning\""
   ]
  },
  {
   "cell_type": "code",
   "execution_count": null,
   "metadata": {
    "scrolled": false
   },
   "outputs": [],
   "source": [
    "hello_func()"
   ]
  },
  {
   "cell_type": "code",
   "execution_count": null,
   "metadata": {
    "scrolled": false
   },
   "outputs": [],
   "source": [
    "print(hello_func())"
   ]
  },
  {
   "cell_type": "code",
   "execution_count": null,
   "metadata": {},
   "outputs": [],
   "source": [
    "# Function Methods\n",
    "#print(len(hello_func()))\n",
    "      \n",
    "print(hello_func().upper()) # using functions and methods"
   ]
  },
  {
   "cell_type": "code",
   "execution_count": null,
   "metadata": {},
   "outputs": [],
   "source": [
    "# Multiple return statments\n",
    "def odd_even(num):\n",
    "    remainder = num % 2 \n",
    "    if remainder == 0:\n",
    "        return 'even'\n",
    "    elif remainder == 1:\n",
    "        return 'odd'"
   ]
  },
  {
   "cell_type": "code",
   "execution_count": null,
   "metadata": {},
   "outputs": [],
   "source": [
    "print(odd_even(9))"
   ]
  },
  {
   "cell_type": "code",
   "execution_count": null,
   "metadata": {},
   "outputs": [],
   "source": [
    "# returning multiple values\n",
    "def return_multiple_values():  \n",
    "    return 1, 2, 3, 4\n",
    "\n",
    "\n",
    "# Call the function\n",
    "result = return_multiple_values()\n",
    "print(result)\n",
    "\n",
    "\n",
    "#Find out the type of variable\n",
    "# print(type(result))\n",
    "\n",
    "# x= [3,6]\n",
    "print(type(result))\n",
    "# print(type(return_multiple_values()))"
   ]
  },
  {
   "cell_type": "code",
   "execution_count": null,
   "metadata": {},
   "outputs": [],
   "source": [
    "def return_multiple_values(num):\n",
    "    ans1 = num * 1\n",
    "    ans2 = num * 2\n",
    "    ans3 = num * 3\n",
    "    return ans1,ans2,ans3"
   ]
  },
  {
   "cell_type": "code",
   "execution_count": null,
   "metadata": {},
   "outputs": [],
   "source": [
    "result = return_multiple_values(6)\n",
    "print(result)\n",
    "print(result[1])"
   ]
  },
  {
   "cell_type": "code",
   "execution_count": null,
   "metadata": {
    "scrolled": true
   },
   "outputs": [],
   "source": [
    "# Input Types\n",
    "x = input()\n",
    "# x = int(x)\n",
    "print(type(x))"
   ]
  },
  {
   "cell_type": "markdown",
   "metadata": {},
   "source": [
    "## Chaining Functions\n",
    "Don't get caught up on understanding every detail of what every function does just focus on the input and what is returned. For example when we call the **len()** function on a string. If we print out len() of a string. When we run this, it just returns an integer that is the number of characters in our string. We have no idea what the code that produces that result looks like but we do know that we passed in a string and that it returned an integer. Looking at functions in this way we'll help you become better when working with Python, because we can treat the return value just like the data type that it is. Understanding this will allow us to chain together some functionality."
   ]
  },
  {
   "cell_type": "code",
   "execution_count": null,
   "metadata": {},
   "outputs": [],
   "source": [
    "print(len (\"morgan1\"))"
   ]
  },
  {
   "cell_type": "markdown",
   "metadata": {},
   "source": [
    "## Sending Arguments to Functions\n",
    " Arguments are values that can me sent to a function to be processed. When there is more than one argument (e.g. two numbers) then the arguments are separated by a comma."
   ]
  },
  {
   "cell_type": "code",
   "execution_count": null,
   "metadata": {},
   "outputs": [],
   "source": [
    "# A function with an argument\n",
    "def hello_pal(x):\n",
    "    return 'Hello ' + x"
   ]
  },
  {
   "cell_type": "code",
   "execution_count": null,
   "metadata": {},
   "outputs": [],
   "source": [
    "x = 'Timity'\n",
    "ret = hello_pal(x)\n",
    "print(ret)"
   ]
  },
  {
   "cell_type": "code",
   "execution_count": null,
   "metadata": {},
   "outputs": [],
   "source": [
    "def hello_pal(greeting, name):\n",
    "    print(greeting + ' ' + name)"
   ]
  },
  {
   "cell_type": "code",
   "execution_count": null,
   "metadata": {},
   "outputs": [],
   "source": [
    "x = 'Hello'\n",
    "y = 'Mary'\n",
    "\n",
    "hello_pal(x,y)"
   ]
  },
  {
   "cell_type": "markdown",
   "metadata": {},
   "source": [
    "## SAQ1 How many letters make up a word?\n",
    "\n",
    "Create a function that receives a word as an argument, and returns the number of letters in the word. For example,\n",
    "```python\n",
    "print(word_length('Theory'))\n",
    "```"
   ]
  },
  {
   "cell_type": "code",
   "execution_count": null,
   "metadata": {},
   "outputs": [],
   "source": [
    "# How many letters make up a word? Add your Code here\n"
   ]
  },
  {
   "cell_type": "markdown",
   "metadata": {},
   "source": [
    "## SAQ 2 : Separate the Odd\n",
    "Write a Python program to print the odd numbers from a given list. Go to the editor\n",
    "Sample List : [1, 2, 3, 4, 5, 6, 7, 8, 9]\n",
    "Expected Result : [1, 3, 5, 7, 9]  \n",
    "Hint: See Arithmetic functions"
   ]
  },
  {
   "cell_type": "code",
   "execution_count": null,
   "metadata": {},
   "outputs": [],
   "source": [
    " #Add your answer here \n"
   ]
  },
  {
   "cell_type": "markdown",
   "metadata": {},
   "source": [
    "## Default Arguments"
   ]
  },
  {
   "cell_type": "code",
   "execution_count": null,
   "metadata": {},
   "outputs": [],
   "source": [
    "def m_mult(x,y):\n",
    "    tot = x*y\n",
    "    return tot"
   ]
  },
  {
   "cell_type": "code",
   "execution_count": null,
   "metadata": {},
   "outputs": [],
   "source": [
    "print(m_mult(8,9))"
   ]
  },
  {
   "cell_type": "code",
   "execution_count": null,
   "metadata": {},
   "outputs": [],
   "source": [
    "# A function with default arguments\n",
    "def hello_pal(greeting, name = 'A. N. Other'): # Default name for this attribute\n",
    "    print(greeting + ' ' + name)"
   ]
  },
  {
   "cell_type": "code",
   "execution_count": null,
   "metadata": {},
   "outputs": [],
   "source": [
    "hello_pal()"
   ]
  },
  {
   "cell_type": "code",
   "execution_count": null,
   "metadata": {
    "scrolled": true
   },
   "outputs": [],
   "source": [
    "hello_pal('hi')"
   ]
  },
  {
   "cell_type": "code",
   "execution_count": null,
   "metadata": {
    "scrolled": true
   },
   "outputs": [],
   "source": [
    "greeting = 'Hi' \n",
    "name = 'Morgan'\n",
    "hello_pal(greeting, name)\n",
    "hello_pal(greeting)\n",
    "hello_pal()"
   ]
  },
  {
   "cell_type": "code",
   "execution_count": null,
   "metadata": {},
   "outputs": [],
   "source": [
    "def average(a , b, c):\n",
    "    ''' Function To calculate the average of 3 numbers '''\n",
    "    return (a+b+c)/3"
   ]
  },
  {
   "cell_type": "code",
   "execution_count": null,
   "metadata": {},
   "outputs": [],
   "source": [
    "print(average(1,5,6,9))"
   ]
  },
  {
   "cell_type": "markdown",
   "metadata": {},
   "source": [
    "## Args and Kwargs (Advanced Topic)\n",
    "\n",
    "In Python, we can pass a variable number of arguments to a function using special symbols. There are two special symbols:\n",
    "<ol>\n",
    "    <li><b>args </b> (Non Keyword Arguments)</li>\n",
    "    <li><b>kwargs</b> (Keyword Arguments)</li>\n",
    "</ol>\n",
    "<blockquote>We use *args and **kwargs as an argument when we are unsure about the number of arguments to pass to the functions.</blockquote>\n",
    "Use args and kwargs (key word arguments) to pass lists and dictionaries to a function."
   ]
  },
  {
   "cell_type": "code",
   "execution_count": null,
   "metadata": {},
   "outputs": [],
   "source": [
    "# The problem with argument definitiions\n",
    "def add(x,y):\n",
    "    z= x+y\n",
    "    print(z)\n",
    "    \n",
    "# add(7,6)\n",
    "add(2,3,4,6)\n"
   ]
  },
  {
   "cell_type": "code",
   "execution_count": null,
   "metadata": {},
   "outputs": [],
   "source": [
    "# Using Args note the * on the variable\n",
    "def adder(*nums):\n",
    "    sum = 0\n",
    "    for num in nums:\n",
    "#         sum = sum + num\n",
    "        sum += num\n",
    "    print(\"Total:\",sum)\n",
    "\n",
    "# adder(3,5)\n",
    "adder(4,5,6,5,6,7,8,9,10)\n",
    "adder(1,2,3,5,7)"
   ]
  },
  {
   "cell_type": "code",
   "execution_count": null,
   "metadata": {},
   "outputs": [],
   "source": [
    "# Using kwargs. Note the double **\n",
    "def intro(**data):\n",
    "    #print(\"\\n Data type of argument:\",type(data))\n",
    "    for key, value in data.items():\n",
    "        print(f\"{key} is {value}\")\n",
    "\n",
    "#call the function\n",
    "\n",
    "# intro(Firstname=\"Sita\", Lastname=\"Sharma\", Age=22, Phone=1234567890)\n",
    "\n",
    "intro(Firstname=\"John\", Lastname=\"Wood\", Email=\"johnwood@nomail.com\", Country=\"Wakanda\", Age=25, Phone=9876543210)\n"
   ]
  },
  {
   "cell_type": "code",
   "execution_count": null,
   "metadata": {},
   "outputs": [],
   "source": [
    "intro(Firstname=\"Sita\", Lastname=\"Sharma\", Age=22, Phone=1234567890)"
   ]
  },
  {
   "cell_type": "code",
   "execution_count": null,
   "metadata": {},
   "outputs": [],
   "source": [
    "intro(Firstname=\"John\", Lastname=\"Wood\", Email=\"johnwood@nomail.com\", Country=\"Wakanda\", Age=25, Phone=9876543210)"
   ]
  },
  {
   "cell_type": "code",
   "execution_count": null,
   "metadata": {},
   "outputs": [],
   "source": [
    "# A function with variable arguments and key-value pairs\n",
    "def student_information(*args,**kwargs):\n",
    "    print(args)\n",
    "    print(kwargs)"
   ]
  },
  {
   "cell_type": "code",
   "execution_count": null,
   "metadata": {
    "scrolled": true
   },
   "outputs": [],
   "source": [
    "student_information(\"History\", \"Maths\", \"Irish\",\"French\",  height = 65, name = \"Morgan\", Age = 22)"
   ]
  },
  {
   "cell_type": "code",
   "execution_count": null,
   "metadata": {},
   "outputs": [],
   "source": [
    "dict = {'height' : '65', 'name': 'Mary', 'Age': 22} \n",
    "\n",
    "listt = [65,'Morgan',22]\n",
    "\n",
    "print(dict['name'])\n",
    "\n",
    "print(listt[1])"
   ]
  },
  {
   "cell_type": "code",
   "execution_count": null,
   "metadata": {},
   "outputs": [],
   "source": [
    "# Inputs as Lists and Dictionaries\n",
    "courses = [\"Irish\",\"Geography\",\"History\"]\n",
    "info ={'name': 'john', 'age': 22}\n",
    "student_information(*courses,**info)"
   ]
  },
  {
   "cell_type": "markdown",
   "metadata": {},
   "source": [
    "## Doctrings\n",
    "In addition to commenting on your code, you should also use Docstrings to explain functions, methods  and classes. This will enable you or anyone else to understand what is the purpose of a particular function etc. Use a dunder to retrieve the information. (Double underscore)"
   ]
  },
  {
   "cell_type": "code",
   "execution_count": null,
   "metadata": {},
   "outputs": [],
   "source": [
    "# A function with a Dockstring\n",
    "def cube(a):\n",
    "    '''Returns the argument to the cube of itself. for example when a = 3 the answer is 3 to the power of 3 i.e. 27 '''\n",
    "    return a**3"
   ]
  },
  {
   "cell_type": "code",
   "execution_count": null,
   "metadata": {},
   "outputs": [],
   "source": [
    "cube(3)"
   ]
  },
  {
   "cell_type": "code",
   "execution_count": null,
   "metadata": {
    "scrolled": false
   },
   "outputs": [],
   "source": [
    "print(cube.__doc__)"
   ]
  },
  {
   "cell_type": "markdown",
   "metadata": {},
   "source": [
    "## Random Library"
   ]
  },
  {
   "cell_type": "code",
   "execution_count": 21,
   "metadata": {
    "scrolled": true
   },
   "outputs": [
    {
     "name": "stdout",
     "output_type": "stream",
     "text": [
      "Random variable generators.\n",
      "\n",
      "    bytes\n",
      "    -----\n",
      "           uniform bytes (values between 0 and 255)\n",
      "\n",
      "    integers\n",
      "    --------\n",
      "           uniform within range\n",
      "\n",
      "    sequences\n",
      "    ---------\n",
      "           pick random element\n",
      "           pick random sample\n",
      "           pick weighted random sample\n",
      "           generate random permutation\n",
      "\n",
      "    distributions on the real line:\n",
      "    ------------------------------\n",
      "           uniform\n",
      "           triangular\n",
      "           normal (Gaussian)\n",
      "           lognormal\n",
      "           negative exponential\n",
      "           gamma\n",
      "           beta\n",
      "           pareto\n",
      "           Weibull\n",
      "\n",
      "    distributions on the circle (angles 0 to 2pi)\n",
      "    ---------------------------------------------\n",
      "           circular uniform\n",
      "           von Mises\n",
      "\n",
      "General notes on the underlying Mersenne Twister core generator:\n",
      "\n",
      "* The period is 2**19937-1.\n",
      "* It is one of the most extensively tested generators in existence.\n",
      "* The random() method is implemented in C, executes in a single Python step,\n",
      "  and is, therefore, threadsafe.\n",
      "\n",
      "\n"
     ]
    }
   ],
   "source": [
    "#import a library called random\n",
    "import random as rd\n",
    "print(rd.__doc__)"
   ]
  },
  {
   "cell_type": "code",
   "execution_count": 17,
   "metadata": {
    "scrolled": true
   },
   "outputs": [
    {
     "name": "stdout",
     "output_type": "stream",
     "text": [
      "0.5424549968781887\n"
     ]
    }
   ],
   "source": [
    "print(rd.random())"
   ]
  },
  {
   "cell_type": "code",
   "execution_count": 18,
   "metadata": {},
   "outputs": [
    {
     "name": "stdout",
     "output_type": "stream",
     "text": [
      "6\n"
     ]
    }
   ],
   "source": [
    "# Think of a number between 0 and 9\n",
    "\n",
    "x = rd.randint(0,10)\n",
    "print(x)"
   ]
  },
  {
   "cell_type": "code",
   "execution_count": 36,
   "metadata": {},
   "outputs": [
    {
     "name": "stdout",
     "output_type": "stream",
     "text": [
      "['ten', 'ace', 'jack', 'Nine', 'king']\n",
      "\n",
      "\n",
      "\n",
      "\n",
      "['jack', 'Queen', 'ace', 'ten', 'Eight']\n"
     ]
    }
   ],
   "source": [
    "import random as rd\n",
    "\n",
    "cards = ['ace', 'king','Queen', 'jack', 'ten', 'Nine', 'Eight']\n",
    "\n",
    "hand1 = rd.sample(cards, 5) # Deal hand1\n",
    "print(hand1)\n",
    "\n",
    "print('\\n')\n",
    "# hand1.pop()\n",
    "# print(hand1)\n",
    "# print(len(cards))\n",
    "# print(*hand1, sep=\"\\n\")    \n",
    "\n",
    "# select 5 from 47 cards\n",
    "hand2 = random.sample(cards, 5)\n",
    "print('\\n')\n",
    "print(hand2)"
   ]
  },
  {
   "cell_type": "code",
   "execution_count": 37,
   "metadata": {},
   "outputs": [
    {
     "name": "stdout",
     "output_type": "stream",
     "text": [
      "['ten', 'ace', 'jack', 'king']\n"
     ]
    }
   ],
   "source": [
    "x = hand1.remove(\"Nine\")\n",
    "print(hand1)"
   ]
  },
  {
   "cell_type": "markdown",
   "metadata": {},
   "source": [
    "## Another example: Bring it all together\n",
    "\n",
    "Create a function that determines if a given year is a leap year. e.g. Is 2024 a leap year? <br>\n",
    "\n",
    "Make sure that it includes a doc string e.g. : <blockquote> Returns <b>True</b> for a leap year, <b>False</b> for non-leap years.</blockquote> Documents for the function is supposed to do. It is good practice to do this for every function."
   ]
  },
  {
   "cell_type": "code",
   "execution_count": null,
   "metadata": {},
   "outputs": [],
   "source": [
    "# Number of days per month. First value a placeholder for indexing purposes.\n",
    "month_days = [0,31,28,31,30,31,30,31,31,30,31,30,31]\n",
    "\n",
    "def is_leap(year):\n",
    "    \"\"\"Return true for a leap year, false for non-leap years\"\"\"\n",
    "    return year%4 == 0 and (year%100 != 0 or year%400 ==0)\n",
    "\n",
    "def days_in_month (year, month):\n",
    "    \"\"\"Return the number of days in that month in that year.\"\"\"\n",
    "    if not 1 <= month <= 12:\n",
    "        return \"Invalid Month\"\n",
    "    if month == 2 and is_leap(year):\n",
    "        return 29\n",
    "    return month_days[month]\n"
   ]
  },
  {
   "cell_type": "code",
   "execution_count": null,
   "metadata": {
    "scrolled": true
   },
   "outputs": [],
   "source": [
    "# print(is_leap.__doc__)\n",
    "print(days_in_month(2000,13))"
   ]
  },
  {
   "cell_type": "code",
   "execution_count": null,
   "metadata": {},
   "outputs": [],
   "source": [
    "print(is_leap(2050))"
   ]
  },
  {
   "cell_type": "markdown",
   "metadata": {},
   "source": [
    "## SAQ 3 : Interesting Problem\n",
    "Create a function that calculates both compound and simple interest. \n",
    "The user should be able to enter the sum invested, interest rate, duration in years and whether they wish to calculate  simple or compound  interest.\n",
    "The function should return the interest accrued and the final total amount.\n",
    "The resulting statement should be in this format:\n",
    " For , €100.00 invested at 2.0% Compound Interest for 1 year(s), \n",
    " you will earn €2.00 interest, and you will receive a total sum of €102.00.\n",
    "\n",
    "Note: Simple and Compound Interest are calculated using the formulae:\n",
    "```\n",
    "SI=> A = p*r*t\n",
    "CI=> A = p*(1+r)**t\n",
    "\n",
    "SI = Simple Interest\n",
    "CI = Compound Interest\n",
    "\n",
    "A= final amount\n",
    "p = principal\n",
    "r = interest\n",
    "t = time in years\n",
    "* = multiplied by\n",
    "** = power of\n",
    "```\n"
   ]
  },
  {
   "cell_type": "code",
   "execution_count": null,
   "metadata": {},
   "outputs": [],
   "source": [
    "# PUT YOUR ANSWER TO SAQ 4 HERE\n"
   ]
  },
  {
   "cell_type": "markdown",
   "metadata": {},
   "source": [
    "# Solve our problem 7 - Team Exercise\n",
    "You should now have enough information to solve the problem. You will be divided into teams and one person will be nominated as leader. It will be there job to write the solution with inputs from the other team members. When you come back from the breakout room you will be presented with a sentence to analyse.  \n",
    "**Note:** Anybody can be asked to explain the solution.\n",
    "\n",
    "Lists for card game:\n",
    "```python\n",
    "suits = [\"spades\", \"clubs\", \"hearts\", \"diamonds\"]\n",
    "faces = [\"2\", \"3\", \"4\", \"5\", \"6\", \"7\", \"8\", \"9\", \"10\", \"J\", \"Q\", \"K\", \"A\"]\n",
    "```"
   ]
  },
  {
   "cell_type": "code",
   "execution_count": null,
   "metadata": {
    "scrolled": true
   },
   "outputs": [],
   "source": [
    "# PART A\n",
    "# use an inner loop to create a deck of cards\n",
    "deck = [] # Empty Pack\n",
    "for suit in suits:\n",
    "    for face in faces:\n",
    "        #Add your answer(code) here"
   ]
  },
  {
   "cell_type": "code",
   "execution_count": null,
   "metadata": {},
   "outputs": [],
   "source": [
    "# PART B\n",
    "# Put your answer here\n"
   ]
  },
  {
   "cell_type": "code",
   "execution_count": null,
   "metadata": {},
   "outputs": [],
   "source": [
    "# PART C\n",
    "# Put your answer here\n"
   ]
  },
  {
   "cell_type": "markdown",
   "metadata": {},
   "source": [
    "![The End](images/the_end.png)"
   ]
  }
 ],
 "metadata": {
  "hide_input": false,
  "kernelspec": {
   "display_name": "Python 3 (ipykernel)",
   "language": "python",
   "name": "python3"
  },
  "language_info": {
   "codemirror_mode": {
    "name": "ipython",
    "version": 3
   },
   "file_extension": ".py",
   "mimetype": "text/x-python",
   "name": "python",
   "nbconvert_exporter": "python",
   "pygments_lexer": "ipython3",
   "version": "3.9.12"
  },
  "toc": {
   "base_numbering": 1,
   "nav_menu": {},
   "number_sections": true,
   "sideBar": true,
   "skip_h1_title": false,
   "title_cell": "Table of Contents",
   "title_sidebar": "Contents",
   "toc_cell": false,
   "toc_position": {
    "height": "calc(100% - 180px)",
    "left": "10px",
    "top": "150px",
    "width": "367.391px"
   },
   "toc_section_display": true,
   "toc_window_display": false
  },
  "varInspector": {
   "cols": {
    "lenName": 16,
    "lenType": 16,
    "lenVar": 40
   },
   "kernels_config": {
    "python": {
     "delete_cmd_postfix": "",
     "delete_cmd_prefix": "del ",
     "library": "var_list.py",
     "varRefreshCmd": "print(var_dic_list())"
    },
    "r": {
     "delete_cmd_postfix": ") ",
     "delete_cmd_prefix": "rm(",
     "library": "var_list.r",
     "varRefreshCmd": "cat(var_dic_list()) "
    }
   },
   "types_to_exclude": [
    "module",
    "function",
    "builtin_function_or_method",
    "instance",
    "_Feature"
   ],
   "window_display": false
  }
 },
 "nbformat": 4,
 "nbformat_minor": 4
}
